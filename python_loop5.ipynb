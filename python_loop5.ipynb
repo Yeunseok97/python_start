{
  "nbformat": 4,
  "nbformat_minor": 0,
  "metadata": {
    "colab": {
      "provenance": [],
      "collapsed_sections": [],
      "authorship_tag": "ABX9TyM+BqeXsBxwTPRie/o4lryz",
      "include_colab_link": true
    },
    "kernelspec": {
      "name": "python3",
      "display_name": "Python 3"
    },
    "language_info": {
      "name": "python"
    }
  },
  "cells": [
    {
      "cell_type": "markdown",
      "metadata": {
        "id": "view-in-github",
        "colab_type": "text"
      },
      "source": [
        "<a href=\"https://colab.research.google.com/github/Yeunseok97/python_start/blob/main/python_loop5.ipynb\" target=\"_parent\"><img src=\"https://colab.research.google.com/assets/colab-badge.svg\" alt=\"Open In Colab\"/></a>"
      ]
    },
    {
      "cell_type": "markdown",
      "source": [
        "171\n",
        "\n",
        "아래와 같이 리스트의 데이터를 출력하라. 단, for문과 range문을 사용하라.\n",
        "\n",
        "    price_list = [32100, 32150, 32000, 32500]"
      ],
      "metadata": {
        "id": "DLXvaadHxpwo"
      }
    },
    {
      "cell_type": "code",
      "source": [
        "price_list = [32100, 32150, 32000, 32500]\n",
        "for i in range(len(price_list)):\n",
        "  print(price_list[i])"
      ],
      "metadata": {
        "colab": {
          "base_uri": "https://localhost:8080/"
        },
        "id": "xchtcGFTxrlM",
        "outputId": "01c238e7-f9ce-4e29-e9dc-e3adffc4f8fe"
      },
      "execution_count": 6,
      "outputs": [
        {
          "output_type": "stream",
          "name": "stdout",
          "text": [
            "32100\n",
            "32150\n",
            "32000\n",
            "32500\n"
          ]
        }
      ]
    },
    {
      "cell_type": "markdown",
      "source": [
        "172\n",
        "\n",
        "아래와 같이 리스트의 데이터를 출력하라. 단, for문과 range문을 사용하라.\n",
        "\n",
        "price_list = [32100, 32150, 32000, 32500]"
      ],
      "metadata": {
        "id": "uZ5Lyidtxp1P"
      }
    },
    {
      "cell_type": "code",
      "source": [
        "price_list = [32100, 32150, 32000, 32500]\n",
        "for i in range(len(price_list)):\n",
        "  print(len(price_list)-(i+1),price_list[i])"
      ],
      "metadata": {
        "colab": {
          "base_uri": "https://localhost:8080/"
        },
        "id": "Pyaz6p6gxrvd",
        "outputId": "63ad3da7-9316-4155-b5ce-100f859cc9ef"
      },
      "execution_count": 40,
      "outputs": [
        {
          "output_type": "stream",
          "name": "stdout",
          "text": [
            "3 32100\n",
            "2 32150\n",
            "1 32000\n",
            "0 32500\n"
          ]
        }
      ]
    },
    {
      "cell_type": "markdown",
      "source": [
        "173\n",
        "\n",
        "아래와 같이 리스트의 데이터를 출력하라. 단, for문과 range문을 사용하라.\n",
        "\n",
        "price_list = [32100, 32150, 32000, 32500]\n",
        "0 32100\n",
        "1 32150\n",
        "2 32000\n",
        "3 32500"
      ],
      "metadata": {
        "id": "Xnt8fq7xxp5u"
      }
    },
    {
      "cell_type": "code",
      "source": [
        "price_list = [32100, 32150, 32000, 32500]\n",
        "for i in range(len(price_list)):\n",
        "  print(i,price_list[i])"
      ],
      "metadata": {
        "colab": {
          "base_uri": "https://localhost:8080/"
        },
        "id": "A3Lh7UQFxr4_",
        "outputId": "4ef7238f-6a62-41a0-d918-fd7da9cadae5"
      },
      "execution_count": 41,
      "outputs": [
        {
          "output_type": "stream",
          "name": "stdout",
          "text": [
            "0 32100\n",
            "1 32150\n",
            "2 32000\n",
            "3 32500\n"
          ]
        }
      ]
    },
    {
      "cell_type": "markdown",
      "source": [
        "174\n",
        "\n",
        "아래와 같이 리스트의 데이터를 출력하라. 단, for문과 range문을 사용하라.\n",
        "\n",
        "    price_list = [32100, 32150, 32000, 32500]\n",
        "    \n",
        "    100 32150\n",
        "    110 32000\n",
        "    120 32500"
      ],
      "metadata": {
        "id": "5OyN3ZEWxp_F"
      }
    },
    {
      "cell_type": "code",
      "source": [
        "price_list = [32100, 32150, 32000, 32500]\n",
        "for i in range(1,4):\n",
        "  \n",
        "  print(90+(10*i),price_list[i])"
      ],
      "metadata": {
        "colab": {
          "base_uri": "https://localhost:8080/"
        },
        "id": "abSlTsQPxsBl",
        "outputId": "604bd2d8-c03d-4081-eb4a-431426c2c65c"
      },
      "execution_count": 58,
      "outputs": [
        {
          "output_type": "stream",
          "name": "stdout",
          "text": [
            "100 32150\n",
            "110 32000\n",
            "120 32500\n"
          ]
        }
      ]
    },
    {
      "cell_type": "markdown",
      "source": [
        "175\n",
        "\n",
        "my_list를 아래와 같이 출력하라.\n",
        "\n",
        "    my_list = [\"가\", \"나\", \"다\", \"라\"]\n",
        "    가 나\n",
        "    나 다\n",
        "    다 라"
      ],
      "metadata": {
        "id": "gNCcNv-YxqWU"
      }
    },
    {
      "cell_type": "code",
      "source": [
        "my_list = [\"가\", \"나\", \"다\", \"라\"]\n",
        "# for i in range(0,3):\n",
        "# for i in range(len(my_list)-1):\n",
        "  print(my_list[i], my_list[i+1])\n",
        "\n",
        "for i in range(1, len(my_list)):\n",
        "  print(my_list[i-1] , my_list[i])\n"
      ],
      "metadata": {
        "colab": {
          "base_uri": "https://localhost:8080/"
        },
        "id": "4kSwJdYuxsKE",
        "outputId": "4d827f7e-8280-4e9d-8a81-c2486802c9cf"
      },
      "execution_count": 77,
      "outputs": [
        {
          "output_type": "stream",
          "name": "stdout",
          "text": [
            "가 나\n",
            "나 다\n",
            "다 라\n"
          ]
        }
      ]
    },
    {
      "cell_type": "markdown",
      "source": [
        "176\n",
        "\n",
        "리스트를 아래와 같이 출력하라.\n",
        "\n",
        "    my_list = [\"가\", \"나\", \"다\", \"라\", \"마\"]\n",
        "    가 나 다\n",
        "    나 다 라\n",
        "    다 라 마"
      ],
      "metadata": {
        "id": "J1Cr228GxqcP"
      }
    },
    {
      "cell_type": "code",
      "source": [
        "#sol1)\n",
        "my_list = [\"가\", \"나\", \"다\", \"라\", \"마\"]\n",
        "for i in range(2,len(my_list)):\n",
        "  print(my_list[i-2], my_list[i-1], my_list[i])\n",
        "print()\n",
        "#sol2) 인덱스 확인을 위한 위치 변경\n",
        "for i in range( len(my_list) - 2 ):\n",
        "    print(my_list[i], my_list[i+1], my_list[i+2])\n",
        "print()\n",
        "\n",
        "#sol3) 인덱스 확인을 위한 위치 변경\n",
        "for i in range( 1, len(my_list) - 1 ):\n",
        "    print(my_list[i-1], my_list[i], my_list[i+1])\n",
        "print()\n"
      ],
      "metadata": {
        "colab": {
          "base_uri": "https://localhost:8080/"
        },
        "id": "Sj6QJHtexsSM",
        "outputId": "fd6b8fbb-8db2-48af-8a54-60e176b19919"
      },
      "execution_count": 86,
      "outputs": [
        {
          "output_type": "stream",
          "name": "stdout",
          "text": [
            "가 나 다\n",
            "나 다 라\n",
            "다 라 마\n",
            "\n",
            "가 나 다\n",
            "나 다 라\n",
            "다 라 마\n",
            "\n",
            "가 나 다\n",
            "나 다 라\n",
            "다 라 마\n",
            "\n"
          ]
        }
      ]
    },
    {
      "cell_type": "markdown",
      "source": [
        "177\n",
        "\n",
        "반복문과 range 함수를 사용해서 my_list를 아래와 같이 출력하라.\n",
        "\n",
        "    my_list = [\"가\", \"나\", \"다\", \"라\"]\n",
        "    \n",
        "    라 다\n",
        "\n",
        "    다 나\n",
        "\n",
        "    나 가"
      ],
      "metadata": {
        "id": "mABgJOKVxqhd"
      }
    },
    {
      "cell_type": "code",
      "source": [
        "my_list = [\"가\", \"나\", \"다\", \"라\"]\n",
        "for i in range(len(my_list),1,-1):\n",
        "  print(my_list[i-1], my_list[i-2])"
      ],
      "metadata": {
        "colab": {
          "base_uri": "https://localhost:8080/"
        },
        "id": "jwZ0e2GexsaV",
        "outputId": "5630d5dd-edc9-4e39-f531-434fce181cde"
      },
      "execution_count": 99,
      "outputs": [
        {
          "output_type": "stream",
          "name": "stdout",
          "text": [
            "라 다\n",
            "다 나\n",
            "나 가\n"
          ]
        }
      ]
    },
    {
      "cell_type": "markdown",
      "source": [
        "178\n",
        "\n",
        "리스트에는 네 개의 정수가 저장되어 있다. 각각의 데이터에 \n",
        "\n",
        "대해서 자신과 우측값과의 차분값을 화면에 출력하라.\n",
        "\n",
        "    my_list = [100, 200, 400, 800]\n",
        "예를들어 100을 기준으로 우측에 위치한 200과의 차분 값를 \n",
        "\n",
        "화면에 출력하고, 200을 기준으로 우측에 위치한 400과의 \n",
        "\n",
        "차분값을 화면에 출력한다. 이어서 400을 기준으로 우측에 \n",
        "\n",
        "위치한 800과의 차분값을 화면에 출력한다.\n",
        "\n",
        "    100\n",
        "    200\n",
        "    400"
      ],
      "metadata": {
        "id": "bzvcsKJ1xqmc"
      }
    },
    {
      "cell_type": "code",
      "source": [
        "my_list = [100, 200, 400, 800]\n",
        "#sol1)\n",
        "for i in range(1, len(my_list)):\n",
        "  print(my_list[i] - my_list[i-1])\n",
        "print()\n",
        "#sol2)\n",
        "for i in range(len(my_list)-1):\n",
        "  print(my_list[i+1]-my_list[i])"
      ],
      "metadata": {
        "colab": {
          "base_uri": "https://localhost:8080/"
        },
        "id": "uojGZ9HGxsiO",
        "outputId": "ecb20f41-347c-4e38-897e-e59d4f5d1865"
      },
      "execution_count": 116,
      "outputs": [
        {
          "output_type": "stream",
          "name": "stdout",
          "text": [
            "100\n",
            "200\n",
            "400\n",
            "\n",
            "100\n",
            "200\n",
            "400\n"
          ]
        }
      ]
    },
    {
      "cell_type": "markdown",
      "source": [
        "179\n",
        "\n",
        "리스트에는 6일 간의 종가 데이터가 저장되어 있다. 종가 \n",
        "\n",
        "데이터의 3일 이동 평균을 계산하고 이를 화면에 출력하라.\n",
        "\n",
        "    my_list = [100, 200, 400, 800, 1000, 1300]\n",
        "\n",
        "첫 번째 줄에는 100, 200, 400의 평균값이 출력된다. 두 번째 \n",
        "\n",
        "줄에는 200, 400, 800의 평균값이 출력된다. 같은 방식으로 \n",
        "\n",
        "나머지 데이터의 평균을 출력한다.\n",
        "\n",
        "    233.33333333333334\n",
        "    466.6666666666667\n",
        "    733.3333333333334\n",
        "    1033.3333333333333"
      ],
      "metadata": {
        "id": "l5gcyin8xqrG"
      }
    },
    {
      "cell_type": "code",
      "source": [
        "my_list = [100, 200, 400, 800, 1000, 1300]\n",
        "#sol1)\n",
        "for i in range(2, len(my_list)):\n",
        "  print( (my_list[(i-2)] + my_list[i-1] + my_list[(i)])/3 )\n",
        "\n",
        "print()\n",
        "\n",
        "#sol2)\n",
        "\n",
        "for i in range(1, len(my_list)-1):\n",
        "  print(abs(my_list[i-1] + my_list[i] + my_list[i+1])/3)\n",
        "\n",
        "# for i in range(1, len(my_list) - 1):\n",
        "#     print(abs(my_list[i-1] + my_list[i] + my_list[i+1]) / 3)  "
      ],
      "metadata": {
        "colab": {
          "base_uri": "https://localhost:8080/"
        },
        "id": "Mcgd6s-yxsp-",
        "outputId": "41b2020d-2124-4102-b2db-e58212ab6869"
      },
      "execution_count": 133,
      "outputs": [
        {
          "output_type": "stream",
          "name": "stdout",
          "text": [
            "233.33333333333334\n",
            "466.6666666666667\n",
            "733.3333333333334\n",
            "1033.3333333333333\n",
            "\n",
            "233.33333333333334\n",
            "466.6666666666667\n",
            "733.3333333333334\n",
            "1033.3333333333333\n"
          ]
        }
      ]
    },
    {
      "cell_type": "markdown",
      "source": [
        "180\n",
        "\n",
        "리스트에 5일간의 저가, 고가 정보가 저장돼 있다. 고가와 \n",
        "\n",
        "저가의 차를 변동폭이라고 정의할 때, low, high 두 개의 \n",
        "\n",
        "리스트를 사용해서 5일간의 변동폭을 volatility 리스트에 \n",
        "\n",
        "저장하라.\n",
        "\n",
        "    low_prices  = [100, 200, 400, 800, 1000]\n",
        "    high_prices = [150, 300, 430, 880, 1000]"
      ],
      "metadata": {
        "id": "lAREZDaixqvU"
      }
    },
    {
      "cell_type": "code",
      "source": [
        "low_prices  = [100, 200, 400, 800, 1000]\n",
        "high_prices = [150, 300, 430, 880, 1000]\n",
        "\n",
        "\n",
        "volatility = []\n",
        "\n",
        "for i in range(len(high_prices)):\n",
        "  v = high_prices[i] - low_prices[i]\n",
        "  volatility.append(v)\n",
        "print(volatility)"
      ],
      "metadata": {
        "colab": {
          "base_uri": "https://localhost:8080/"
        },
        "id": "8JYRWP1fxsy3",
        "outputId": "9bbf0371-8e72-4169-b44d-16ea8995b919"
      },
      "execution_count": 135,
      "outputs": [
        {
          "output_type": "stream",
          "name": "stdout",
          "text": [
            "[50, 100, 30, 80, 0]\n"
          ]
        }
      ]
    }
  ]
}