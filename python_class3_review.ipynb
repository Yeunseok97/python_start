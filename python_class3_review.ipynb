{
  "nbformat": 4,
  "nbformat_minor": 0,
  "metadata": {
    "colab": {
      "provenance": [],
      "authorship_tag": "ABX9TyOQgvEG+A13yJOkNS2scr5E",
      "include_colab_link": true
    },
    "kernelspec": {
      "name": "python3",
      "display_name": "Python 3"
    },
    "language_info": {
      "name": "python"
    }
  },
  "cells": [
    {
      "cell_type": "markdown",
      "metadata": {
        "id": "view-in-github",
        "colab_type": "text"
      },
      "source": [
        "<a href=\"https://colab.research.google.com/github/Yeunseok97/python_start/blob/main/python_class3_review.ipynb\" target=\"_parent\"><img src=\"https://colab.research.google.com/assets/colab-badge.svg\" alt=\"Open In Colab\"/></a>"
      ]
    },
    {
      "cell_type": "markdown",
      "source": [],
      "metadata": {
        "id": "w9Flx3crFwkw"
      }
    },
    {
      "cell_type": "code",
      "source": [
        "# 랜덤 모듈 불러오기\n",
        "import random\n",
        "\n",
        "#은행 클래스 생성,(이름, 잔고만 받음)\n",
        "#객체의 은행은 SC Bank로 고정\n",
        "class Account():\n",
        "\n",
        "  def __init__(self,name, balance):\n",
        "    self.name = name\n",
        "    self.balance = balance\n",
        "    self.bank = \"SC Bank\"\n",
        "    #계좌번호 생성\n",
        "    num1 = random.randint(0,999)\n",
        "    num2 = random.randint(0,99)\n",
        "    num3 = random.randint(0,999999)\n",
        "    num1 = str(num1).zfill(3)\n",
        "    num2 = str(num2).zfill(2)\n",
        "    num3 = str(num3).zfill(6)\n",
        "    self.acc_num = num1+\"-\"+ num2 +\"-\"+num3"
      ],
      "metadata": {
        "id": "6Y2xIn3YFxoX"
      },
      "execution_count": null,
      "outputs": []
    },
    {
      "cell_type": "markdown",
      "source": [],
      "metadata": {
        "id": "siWKlBYRFIi8"
      }
    },
    {
      "cell_type": "code",
      "source": [
        "# 랜덤 모듈 불러오기\n",
        "import random\n",
        "\n",
        "#은행 클래스 생성,(이름, 잔고만 받음)\n",
        "#객체의 은행은 SC Bank로 고정\n",
        "class Account():\n",
        "  account_count = 0\n",
        "  def __init__(self,name, balance):\n",
        "    self.name = name\n",
        "    self.balance = balance\n",
        "    self.bank = \"SC Bank\"\n",
        "    #계좌번호 생성\n",
        "    num1 = random.randint(0,999)\n",
        "    num2 = random.randint(0,99)\n",
        "    num3 = random.randint(0,999999)\n",
        "    num1 = str(num1).zfill(3)\n",
        "    num2 = str(num2).zfill(2)\n",
        "    num3 = str(num3).zfill(6)\n",
        "    self.acc_num = num1+\"-\"+ num2 +\"-\"+num3\n",
        "    Account.account_count +=1"
      ],
      "metadata": {
        "id": "aCPmMxdNFNwX"
      },
      "execution_count": null,
      "outputs": []
    },
    {
      "cell_type": "markdown",
      "source": [],
      "metadata": {
        "id": "Q3fvzWUqFImf"
      }
    },
    {
      "cell_type": "code",
      "source": [
        "# 랜덤 모듈 불러오기\n",
        "import random\n",
        "\n",
        "#은행 클래스 생성,(이름, 잔고만 받음)\n",
        "#객체의 은행은 SC Bank로 고정\n",
        "class Account():\n",
        "  account_count = 0\n",
        "  def __init__(self,name, balance):\n",
        "    self.name = name\n",
        "    self.balance = balance\n",
        "    self.bank = \"SC Bank\"\n",
        "    #계좌번호 생성\n",
        "    num1 = random.randint(0,999)\n",
        "    num2 = random.randint(0,99)\n",
        "    num3 = random.randint(0,999999)\n",
        "    num1 = str(num1).zfill(3)\n",
        "    num2 = str(num2).zfill(2)\n",
        "    num3 = str(num3).zfill(6)\n",
        "    self.acc_num = num1+\"-\"+ num2 +\"-\"+num3\n",
        "    Account.account_count +=1\n",
        "\n",
        "  def get_account_num(self):\n",
        "    print(Account.account_count)\n",
        "kim = Account(\"김민수\", 100)\n",
        "lee = Account(\"이민수\", 100)\n",
        "kim.get_account_num()"
      ],
      "metadata": {
        "id": "_h9RVfBZFN6Z",
        "colab": {
          "base_uri": "https://localhost:8080/"
        },
        "outputId": "0a2eafef-5b56-466e-871b-5505bd57dbcd"
      },
      "execution_count": 3,
      "outputs": [
        {
          "output_type": "stream",
          "name": "stdout",
          "text": [
            "2\n"
          ]
        }
      ]
    },
    {
      "cell_type": "markdown",
      "source": [],
      "metadata": {
        "id": "R3S7javXFIqY"
      }
    },
    {
      "cell_type": "code",
      "source": [
        "# 랜덤 모듈 불러오기\n",
        "import random\n",
        "\n",
        "#은행 클래스 생성,(이름, 잔고만 받음)\n",
        "#객체의 은행은 SC Bank로 고정\n",
        "class Account():\n",
        "  account_count = 0\n",
        "  def __init__(self,name, balance):\n",
        "    self.name = name\n",
        "    self.balance = balance\n",
        "    self.bank = \"SC Bank\"\n",
        "    #계좌번호 생성\n",
        "    num1 = random.randint(0,999)\n",
        "    num2 = random.randint(0,99)\n",
        "    num3 = random.randint(0,999999)\n",
        "    num1 = str(num1).zfill(3)\n",
        "    num2 = str(num2).zfill(2)\n",
        "    num3 = str(num3).zfill(6)\n",
        "    self.acc_num = num1+\"-\"+ num2 +\"-\"+num3\n",
        "    Account.account_count +=1\n",
        "\n",
        "  def get_account_num(self):\n",
        "    print(Account.account_count)\n",
        "  \n",
        "  def deposit(self, amount):\n",
        "    if self.amount>=1:\n",
        "      self.balacne += amount\n",
        "      \n"
      ],
      "metadata": {
        "id": "e3Uo1gFSFOCI"
      },
      "execution_count": null,
      "outputs": []
    },
    {
      "cell_type": "markdown",
      "source": [],
      "metadata": {
        "id": "LLgECFb4FIuq"
      }
    },
    {
      "cell_type": "code",
      "source": [
        "# 랜덤 모듈 불러오기\n",
        "import random\n",
        "\n",
        "#은행 클래스 생성,(이름, 잔고만 받음)\n",
        "#객체의 은행은 SC Bank로 고정\n",
        "class Account():\n",
        "  account_count = 0\n",
        "  def __init__(self,name, balance):\n",
        "    self.name = name\n",
        "    self.balance = balance\n",
        "    self.bank = \"SC Bank\"\n",
        "    #계좌번호 생성\n",
        "    num1 = random.randint(0,999)\n",
        "    num2 = random.randint(0,99)\n",
        "    num3 = random.randint(0,999999)\n",
        "    num1 = str(num1).zfill(3)\n",
        "    num2 = str(num2).zfill(2)\n",
        "    num3 = str(num3).zfill(6)\n",
        "    self.acc_num = num1+\"-\"+ num2 +\"-\"+num3\n",
        "    Account.account_count +=1\n",
        "\n",
        "  def get_account_num(self):\n",
        "    print(Account.account_count)\n",
        "  \n",
        "  def deposit(self, amount):\n",
        "    if self.amount>=1:\n",
        "      self.balacne += amount\n",
        "  \n",
        "  def withdraw(self, amount):\n",
        "    if self.balance >= amount:\n",
        "      self.balacne -= amount\n",
        "      \n",
        "          \n"
      ],
      "metadata": {
        "id": "WkCpHo2iFOJg"
      },
      "execution_count": null,
      "outputs": []
    },
    {
      "cell_type": "markdown",
      "source": [],
      "metadata": {
        "id": "VwE2rICqFI0F"
      }
    },
    {
      "cell_type": "code",
      "source": [
        "# 랜덤 모듈 불러오기\n",
        "import random\n",
        "\n",
        "#은행 클래스 생성,(이름, 잔고만 받음)\n",
        "#객체의 은행은 SC Bank로 고정\n",
        "class Account():\n",
        "  account_count = 0\n",
        "  def __init__(self, name, balance):\n",
        "    self.name = name\n",
        "    self.balance = balance\n",
        "    self.bank = \"SC Bank\"\n",
        "    #계좌번호 생성\n",
        "    num1 = random.randint(0,999)\n",
        "    num2 = random.randint(0,99)\n",
        "    num3 = random.randint(0,999999)\n",
        "    num1 = str(num1).zfill(3)\n",
        "    num2 = str(num2).zfill(2)\n",
        "    num3 = str(num3).zfill(6)\n",
        "    self.acc_num = num1+\"-\"+ num2 +\"-\"+num3\n",
        "    Account.account_count +=1\n",
        "\n",
        "  def get_account_num(self):\n",
        "    print(Account.account_count)\n",
        "  \n",
        "  def deposit(self, amount):\n",
        "    if self.amount>=1:\n",
        "      self.balacne += amount\n",
        "  \n",
        "  def withdraw(self, amount):\n",
        "    if self.balance >= amount:\n",
        "      self.balacne -= amount\n",
        "\n",
        "  def display_Info(self):\n",
        "    print(self.bank,\"\\n\",self.name,\"\\n\",self.acc_num,\"\\n\",self.balance)\n",
        "\n",
        "         \n",
        "p = Account(\"파이썬\", 10000)\n",
        "p.display_Info()"
      ],
      "metadata": {
        "id": "sVLfwfQ7FOQf",
        "colab": {
          "base_uri": "https://localhost:8080/"
        },
        "outputId": "e3a57275-82e7-4ca9-fd1e-f5a694c2c3f0"
      },
      "execution_count": 7,
      "outputs": [
        {
          "output_type": "stream",
          "name": "stdout",
          "text": [
            "SC Bank \n",
            " 파이썬 \n",
            " 335-37-346386 \n",
            " 10000\n"
          ]
        }
      ]
    },
    {
      "cell_type": "markdown",
      "source": [],
      "metadata": {
        "id": "td20zwMkFI67"
      }
    },
    {
      "cell_type": "code",
      "source": [
        "# 랜덤 모듈 불러오기\n",
        "import random\n",
        "\n",
        "#은행 클래스 생성,(이름, 잔고만 받음)\n",
        "#객체의 은행은 SC Bank로 고정\n",
        "class Account():\n",
        "  account_count = 0\n",
        "  def __init__(self, name, balance):\n",
        "    self.deposit_num = 0\n",
        "    self.name = name\n",
        "    self.balance = balance\n",
        "    self.bank = \"SC Bank\"\n",
        "    #계좌번호 생성\n",
        "    num1 = random.randint(0,999)\n",
        "    num2 = random.randint(0,99)\n",
        "    num3 = random.randint(0,999999)\n",
        "    num1 = str(num1).zfill(3)\n",
        "    num2 = str(num2).zfill(2)\n",
        "    num3 = str(num3).zfill(6)\n",
        "    self.acc_num = num1+\"-\"+ num2 +\"-\"+num3\n",
        "    Account.account_count += 1\n",
        "\n",
        "  def get_account_num(self):\n",
        "    print(Account.account_count)\n",
        "  \n",
        "  def deposit(self, amount):\n",
        "    if self.amount>=1:\n",
        "      self.balacne += amount\n",
        "      self.deposit_num += 1\n",
        "    if self.deposit_num % 5 == 0:\n",
        "      self.balance = (self.balance * 1.01)\n",
        "\n",
        "  \n",
        "  def withdraw(self, amount):\n",
        "    if self.balance >= amount:\n",
        "      self.balacne -= amount\n",
        "\n",
        "  def display_Info(self):\n",
        "    print(self.bank,\"\\n\",self.name,\"\\n\",self.acc_num,\"\\n\",self.balance)\n",
        "\n",
        "c_list = []\n",
        "\n",
        "p = Account(\"파이썬\", 10000)\n",
        "c_list.append(p)\n",
        "for i in c_list:\n",
        "  if i.balance >10**6:\n",
        "    print(i.balance)"
      ],
      "metadata": {
        "id": "NjOq_2-7FOXp"
      },
      "execution_count": 13,
      "outputs": []
    },
    {
      "cell_type": "code",
      "source": [
        "# 랜덤 모듈 불러오기\n",
        "import random\n",
        "\n",
        "#은행 클래스 생성,(이름, 잔고만 받음)\n",
        "#객체의 은행은 SC Bank로 고정\n",
        "class Account():\n",
        "  account_count = 0\n",
        "  def __init__(self, name, balance):\n",
        "    self.deposit_num = 0\n",
        "    self.deposit_log = []\n",
        "    self.withdraw_log = []\n",
        "    self.name = name\n",
        "    self.balance = balance\n",
        "    self.bank = \"SC Bank\"\n",
        "    #계좌번호 생성\n",
        "    num1 = random.randint(0,999)\n",
        "    num2 = random.randint(0,99)\n",
        "    num3 = random.randint(0,999999)\n",
        "    num1 = str(num1).zfill(3)\n",
        "    num2 = str(num2).zfill(2)\n",
        "    num3 = str(num3).zfill(6)\n",
        "    self.acc_num = num1+\"-\"+ num2 +\"-\"+num3\n",
        "    Account.account_count += 1\n",
        "\n",
        "  def get_account_num(self):\n",
        "    print(Account.account_count)\n",
        "  \n",
        "  def deposit(self, amount):\n",
        "    if amount >= 1:\n",
        "      self.deposit_log.append(amount)\n",
        "      self.balance += amount\n",
        "      self.deposit_num += 1\n",
        "      if self.deposit_num % 5 == 0:\n",
        "        self.balance = (self.balance * 1.01)\n",
        "\n",
        "  \n",
        "  def withdraw(self, amount):\n",
        "    if self.balance >= amount:\n",
        "      self.withdraw_log.append(amount)\n",
        "      self.balance -= amount\n",
        "\n",
        "  def display_Info(self):\n",
        "    print(self.bank,\"\\n\",self.name,\"\\n\",self.acc_num,\"\\n\",self.balance)\n",
        "\n",
        "  def deposit_history(self):\n",
        "    for amount in self.deposit_log:\n",
        "      print(amount)\n",
        "  def withdraw_history(self):\n",
        "    for amount in self.withdraw_log:\n",
        "      print(amount)\n",
        "\n",
        "c_list = []\n",
        "\n",
        "p = Account(\"파이썬\", 10000000)\n",
        "c_list.append(p)\n",
        "\n",
        "\n",
        "\n",
        "k = Account(\"Kim\", 1000)\n",
        "k.deposit(100)\n",
        "k.deposit(200)\n",
        "k.deposit(300)\n",
        "k.deposit_history()\n",
        "\n",
        "k.withdraw(100)\n",
        "k.withdraw(200)\n",
        "k.withdraw_history()\n",
        "\n",
        "for i in c_list:\n",
        "  if i.balance >10**6:\n",
        "    print(i.name)\n",
        "\n"
      ],
      "metadata": {
        "colab": {
          "base_uri": "https://localhost:8080/"
        },
        "id": "_unY1kIZC4F1",
        "outputId": "f6c3389d-6e14-4744-bae1-4bbe53bda2ba"
      },
      "execution_count": 20,
      "outputs": [
        {
          "output_type": "stream",
          "name": "stdout",
          "text": [
            "100\n",
            "200\n",
            "300\n",
            "100\n",
            "200\n",
            "파이썬\n"
          ]
        }
      ]
    },
    {
      "cell_type": "code",
      "source": [],
      "metadata": {
        "id": "UIOZADPuC4Lo"
      },
      "execution_count": null,
      "outputs": []
    }
  ]
}