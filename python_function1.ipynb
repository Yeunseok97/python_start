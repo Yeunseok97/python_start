{
  "nbformat": 4,
  "nbformat_minor": 0,
  "metadata": {
    "colab": {
      "provenance": [],
      "collapsed_sections": [],
      "authorship_tag": "ABX9TyOIET1g8W63olnIlms683f5",
      "include_colab_link": true
    },
    "kernelspec": {
      "name": "python3",
      "display_name": "Python 3"
    },
    "language_info": {
      "name": "python"
    }
  },
  "cells": [
    {
      "cell_type": "markdown",
      "metadata": {
        "id": "view-in-github",
        "colab_type": "text"
      },
      "source": [
        "<a href=\"https://colab.research.google.com/github/Yeunseok97/python_start/blob/main/python_function1.ipynb\" target=\"_parent\"><img src=\"https://colab.research.google.com/assets/colab-badge.svg\" alt=\"Open In Colab\"/></a>"
      ]
    },
    {
      "cell_type": "markdown",
      "source": [
        "201\n",
        "\n",
        "\"비트코인\" 문자열을 화면에 출력하는 print_coin() 함수를 \n",
        "\n",
        "정의하라."
      ],
      "metadata": {
        "id": "W34_yRhK1WIZ"
      }
    },
    {
      "cell_type": "code",
      "source": [
        "def print_coin():\n",
        "  print(\"bit_coin\")"
      ],
      "metadata": {
        "id": "yytTJCRJ1Xbf"
      },
      "execution_count": 3,
      "outputs": []
    },
    {
      "cell_type": "markdown",
      "source": [
        "202\n",
        "\n",
        "201번에서 정의한 함수를 호출하라."
      ],
      "metadata": {
        "id": "Hdix9T221WME"
      }
    },
    {
      "cell_type": "code",
      "source": [
        "print_coin()"
      ],
      "metadata": {
        "colab": {
          "base_uri": "https://localhost:8080/"
        },
        "id": "YzPd8fPc1Xlw",
        "outputId": "8bf0e8d0-fa34-4d6d-b1ed-ab207859b95e"
      },
      "execution_count": 6,
      "outputs": [
        {
          "output_type": "stream",
          "name": "stdout",
          "text": [
            "bit_coin\n"
          ]
        }
      ]
    },
    {
      "cell_type": "markdown",
      "source": [
        "203\n",
        "\n",
        "201번에서 정의한 print_coin 함수를 100번호출하라."
      ],
      "metadata": {
        "id": "uG2XcF-u1WPg"
      }
    },
    {
      "cell_type": "code",
      "source": [
        "for i in range(100):\n",
        "  print_coin()"
      ],
      "metadata": {
        "id": "HHo6yjqa1Xu5"
      },
      "execution_count": null,
      "outputs": []
    },
    {
      "cell_type": "markdown",
      "source": [
        "204\n",
        "\n",
        "\"비트코인\" 문자열을 100번 화면에 출력하는 print_coins() 함수를 정의하라."
      ],
      "metadata": {
        "id": "xxhptzNJ1WT9"
      }
    },
    {
      "cell_type": "code",
      "source": [
        "def print_coins():\n",
        "  for i in range(100):\n",
        "    print_coin()\n",
        "\n"
      ],
      "metadata": {
        "id": "imy9Ld1v1X2-"
      },
      "execution_count": 10,
      "outputs": []
    },
    {
      "cell_type": "markdown",
      "source": [
        "205\n",
        "\n",
        "아래의 에러가 발생하는 이유에 대해 설명하라.\n",
        "\n",
        "    hello()\n",
        "    def hello():\n",
        "        print(\"Hi\")"
      ],
      "metadata": {
        "id": "bhz72W9t1WWF"
      }
    },
    {
      "cell_type": "code",
      "source": [
        "# 함수가 선언되기 전에 호출을 해버렸다. "
      ],
      "metadata": {
        "id": "tZKtyv-A1X-w"
      },
      "execution_count": null,
      "outputs": []
    },
    {
      "cell_type": "markdown",
      "source": [
        "206\n",
        "\n",
        "아래 코드의 실행 결과를 예측하라.\n",
        "\n",
        "    def message() :\n",
        "        print(\"A\")\n",
        "        print(\"B\")\n",
        "\n",
        "    message()\n",
        "    print(\"C\")\n",
        "    message()"
      ],
      "metadata": {
        "id": "0U5US4FZ1WZf"
      }
    },
    {
      "cell_type": "code",
      "source": [
        "# A, B, C, A, B"
      ],
      "metadata": {
        "id": "L7y68be51YGZ"
      },
      "execution_count": null,
      "outputs": []
    },
    {
      "cell_type": "markdown",
      "source": [
        "207\n",
        "\n",
        "아래 코드의 실행 결과를 예측하라. (읽기 어려운 코드의 예입니다.)\n",
        "\n",
        "    print(\"A\")\n",
        "\n",
        "    def message() :\n",
        "        print(\"B\")\n",
        "\n",
        "    print(\"C\")\n",
        "    message()"
      ],
      "metadata": {
        "id": "JbD6c7AR1Wce"
      }
    },
    {
      "cell_type": "code",
      "source": [
        "# A, C, B"
      ],
      "metadata": {
        "id": "KGlpwRYo1YNv"
      },
      "execution_count": null,
      "outputs": []
    },
    {
      "cell_type": "markdown",
      "source": [
        "208\n",
        "\n",
        "아래 코드의 실행 결과를 예측하라. (읽기 어려운 코드의 예입니다.)\n",
        "\n",
        "\n",
        "```\n",
        "# 코드로 형식 지정됨\n",
        "\n",
        "\n",
        "print(\"A\")\n",
        "def message1() :\n",
        "    print(\"B\")\n",
        "print(\"C\")\n",
        "def message2() :\n",
        "    print(\"D\")\n",
        "message1()\n",
        "print(\"E\")\n",
        "message2()\n",
        "```\n"
      ],
      "metadata": {
        "id": "8FjaGG_D1Wf7"
      }
    },
    {
      "cell_type": "code",
      "source": [
        "# A, C, B, E, D"
      ],
      "metadata": {
        "id": "ZXtdUfku1YVF"
      },
      "execution_count": null,
      "outputs": []
    },
    {
      "cell_type": "markdown",
      "source": [
        "209\n",
        "\n",
        "아래 코드의 실행 결과를 예측하라.\n",
        "\n",
        "\n",
        "```\n",
        "# 코드로 형식 지정됨\n",
        "\n",
        "def message1():\n",
        "    print(\"A\")\n",
        "\n",
        "def message2():\n",
        "    print(\"B\")\n",
        "    message1()\n",
        "\n",
        "message2()\n",
        "```\n",
        "\n"
      ],
      "metadata": {
        "id": "UUypUXuI1Wjj"
      }
    },
    {
      "cell_type": "code",
      "source": [
        "# B, A"
      ],
      "metadata": {
        "id": "ubZiK7r31Ycm"
      },
      "execution_count": null,
      "outputs": []
    },
    {
      "cell_type": "markdown",
      "source": [
        "210\n",
        "\n",
        "아래 코드의 실행 결과를 예측하라.\n",
        "\n",
        "\n",
        "```\n",
        "# 코드로 형식 지정됨\n",
        "\n",
        "def message1():\n",
        "    print(\"A\")\n",
        "\n",
        "def message2():\n",
        "    print(\"B\")\n",
        "\n",
        "def message3():\n",
        "    for i in range (3) :\n",
        "        message2()\n",
        "        print(\"C\")\n",
        "    message1()\n",
        "\n",
        "message3()\n",
        "```\n",
        "\n"
      ],
      "metadata": {
        "id": "4S8EZhnJ1WnW"
      }
    },
    {
      "cell_type": "code",
      "source": [
        "# B, C, B, C, B, C, A\n",
        "# def message3에서 포문 3번 돌때 message2 호출일아 C 출력 돌고 포문 끝나고 message1 호출함."
      ],
      "metadata": {
        "id": "uE14bPih1Yjw"
      },
      "execution_count": null,
      "outputs": []
    }
  ]
}