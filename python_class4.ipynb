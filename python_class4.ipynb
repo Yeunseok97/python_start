{
  "nbformat": 4,
  "nbformat_minor": 0,
  "metadata": {
    "colab": {
      "provenance": [],
      "authorship_tag": "ABX9TyOUIsyG3rzAwOpVEblAkmVj",
      "include_colab_link": true
    },
    "kernelspec": {
      "name": "python3",
      "display_name": "Python 3"
    },
    "language_info": {
      "name": "python"
    }
  },
  "cells": [
    {
      "cell_type": "markdown",
      "metadata": {
        "id": "view-in-github",
        "colab_type": "text"
      },
      "source": [
        "<a href=\"https://colab.research.google.com/github/Yeunseok97/python_start/blob/main/python_class4.ipynb\" target=\"_parent\"><img src=\"https://colab.research.google.com/assets/colab-badge.svg\" alt=\"Open In Colab\"/></a>"
      ]
    },
    {
      "cell_type": "markdown",
      "source": [
        "281\n",
        "\n",
        " 클래스 정의\n",
        "다음 코드가 동작하도록 차 클래스를 정의하세요.\n",
        "\n",
        "\n",
        "```\n",
        "# 코드로 형식 지정됨\n",
        ">> car = 차(2, 1000)\n",
        ">> car.바퀴\n",
        "2\n",
        ">> car.가격\n",
        "1000\n",
        "```\n",
        "\n",
        "\n"
      ],
      "metadata": {
        "id": "zQ2CzCXNHwEU"
      }
    },
    {
      "cell_type": "code",
      "source": [
        "class Car():\n",
        "  \n",
        "  def __init__(self, wheel, price):\n",
        "    self.wheel = wheel\n",
        "    self.price = price\n",
        "\n",
        "car = Car(2, 1000)\n",
        "car.wheel\n",
        "car.price"
      ],
      "metadata": {
        "id": "xWUV5NvbHxKU",
        "colab": {
          "base_uri": "https://localhost:8080/"
        },
        "outputId": "ee47cad6-674f-4edf-b7f1-f52b9c8d68d8"
      },
      "execution_count": 2,
      "outputs": [
        {
          "output_type": "execute_result",
          "data": {
            "text/plain": [
              "2"
            ]
          },
          "metadata": {},
          "execution_count": 2
        }
      ]
    },
    {
      "cell_type": "markdown",
      "source": [
        "282\n",
        "\n",
        "클래스 상속\n",
        "차 클래스를 상속받은 자전차 클래스를 정의하세요."
      ],
      "metadata": {
        "id": "9Uq1vJAbHwIc"
      }
    },
    {
      "cell_type": "code",
      "source": [
        "class Car():\n",
        "  \n",
        "  def __init__(self, wheel, price):\n",
        "    self.wheel = wheel\n",
        "    self.price = price\n",
        "\n",
        "class bicycle(Car):\n",
        "  pass"
      ],
      "metadata": {
        "id": "WSGYIoF7HxTU"
      },
      "execution_count": null,
      "outputs": []
    },
    {
      "cell_type": "markdown",
      "source": [
        "283\n",
        "\n",
        " 클래스 상속\n",
        "다음 코드가 동작하도록 자전차 클래스를 정의하세요. 단 자전차 클래스는 차 클래스를 상속받습니다.\n",
        "\n",
        "\n",
        "```\n",
        "# 코드로 형식 지정됨\n",
        ">> bicycle = 자전차(2, 100)\n",
        ">> bicycle.가격\n",
        "100\n",
        "```\n",
        "\n",
        "\n"
      ],
      "metadata": {
        "id": "1o6Y2SDuHwME"
      }
    },
    {
      "cell_type": "code",
      "source": [
        "class Car():\n",
        "  \n",
        "  def __init__(self, wheel, price):\n",
        "    self.wheel = wheel\n",
        "    self.price = price\n",
        "\n",
        "class Bicycle(Car):\n",
        "  def __init__(self, wheel, price):\n",
        "    self.wheel = wheel\n",
        "    self.price = price\n",
        "\n",
        "bicycle = Bicycle(2, 1000)\n",
        "print(bicycle.price)  "
      ],
      "metadata": {
        "id": "3ETX84U-HxbD",
        "colab": {
          "base_uri": "https://localhost:8080/"
        },
        "outputId": "09092cd3-7cb3-48fe-bafb-38eb6ad54eb2"
      },
      "execution_count": 5,
      "outputs": [
        {
          "output_type": "stream",
          "name": "stdout",
          "text": [
            "1000\n"
          ]
        }
      ]
    },
    {
      "cell_type": "markdown",
      "source": [
        "284\n",
        "\n",
        " 클래스 상속\n",
        "다음 코드가 동작하도록 자전차 클래스를 정의하세요. 단 자전차 클래스는 차 클래스를 상속받습니다.\n",
        "\n",
        "\n",
        "\n",
        "```\n",
        "# 코드로 형식 지정됨\n",
        "\n",
        ">> bicycle = 자전차(2, 100, \"시마노\")\n",
        ">> bicycle.구동계\n",
        "시마노\n",
        "```\n"
      ],
      "metadata": {
        "id": "zuEvcrEZHwPn"
      }
    },
    {
      "cell_type": "code",
      "source": [
        "class Car():\n",
        "  \n",
        "  def __init__(self, wheel, price, ):\n",
        "    self.wheel = wheel\n",
        "    self.price = price\n",
        "\n",
        "class Bicycle(Car):\n",
        "  def __init__(self, wheel, price, drivetrain):\n",
        "    super().__init__(wheel, price)\n",
        "    self.drivetrain = drivetrain\n",
        "\n",
        "bicycle = Bicycle(2, 100, \"simano\")\n",
        "print(bicycle.drivetrain)\n",
        "print(bicycle.wheel)\n",
        "print(bicycle.price)\n"
      ],
      "metadata": {
        "id": "Hvzl0CCkHxiZ",
        "colab": {
          "base_uri": "https://localhost:8080/"
        },
        "outputId": "8a34366e-c56b-445f-b1dc-2ef49dd92ea1"
      },
      "execution_count": 8,
      "outputs": [
        {
          "output_type": "stream",
          "name": "stdout",
          "text": [
            "simano\n",
            "2\n",
            "100\n"
          ]
        }
      ]
    },
    {
      "cell_type": "markdown",
      "source": [
        "285\n",
        "\n",
        "클래스 상속\n",
        "다음 코드가 동작하도록 차 클래스를 상속받는 자동차 클래스를 정의하세요.\n",
        "\n",
        "\n",
        "```\n",
        "# 코드로 형식 지정됨\n",
        ">> car = 자동차(4, 1000)\n",
        ">> car.정보()\n",
        "바퀴수 4\n",
        "가격 1000\n",
        "```\n",
        "\n",
        "\n"
      ],
      "metadata": {
        "id": "g7kB8p7fHwTN"
      }
    },
    {
      "cell_type": "code",
      "source": [
        "class Car():\n",
        "  \n",
        "  def __init__(self, wheel, price ):\n",
        "    self.wheel = wheel\n",
        "    self.price = price\n",
        "\n",
        "class Bicycle(Car):\n",
        "  def __init__(self, wheel, price, drivetrain):\n",
        "    super().__init__(wheel, price)\n",
        "    self.drivetrain = drivetrain\n",
        "\n",
        "class SUV(Car):\n",
        "  def __init__(self, wheel, price ):\n",
        "    super().__init__(wheel, price)\n",
        "  def Info(self):\n",
        "    print(\"wheel type : {}\".format(self.wheel))\n",
        "    print(\"price : {}\".format(self.price))\n",
        "\n",
        "carnival = SUV(4, 1000)\n",
        "carnival.Info()"
      ],
      "metadata": {
        "id": "O652uwoaHxp8",
        "colab": {
          "base_uri": "https://localhost:8080/"
        },
        "outputId": "e6ff8730-0a3c-4355-d345-1a335d67cf32"
      },
      "execution_count": 11,
      "outputs": [
        {
          "output_type": "stream",
          "name": "stdout",
          "text": [
            "wheel type : 4\n",
            "price : 1000\n"
          ]
        }
      ]
    },
    {
      "cell_type": "markdown",
      "source": [
        "286\n",
        "\n",
        " 부모 클래스 생성자 호출\n",
        "다음 코드가 동작하도록 차 클래스를 수정하세요.\n",
        "\n",
        "\n",
        "```\n",
        "# 코드로 형식 지정됨\n",
        ">> bicycle = 자전차(2, 100, \"시마노\")\n",
        ">> bicycle.정보()\n",
        "바퀴수 2\n",
        "가격 100\n",
        "```\n",
        "\n",
        "\n"
      ],
      "metadata": {
        "id": "yQiu1vh6HwWp"
      }
    },
    {
      "cell_type": "code",
      "source": [
        "class Car():\n",
        "  \n",
        "  def __init__(self, wheel, price ):\n",
        "    self.wheel = wheel\n",
        "    self.price = price\n",
        "\n",
        "  def Info(self):\n",
        "    print(\"wheel type : {}\".format(self.wheel))\n",
        "    print(\"price : {}\".format(self.price))\n",
        "\n",
        "class Bicycle(Car):\n",
        "  def __init__(self, wheel, price, drivetrain):\n",
        "    super().__init__(wheel, price)\n",
        "    self.drivetrain = drivetrain\n",
        "\n",
        "class SUV(Car):\n",
        "  def __init__(self, wheel, price ):\n",
        "    super().__init__(wheel, price)\n",
        "  \n",
        "  \n",
        "bicycle = Bicycle(2, 100, \"시마노\")\n",
        "bicycle.Info()\n"
      ],
      "metadata": {
        "id": "eqdcz1GxHxw9",
        "colab": {
          "base_uri": "https://localhost:8080/"
        },
        "outputId": "619a1e9c-57c7-4bd5-d485-3d97fa08e327"
      },
      "execution_count": 13,
      "outputs": [
        {
          "output_type": "stream",
          "name": "stdout",
          "text": [
            "wheel type : 2\n",
            "price : 100\n"
          ]
        }
      ]
    },
    {
      "cell_type": "markdown",
      "source": [
        "287 부모 클래스 메서드 호출\n",
        "자전차의 정보() 메서드로 구동계 정보까지 출력하도록 수정해보세요.\n",
        "\n",
        "\n",
        "```\n",
        "# 코드로 형식 지정됨\n",
        ">> bicycle = 자전차(2, 100, \"시마노\")\n",
        ">> bicycle.정보()\n",
        "바퀴수 2\n",
        "가격 100\n",
        "구동계 시마노\n",
        "```\n",
        "\n",
        "\n"
      ],
      "metadata": {
        "id": "o_yQHihEHwZ6"
      }
    },
    {
      "cell_type": "code",
      "source": [
        "# #sol 1\n",
        "# class Car():\n",
        "  \n",
        "#   def __init__(self, wheel, price ):\n",
        "#     self.wheel = wheel\n",
        "#     self.price = price\n",
        "\n",
        "#   def Info(self):\n",
        "#     print(\"wheel type : {}\".format(self.wheel))\n",
        "#     print(\"price : {}\".format(self.price))\n",
        "#     print(\"drivetrain : {}\".format(self.drivetrain))\n",
        "\n",
        "# class Bicycle(Car):\n",
        "#   def __init__(self, wheel, price, drivetrain):\n",
        "#     super().__init__(wheel, price)\n",
        "#     self.drivetrain = drivetrain\n",
        "\n",
        "# class SUV(Car):\n",
        "#   def __init__(self, wheel, price ):\n",
        "    \n",
        "#     super().__init__(wheel, price)\n",
        "#sol2   \n",
        "class Car():\n",
        "  \n",
        "  def __init__(self, wheel, price ):\n",
        "    self.wheel = wheel\n",
        "    self.price = price\n",
        "\n",
        "  def Info(self):\n",
        "    print(\"wheel type : {}\".format(self.wheel))\n",
        "    print(\"price : {}\".format(self.price))\n",
        "    \n",
        "\n",
        "class Bicycle(Car):\n",
        "  def __init__(self, wheel, price, drivetrain):\n",
        "    super().__init__(wheel, price)\n",
        "    self.drivetrain = drivetrain\n",
        "\n",
        "  def Info(self):\n",
        "    super().Info()\n",
        "    print(\"drivetrain : {}\".format(self.drivetrain))\n",
        "\n",
        "class SUV(Car):\n",
        "  def __init__(self, wheel, price ):\n",
        "    super().__init__(wheel, price) \n",
        "bicycle = Bicycle(2, 100, \"시마노\")\n",
        "bicycle.Info()\n",
        "\n"
      ],
      "metadata": {
        "id": "13wCy_u6Hx4X",
        "colab": {
          "base_uri": "https://localhost:8080/"
        },
        "outputId": "2fbc9bc8-e30d-403b-c6a6-408539f5e1eb"
      },
      "execution_count": 22,
      "outputs": [
        {
          "output_type": "stream",
          "name": "stdout",
          "text": [
            "wheel type : 2\n",
            "price : 100\n",
            "drivetrain : 시마노\n"
          ]
        }
      ]
    },
    {
      "cell_type": "markdown",
      "source": [
        "288\n",
        "\n",
        " 메서드 오버라이딩\n",
        "다음 코드의 실행 결과를 예상해보세요.\n",
        "\n",
        "\n",
        "\n",
        "```\n",
        "# 코드로 형식 지정됨\n",
        "class 부모:\n",
        "  def 호출(self):\n",
        "    print(\"부모호출\")\n",
        "\n",
        "class 자식(부모):\n",
        "  def 호출(self):\n",
        "    print(\"자식호출\")\n",
        "나 = 자식()\n",
        "나.호출()\n",
        "```\n",
        "\n"
      ],
      "metadata": {
        "id": "RFgZdCcZHwdd"
      }
    },
    {
      "cell_type": "code",
      "source": [
        "# 자식 호출한다. "
      ],
      "metadata": {
        "id": "DLBhe3HOHx_r"
      },
      "execution_count": 24,
      "outputs": []
    },
    {
      "cell_type": "markdown",
      "source": [
        "289\n",
        "\n",
        " 생성자\n",
        "다음 코드의 실행 결과를 예상해보세요.\n",
        "\n",
        "\n",
        "```\n",
        "# 코드로 형식 지정됨\n",
        "\n",
        "class 부모:\n",
        "  def __init__(self):\n",
        "    print(\"부모생성\")\n",
        "\n",
        "class 자식(부모):\n",
        "  def __init__(self):\n",
        "    print(\"자식생성\")\n",
        "나 = 자식()\n",
        "```\n",
        "\n"
      ],
      "metadata": {
        "id": "HcZNc8gqHwgm"
      }
    },
    {
      "cell_type": "code",
      "source": [
        "# 자식생성\n"
      ],
      "metadata": {
        "id": "CW-uX9i6HyGy"
      },
      "execution_count": 26,
      "outputs": []
    },
    {
      "cell_type": "markdown",
      "source": [
        "290\n",
        "\n",
        "부모클래스 생성자 호출\n",
        "다음 코드의 실행 결과를 예상해보세요.\n",
        "\n",
        "\n",
        "```\n",
        "# 코드로 형식 지정됨\n",
        "class 부모:\n",
        "  def __init__(self):\n",
        "    print(\"부모생성\")\n",
        "\n",
        "class 자식(부모):\n",
        "  def __init__(self):\n",
        "    print(\"자식생성\")\n",
        "    super().__init__()\n",
        "\n",
        "나 = 자식()\n",
        "```\n",
        "\n",
        "\n"
      ],
      "metadata": {
        "id": "RT1YoZu-HwkB"
      }
    },
    {
      "cell_type": "code",
      "source": [
        "#자식생성\n",
        "#부모생성\n"
      ],
      "metadata": {
        "id": "X7ICgPt_HyN5"
      },
      "execution_count": 30,
      "outputs": []
    }
  ]
}