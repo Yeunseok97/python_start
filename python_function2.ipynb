{
  "nbformat": 4,
  "nbformat_minor": 0,
  "metadata": {
    "colab": {
      "provenance": [],
      "authorship_tag": "ABX9TyM8GFzfN38+kCijc+zvx5n2",
      "include_colab_link": true
    },
    "kernelspec": {
      "name": "python3",
      "display_name": "Python 3"
    },
    "language_info": {
      "name": "python"
    }
  },
  "cells": [
    {
      "cell_type": "markdown",
      "metadata": {
        "id": "view-in-github",
        "colab_type": "text"
      },
      "source": [
        "<a href=\"https://colab.research.google.com/github/Yeunseok97/python_start/blob/main/python_function2.ipynb\" target=\"_parent\"><img src=\"https://colab.research.google.com/assets/colab-badge.svg\" alt=\"Open In Colab\"/></a>"
      ]
    },
    {
      "cell_type": "markdown",
      "source": [
        "211\n",
        "\n",
        "    함수의 호출 결과를 예측하라.\n",
        "\n",
        "\n",
        "```\n",
        "# 코드로 형식 지정됨\n",
        "def 함수(문자열) :\n",
        "    print(문자열)\n",
        "\n",
        "함수(\"안녕\")\n",
        "함수(\"Hi\")\n",
        "```\n",
        "\n",
        "\n"
      ],
      "metadata": {
        "id": "wg8iYnUKbnAi"
      }
    },
    {
      "cell_type": "code",
      "source": [
        "# 입력받은 문자열을 그대로 출력해주기때문에\n",
        "# 안녕 \n",
        "# HI\n"
      ],
      "metadata": {
        "colab": {
          "base_uri": "https://localhost:8080/"
        },
        "id": "s7Ajej7nboOP",
        "outputId": "87811b4b-bd41-46bf-d67b-c0f5c2e1e4d4"
      },
      "execution_count": 1,
      "outputs": [
        {
          "output_type": "stream",
          "name": "stdout",
          "text": [
            "안녕\n",
            "Hi\n"
          ]
        }
      ]
    },
    {
      "cell_type": "markdown",
      "source": [
        "212\n",
        "\n",
        "함수의 호출 결과를 예측하라.\n",
        "\n",
        "\n",
        "```\n",
        "# 코드로 형식 지정됨\n",
        "\n",
        "def 함수(a, b) :\n",
        "    print(a + b)\n",
        "\n",
        "함수(3, 4)\n",
        "함수(7, 8)\n",
        "```\n",
        "\n"
      ],
      "metadata": {
        "id": "WOhjIrXkbnEo"
      }
    },
    {
      "cell_type": "code",
      "source": [
        "#7\n",
        "#15"
      ],
      "metadata": {
        "id": "jo2V-rSMboWv"
      },
      "execution_count": 3,
      "outputs": []
    },
    {
      "cell_type": "markdown",
      "source": [
        "213\n",
        "\n",
        "아래와 같은 에러가 발생하는 원인을 설명하라.\n",
        "\n",
        "\n",
        "\n",
        "```\n",
        "# 코드로 형식 지정됨\n",
        "\n",
        "def 함수(문자열) :\n",
        "    print(문자열)\n",
        "함수()\n",
        "TypeError: 함수() missing 1 required positional argument: '문자열'\n",
        "```\n"
      ],
      "metadata": {
        "id": "vGFTIwD6bnIL"
      }
    },
    {
      "cell_type": "code",
      "source": [
        "# 함수라는 함수는 하나의 파라미터를 받아야하는데 아무것도 안 넣고 출력을 했으니 에러가 날 수밖에;"
      ],
      "metadata": {
        "id": "cD9tN5PAboeQ"
      },
      "execution_count": null,
      "outputs": []
    },
    {
      "cell_type": "markdown",
      "source": [
        "214\n",
        "\n",
        "아래와 같은 에러가 발생하는 원인을 설명하라.\n",
        "\n",
        "\n",
        "```\n",
        "# 코드로 형식 지정됨\n",
        "\n",
        "def 함수(a, b) :\n",
        "    print(a + b)\n",
        "\n",
        "함수(\"안녕\", 3)\n",
        "TypeError: must be str, not int\n",
        "```\n",
        "\n"
      ],
      "metadata": {
        "id": "ofvdTlVsbnL4"
      }
    },
    {
      "cell_type": "code",
      "source": [
        "# 문자열과 정수형은 더할 수가 없어서 2개의 입력값을 받는것은 맞으나 연산이 안돼서 에러가 난다."
      ],
      "metadata": {
        "id": "XywlrIepboln"
      },
      "execution_count": null,
      "outputs": []
    },
    {
      "cell_type": "markdown",
      "source": [
        "215\n",
        "\n",
        "하나의 문자를 입력받아 문자열 끝에 \":D\" 스마일 문자열을 이어 붙여 출력하는 print_with_smile 함수를 정의하라."
      ],
      "metadata": {
        "id": "uwOygqqWbnQQ"
      }
    },
    {
      "cell_type": "code",
      "source": [
        "def print_with_smile(string):\n",
        "  print(string + \":D\")\n",
        "print_with_smile(\"웃으면 복이와요\")"
      ],
      "metadata": {
        "colab": {
          "base_uri": "https://localhost:8080/"
        },
        "id": "eVYlKsnCbotA",
        "outputId": "6918384d-45e7-4cf6-e819-16feab8b5959"
      },
      "execution_count": 6,
      "outputs": [
        {
          "output_type": "stream",
          "name": "stdout",
          "text": [
            "웃으면 복이와요:D\n"
          ]
        }
      ]
    },
    {
      "cell_type": "markdown",
      "source": [
        "216\n",
        "\n",
        "215에서 정의한 함수를 호출하라. 파라미터는 \"안녕하세요\"로 입력하라."
      ],
      "metadata": {
        "id": "bRxO9c2FbnT4"
      }
    },
    {
      "cell_type": "code",
      "source": [
        "print_with_smile(\"안녕하세요\")"
      ],
      "metadata": {
        "colab": {
          "base_uri": "https://localhost:8080/"
        },
        "id": "Dl4_RDHBbo0x",
        "outputId": "3efa82f9-f8ff-4792-ab2f-b752b3a9e153"
      },
      "execution_count": 9,
      "outputs": [
        {
          "output_type": "stream",
          "name": "stdout",
          "text": [
            "안녕하세요:D\n"
          ]
        }
      ]
    },
    {
      "cell_type": "markdown",
      "source": [
        "217\n",
        "\n",
        "현재 가격을 입력 받아 상한가 (30%)를 출력하는 print_upper_price 함수를 정의하라."
      ],
      "metadata": {
        "id": "dk28050_bnX6"
      }
    },
    {
      "cell_type": "code",
      "source": [
        "def print_upper_price(current_price):\n",
        "  print(current_price * 1.3)\n",
        "\n",
        "print_upper_price(100)"
      ],
      "metadata": {
        "colab": {
          "base_uri": "https://localhost:8080/"
        },
        "id": "33xmObiSbo8P",
        "outputId": "80bdc375-7722-4f17-b4e5-9f5d353874da"
      },
      "execution_count": 10,
      "outputs": [
        {
          "output_type": "stream",
          "name": "stdout",
          "text": [
            "130.0\n"
          ]
        }
      ]
    },
    {
      "cell_type": "markdown",
      "source": [
        "218\n",
        "\n",
        "두 개의 숫자를 입력받아 두 수의 합을 출력하는 print_sum \n",
        "\n",
        "함수를 정의하라."
      ],
      "metadata": {
        "id": "0DJU2KPxbncJ"
      }
    },
    {
      "cell_type": "code",
      "source": [
        "def sum(a, b):\n",
        "  print(a + b)\n",
        "\n",
        "sum(1,2)"
      ],
      "metadata": {
        "colab": {
          "base_uri": "https://localhost:8080/"
        },
        "id": "aiscI_CrbpDw",
        "outputId": "dc5cc5ef-68aa-431c-edc5-4e2bbdd13c3c"
      },
      "execution_count": 11,
      "outputs": [
        {
          "output_type": "stream",
          "name": "stdout",
          "text": [
            "3\n"
          ]
        }
      ]
    },
    {
      "cell_type": "markdown",
      "source": [
        "219\n",
        "\n",
        "두 개의 숫자를 입력받아 합/차/곱/나눗셈을 출력하는 \n",
        "\n",
        "print_arithmetic_operation 함수를 작성하라.\n",
        "\n",
        "\n",
        "\n",
        "```\n",
        "# 코드로 형식 지정됨\n",
        "\n",
        "print_arithmetic_operation(3, 4)\n",
        "3 + 4 = 7\n",
        "3 - 4 = -1\n",
        "3 * 4 = 12\n",
        "3 / 4 = 0.75\n",
        "```\n"
      ],
      "metadata": {
        "id": "H8r3T3tCbnfy"
      }
    },
    {
      "cell_type": "code",
      "source": [
        "def print_arithmetic_operation(num1, num2):\n",
        "  print(\"num1 + num2 = {}\".format(num1 + num2))\n",
        "  print(\"num1 - num2 = {}\".format(num1 - num2))\n",
        "  print(\"num1 * num2 = {}\".format(num1 * num2))\n",
        "  print(\"num1 / num2 = {}\".format(num1 / num2))\n",
        "\n",
        "print_arithmetic_operation(3 , 4)"
      ],
      "metadata": {
        "colab": {
          "base_uri": "https://localhost:8080/"
        },
        "id": "sHkjIag7bpLB",
        "outputId": "6bad8632-befb-42c6-9809-8be8b984fe65"
      },
      "execution_count": 16,
      "outputs": [
        {
          "output_type": "stream",
          "name": "stdout",
          "text": [
            "num1 + num2 = 7\n",
            "num1 - num2 = -1\n",
            "num1 * num2 = 12\n",
            "num1 / num2 = 0.75\n"
          ]
        }
      ]
    },
    {
      "cell_type": "markdown",
      "source": [
        "220\n",
        "\n",
        "세 개의 숫자를 입력받아 가장 큰수를 출력하는 print_max 함수를 정의하라. 단 if 문을 사용해서 수를 비교하라."
      ],
      "metadata": {
        "id": "8v_6wU6YbnjN"
      }
    },
    {
      "cell_type": "code",
      "source": [
        "#sol1)\n",
        "\n",
        "def print_max(num1, num2, num3):\n",
        "  if num1 >= num2 and num1 >= num3:\n",
        "    print(num1)\n",
        "  elif num2 >= num1 and num2 >= num3:\n",
        "    print(num2)\n",
        "  else:\n",
        "    print(num3)\n",
        "print_max(4,8,20)"
      ],
      "metadata": {
        "colab": {
          "base_uri": "https://localhost:8080/"
        },
        "id": "AqVDdvwubpSJ",
        "outputId": "5597e764-74cf-42b7-a293-42765e7df4b7"
      },
      "execution_count": 21,
      "outputs": [
        {
          "output_type": "stream",
          "name": "stdout",
          "text": [
            "20\n"
          ]
        }
      ]
    }
  ]
}