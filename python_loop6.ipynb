{
  "nbformat": 4,
  "nbformat_minor": 0,
  "metadata": {
    "colab": {
      "provenance": [],
      "collapsed_sections": [],
      "authorship_tag": "ABX9TyMZtmiirrMg31/sU2AlTln0",
      "include_colab_link": true
    },
    "kernelspec": {
      "name": "python3",
      "display_name": "Python 3"
    },
    "language_info": {
      "name": "python"
    }
  },
  "cells": [
    {
      "cell_type": "markdown",
      "metadata": {
        "id": "view-in-github",
        "colab_type": "text"
      },
      "source": [
        "<a href=\"https://colab.research.google.com/github/Yeunseok97/python_start/blob/main/python_loop6.ipynb\" target=\"_parent\"><img src=\"https://colab.research.google.com/assets/colab-badge.svg\" alt=\"Open In Colab\"/></a>"
      ]
    },
    {
      "cell_type": "markdown",
      "source": [
        "181\n",
        "\n",
        "아래 표에서 하나의 행을 하나의 리스트로, 총 3개의 리스트를 \n",
        "\n",
        "갖는 이차원 리스트 apart를 정의하라.\n",
        "\n",
        "    101호\t102호\n",
        "    201호\t202호\n",
        "    301호\t302호"
      ],
      "metadata": {
        "id": "V8jHmKsBsArn"
      }
    },
    {
      "cell_type": "code",
      "source": [
        "apart = [[\"101호\", \"102호\"],[\"201호\", \"202호\"],[\"301호\", \"302호\"]]\n",
        "print(type(apart))"
      ],
      "metadata": {
        "colab": {
          "base_uri": "https://localhost:8080/"
        },
        "id": "1zl3JEbwsB5u",
        "outputId": "c4020252-1fb2-4473-c49e-513dbe8237a3"
      },
      "execution_count": 2,
      "outputs": [
        {
          "output_type": "stream",
          "name": "stdout",
          "text": [
            "<class 'list'>\n"
          ]
        }
      ]
    },
    {
      "cell_type": "markdown",
      "source": [
        "182\n",
        "\n",
        "아래 표에서 하나의 열을 하나의 리스트로, 총 2개의 리스트를 \n",
        "\n",
        "갖는 이차원 리스트 stock을 정의하라.\n",
        "\n",
        "    시가\t종가\n",
        "    100\t80\n",
        "    200\t210\n",
        "    300\t330"
      ],
      "metadata": {
        "id": "1bo9vogIsAv9"
      }
    },
    {
      "cell_type": "code",
      "source": [
        "stock = [[\"시가\", \"100\", \"200\", \"300\"], [\"종가\",\"80\",\"210\",\"330\"]]"
      ],
      "metadata": {
        "id": "2t26ct45sCSm"
      },
      "execution_count": 3,
      "outputs": []
    },
    {
      "cell_type": "markdown",
      "source": [
        "183\n",
        "\n",
        "아래 표를 stock 이름의 딕셔너리로 표현하라.시가를 key로 \n",
        "\n",
        "저장하고, 나머지 같은 열의 데이터를 리스트로 저장해서 \n",
        "\n",
        "value로 저장한다. 종가 역시 key로 저장하고 나머지 같은 열의 \n",
        "\n",
        "데이터를 리스트로 저장해서 value로 저장한다.\n",
        "\n",
        "    시가\t종가\n",
        "    100\t80\n",
        "    200\t210\n",
        "    300\t330"
      ],
      "metadata": {
        "id": "kMNlcmy0sAzg"
      }
    },
    {
      "cell_type": "code",
      "source": [
        "stock = {\"시가\": [100, 200, 300], \"종가\": [80, 210, 330]}"
      ],
      "metadata": {
        "id": "ewAi_VkksCcO"
      },
      "execution_count": 7,
      "outputs": []
    },
    {
      "cell_type": "markdown",
      "source": [
        "84\n",
        "\n",
        "아래 표를 stock 이라는 이름의 딕셔너리로 표현하라. 날짜를 \n",
        "\n",
        "key로 저장하고, 나머지 같은 행의 데이터를 리스트로 저장해서 \n",
        "\n",
        "value로 저장한다. 첫 열이 날짜이다.\n",
        "\n",
        "    10/10\t80\t110\t70\t90\n",
        "    10/11\t210\t230\t190\t200"
      ],
      "metadata": {
        "id": "emiwARX1sA3b"
      }
    },
    {
      "cell_type": "code",
      "source": [
        "stock = {\"10/10\" : [80, 110, 70, 90], \"10/11\" : [210, 230, 190, 200]}"
      ],
      "metadata": {
        "id": "SPCOuBuHsCk_"
      },
      "execution_count": 8,
      "outputs": []
    },
    {
      "cell_type": "markdown",
      "source": [
        "리스트에 저장된 데이터를 아래와 같이 출력하라.\n",
        "\n",
        "    apart = [ [101, 102], [201, 202], [301, 302] ]\n",
        "\n",
        "    101 호\n",
        "    102 호\n",
        "    201 호\n",
        "    202 호\n",
        "    301 호\n",
        "    302 호"
      ],
      "metadata": {
        "id": "cBZJxIHOsA69"
      }
    },
    {
      "cell_type": "code",
      "source": [
        "apart = [ [101, 102], [201, 202], [301, 302] ]\n",
        "for row in apart:\n",
        "  for col in row:\n",
        "    print(col,\"호\")"
      ],
      "metadata": {
        "colab": {
          "base_uri": "https://localhost:8080/"
        },
        "id": "LAsBeN7NsCtt",
        "outputId": "14d7e48c-ad46-4844-8e0d-002c7badd85a"
      },
      "execution_count": 13,
      "outputs": [
        {
          "output_type": "stream",
          "name": "stdout",
          "text": [
            "101 호\n",
            "102 호\n",
            "201 호\n",
            "202 호\n",
            "301 호\n",
            "302 호\n"
          ]
        }
      ]
    },
    {
      "cell_type": "markdown",
      "source": [
        "186\n",
        "\n",
        "리스트에 저장된 데이터를 아래와 같이 출력하라.\n",
        "\n",
        "    apart = [ [101, 102], [201, 202], [301, 302] ]\n",
        "    301 호\n",
        "    302 호\n",
        "    201 호\n",
        "    202 호\n",
        "    101 호\n",
        "    102 호"
      ],
      "metadata": {
        "id": "4XYw_u7wsA-X"
      }
    },
    {
      "cell_type": "code",
      "source": [
        "#다시 볼것\n",
        "apart = [ [101, 102], [201, 202], [301, 302] ]\n",
        "for row in apart[::-1]:\n",
        "  for col in row:\n",
        "    print(col, \"호\")\n"
      ],
      "metadata": {
        "colab": {
          "base_uri": "https://localhost:8080/"
        },
        "id": "LWkRhxeesC1-",
        "outputId": "0d1bf053-8f50-470f-8bff-fca1416ff981"
      },
      "execution_count": 6,
      "outputs": [
        {
          "output_type": "stream",
          "name": "stdout",
          "text": [
            "301 호\n",
            "302 호\n",
            "201 호\n",
            "202 호\n",
            "101 호\n",
            "102 호\n"
          ]
        }
      ]
    },
    {
      "cell_type": "markdown",
      "source": [
        "187\n",
        "\n",
        "리스트에 저장된 데이터를 아래와 같이 출력하라.\n",
        "\n",
        "    apart = [ [101, 102], [201, 202], [301, 302] ]\n",
        "    302 호\n",
        "    301 호\n",
        "    202 호\n",
        "    201 호\n",
        "    102 호\n",
        "    101 호"
      ],
      "metadata": {
        "id": "AvvNT9clsBBv"
      }
    },
    {
      "cell_type": "code",
      "source": [
        "apart = [ [101, 102], [201, 202], [301, 302] ]\n",
        "for row in apart[::-1]:\n",
        "  for col in row[::-1]:\n",
        "    print(col, \"호\")\n"
      ],
      "metadata": {
        "colab": {
          "base_uri": "https://localhost:8080/"
        },
        "id": "NImRjqAesC9-",
        "outputId": "d26ace1d-879a-4e86-b257-45d5c79712d2"
      },
      "execution_count": 8,
      "outputs": [
        {
          "output_type": "stream",
          "name": "stdout",
          "text": [
            "302 호\n",
            "301 호\n",
            "202 호\n",
            "201 호\n",
            "102 호\n",
            "101 호\n"
          ]
        }
      ]
    },
    {
      "cell_type": "markdown",
      "source": [
        "188\n",
        "\n",
        "리스트에 저장된 데이터를 아래와 같이 출력하라.\n",
        "\n",
        "    apart = [ [101, 102], [201, 202], [301, 302] ]\n",
        "    101 호\n",
        "    -----\n",
        "    102 호\n",
        "    -----\n",
        "    201 호\n",
        "    -----\n",
        "    202 호\n",
        "    -----\n",
        "    301 호\n",
        "    -----\n",
        "    302 호\n",
        "    -----"
      ],
      "metadata": {
        "id": "9_s33SgvsBFB"
      }
    },
    {
      "cell_type": "code",
      "source": [
        "apart = [ [101, 102], [201, 202], [301, 302] ]\n",
        "for row in apart:\n",
        "  for col in row:\n",
        "    print(col,\"호\")\n",
        "    print(\"-\"*5)"
      ],
      "metadata": {
        "colab": {
          "base_uri": "https://localhost:8080/"
        },
        "id": "pztvoj2GsDFW",
        "outputId": "24e4978b-80fd-41c7-9620-c349a56e64cc"
      },
      "execution_count": 10,
      "outputs": [
        {
          "output_type": "stream",
          "name": "stdout",
          "text": [
            "101 호\n",
            "-----\n",
            "102 호\n",
            "-----\n",
            "201 호\n",
            "-----\n",
            "202 호\n",
            "-----\n",
            "301 호\n",
            "-----\n",
            "302 호\n",
            "-----\n"
          ]
        }
      ]
    },
    {
      "cell_type": "markdown",
      "source": [
        "189\n",
        "\n",
        "리스트에 저장된 데이터를 아래와 같이 출력하라.\n",
        "\n",
        "    apart = [ [101, 102], [201, 202], [301, 302] ]\n",
        "    101 호\n",
        "    102 호\n",
        "    -----\n",
        "    201 호\n",
        "    202 호\n",
        "    -----\n",
        "    301 호\n",
        "    302 호\n",
        "    -----"
      ],
      "metadata": {
        "id": "whzFT7DSsBIc"
      }
    },
    {
      "cell_type": "code",
      "source": [
        "apart = [ [101, 102], [201, 202], [301, 302] ]\n",
        "for row in apart:\n",
        " \n",
        "  for col in row:\n",
        "    print(col,\"호\")\n",
        "  print(\"-\"*5)  "
      ],
      "metadata": {
        "colab": {
          "base_uri": "https://localhost:8080/"
        },
        "id": "tW4Oo4dnsDNM",
        "outputId": "425daec7-fa8e-44ac-df21-99f5f58e818b"
      },
      "execution_count": 13,
      "outputs": [
        {
          "output_type": "stream",
          "name": "stdout",
          "text": [
            "101 호\n",
            "102 호\n",
            "-----\n",
            "201 호\n",
            "202 호\n",
            "-----\n",
            "301 호\n",
            "302 호\n",
            "-----\n"
          ]
        }
      ]
    },
    {
      "cell_type": "markdown",
      "source": [
        "190\n",
        "\n",
        "리스트에 저장된 데이터를 아래와 같이 출력하라.\n",
        "\n",
        "    apart = [ [101, 102], [201, 202], [301, 302] ]\n",
        "    101 호\n",
        "    102 호\n",
        "    201 호\n",
        "    202 호\n",
        "    301 호\n",
        "    302 호\n",
        "    -----"
      ],
      "metadata": {
        "id": "ijMeF4YlsBLm"
      }
    },
    {
      "cell_type": "code",
      "source": [
        "apart = [ [101, 102], [201, 202], [301, 302] ]\n",
        "for i in apart:\n",
        "  for j in i:\n",
        "    print(j)\n",
        "print(\"-\"*5)"
      ],
      "metadata": {
        "colab": {
          "base_uri": "https://localhost:8080/"
        },
        "id": "265EXusjsDU8",
        "outputId": "ebe9d721-6194-48f4-e18b-8df538603315"
      },
      "execution_count": 17,
      "outputs": [
        {
          "output_type": "stream",
          "name": "stdout",
          "text": [
            "101\n",
            "102\n",
            "201\n",
            "202\n",
            "301\n",
            "302\n",
            "-----\n"
          ]
        }
      ]
    }
  ]
}