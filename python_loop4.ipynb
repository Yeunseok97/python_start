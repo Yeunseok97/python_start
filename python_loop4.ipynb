{
  "nbformat": 4,
  "nbformat_minor": 0,
  "metadata": {
    "colab": {
      "provenance": [],
      "collapsed_sections": [],
      "authorship_tag": "ABX9TyN4acrMyQ8OHhKnVGM7Atxm",
      "include_colab_link": true
    },
    "kernelspec": {
      "name": "python3",
      "display_name": "Python 3"
    },
    "language_info": {
      "name": "python"
    }
  },
  "cells": [
    {
      "cell_type": "markdown",
      "metadata": {
        "id": "view-in-github",
        "colab_type": "text"
      },
      "source": [
        "<a href=\"https://colab.research.google.com/github/Yeunseok97/python_start/blob/main/python_loop4.ipynb\" target=\"_parent\"><img src=\"https://colab.research.google.com/assets/colab-badge.svg\" alt=\"Open In Colab\"/></a>"
      ]
    },
    {
      "cell_type": "markdown",
      "source": [
        "161\n",
        "\n",
        "for문과 range 구문을 사용해서 0~99까지 한 라인에 하나씩 \n",
        "\n",
        "순차적으로 출력하는 프로그램을 작성하라."
      ],
      "metadata": {
        "id": "vjuVi7JpylOb"
      }
    },
    {
      "cell_type": "code",
      "source": [
        "for i in range(100):\n",
        "  print(i)"
      ],
      "metadata": {
        "id": "Paj4oSKSymww"
      },
      "execution_count": null,
      "outputs": []
    },
    {
      "cell_type": "markdown",
      "source": [
        "162\n",
        "\n",
        "월드컵은 4년에 한 번 개최된다. range()를 사용하여 \n",
        "\n",
        "2002~2050년까지 중 월드컵이 개최되는 연도를 출력하라."
      ],
      "metadata": {
        "id": "ht5ZawZmylS7"
      }
    },
    {
      "cell_type": "code",
      "source": [
        "#sol 1)\n",
        "for i in range (2002, 2050):\n",
        "  if i % 4 == 2:\n",
        "    print(i)\n",
        "print()\n",
        "#sol 2)\n",
        "for i in range(2002, 2050, 4):\n",
        "  print(i)"
      ],
      "metadata": {
        "id": "cB3zVqIYyqWg",
        "colab": {
          "base_uri": "https://localhost:8080/"
        },
        "outputId": "bcddb3af-e5b2-4199-b4f7-b6ff91c33bdb"
      },
      "execution_count": 3,
      "outputs": [
        {
          "output_type": "stream",
          "name": "stdout",
          "text": [
            "2002\n",
            "2006\n",
            "2010\n",
            "2014\n",
            "2018\n",
            "2022\n",
            "2026\n",
            "2030\n",
            "2034\n",
            "2038\n",
            "2042\n",
            "2046\n",
            "\n",
            "2002\n",
            "2006\n",
            "2010\n",
            "2014\n",
            "2018\n",
            "2022\n",
            "2026\n",
            "2030\n",
            "2034\n",
            "2038\n",
            "2042\n",
            "2046\n"
          ]
        }
      ]
    },
    {
      "cell_type": "markdown",
      "source": [
        "163\n",
        "\n",
        "1부터 30까지의 숫자 중 3의 배수를 출력하라.\n"
      ],
      "metadata": {
        "id": "Zq8eoYOKylYQ"
      }
    },
    {
      "cell_type": "code",
      "source": [
        "#sol1)\n",
        "for i in range(1, 31):\n",
        "  if i % 3 == 0:\n",
        "    print(i)\n",
        "print()\n",
        "#sol2)\n",
        "for i in range(3, 31, 3):\n",
        "  print(i)\n",
        "  "
      ],
      "metadata": {
        "id": "6Pngt8GfynBR",
        "colab": {
          "base_uri": "https://localhost:8080/"
        },
        "outputId": "b6d7b827-2253-43fc-ca44-8aa13cd4a60d"
      },
      "execution_count": 14,
      "outputs": [
        {
          "output_type": "stream",
          "name": "stdout",
          "text": [
            "3\n",
            "6\n",
            "9\n",
            "12\n",
            "15\n",
            "18\n",
            "21\n",
            "24\n",
            "27\n",
            "30\n",
            "\n",
            "3\n",
            "6\n",
            "9\n",
            "12\n",
            "15\n",
            "18\n",
            "21\n",
            "24\n",
            "27\n",
            "30\n"
          ]
        }
      ]
    },
    {
      "cell_type": "markdown",
      "source": [
        "164\n",
        "\n",
        "99부터 0까지 1씩 감소하는 숫자들을, 한 라인에 하나씩 출력하라."
      ],
      "metadata": {
        "id": "6keg3wA3yldq"
      }
    },
    {
      "cell_type": "code",
      "source": [
        "#sol1)\n",
        "for i in range(100, 0, -1):\n",
        "  print(i)\n",
        "\n",
        "#sol2)\n",
        "for i in range(100):\n",
        "  print(100 - i)"
      ],
      "metadata": {
        "id": "U9v6mZ_tynJD"
      },
      "execution_count": null,
      "outputs": []
    },
    {
      "cell_type": "markdown",
      "source": [
        "165\n",
        "\n",
        "for문을 사용해서 아래와 같이 출력하라.\n",
        "\n",
        "0.0\n",
        "0.1\n",
        "0.2\n",
        "0.3\n",
        "0.4\n",
        "0.5\n",
        "...\n",
        "0.9"
      ],
      "metadata": {
        "id": "dT3p6l7kylkK"
      }
    },
    {
      "cell_type": "code",
      "source": [
        "for i in range(10):\n",
        "  print(i / 10)\n"
      ],
      "metadata": {
        "id": "T_pbWGG8ynQi",
        "colab": {
          "base_uri": "https://localhost:8080/"
        },
        "outputId": "a305f189-c5ae-49e2-ff93-1023fe6c5307"
      },
      "execution_count": 24,
      "outputs": [
        {
          "output_type": "stream",
          "name": "stdout",
          "text": [
            "0.0\n",
            "0.1\n",
            "0.2\n",
            "0.3\n",
            "0.4\n",
            "0.5\n",
            "0.6\n",
            "0.7\n",
            "0.8\n",
            "0.9\n"
          ]
        }
      ]
    },
    {
      "cell_type": "markdown",
      "source": [
        "166\n",
        "\n",
        "구구단 3단을 출력하라."
      ],
      "metadata": {
        "id": "RCQiIAWlylqA"
      }
    },
    {
      "cell_type": "code",
      "source": [
        "for i in range(1, 10):\n",
        "  print(\"3x{} = {}\".format(i, 3*i))"
      ],
      "metadata": {
        "id": "ppqNNbL9ynYN",
        "colab": {
          "base_uri": "https://localhost:8080/"
        },
        "outputId": "4242776b-9554-4bf4-be9e-241f030725c7"
      },
      "execution_count": 25,
      "outputs": [
        {
          "output_type": "stream",
          "name": "stdout",
          "text": [
            "3x1 = 3\n",
            "3x2 = 6\n",
            "3x3 = 9\n",
            "3x4 = 12\n",
            "3x5 = 15\n",
            "3x6 = 18\n",
            "3x7 = 21\n",
            "3x8 = 24\n",
            "3x9 = 27\n"
          ]
        }
      ]
    },
    {
      "cell_type": "markdown",
      "source": [
        "167\n",
        "\n",
        "구구단 3단을 출력하라. 단 홀수 번째만 출력한다."
      ],
      "metadata": {
        "id": "sqmqQ_9xylvl"
      }
    },
    {
      "cell_type": "code",
      "source": [
        "for i in range(1, 10, 2):\n",
        "  print(\"3x{} = {}\".format(i, 3*i))"
      ],
      "metadata": {
        "id": "JIRpNlWZyngX",
        "colab": {
          "base_uri": "https://localhost:8080/"
        },
        "outputId": "3742f2e6-7a51-491b-b2a7-d28b4b96d1b1"
      },
      "execution_count": 26,
      "outputs": [
        {
          "output_type": "stream",
          "name": "stdout",
          "text": [
            "3x1 = 3\n",
            "3x3 = 9\n",
            "3x5 = 15\n",
            "3x7 = 21\n",
            "3x9 = 27\n"
          ]
        }
      ]
    },
    {
      "cell_type": "markdown",
      "source": [
        "168\n",
        "\n",
        "1~10까지의 숫자에 대해 모두 더한 값을 출력하는 프로그램을 for 문을 사용하여 작성하라."
      ],
      "metadata": {
        "id": "7whucA30yl1P"
      }
    },
    {
      "cell_type": "code",
      "source": [
        "#sol 1)\n",
        "a = 0\n",
        "for i in range(1, 11):\n",
        "  a += i\n",
        "print(a)\n",
        "\n",
        "# sol 2)\n",
        "a = []\n",
        "for i in range(1, 11):\n",
        "  a.append(i)\n",
        "print(sum(a))\n",
        "\n"
      ],
      "metadata": {
        "id": "A6nVMp8aynoC",
        "colab": {
          "base_uri": "https://localhost:8080/"
        },
        "outputId": "9e87b085-7ccb-42b5-fb3c-43c7fc4b57b5"
      },
      "execution_count": 86,
      "outputs": [
        {
          "output_type": "stream",
          "name": "stdout",
          "text": [
            "55\n"
          ]
        }
      ]
    },
    {
      "cell_type": "markdown",
      "source": [
        "169\n",
        "\n",
        "1~10까지의 숫자 중 모든 홀수의 합을 출력하는 프로그램을 for 문을 사용하여 작성하라."
      ],
      "metadata": {
        "id": "gKGRbYRiyl6S"
      }
    },
    {
      "cell_type": "code",
      "source": [
        "#sol 1)\n",
        "a = 0\n",
        "for i in range(1, 11, 2):\n",
        "  a += i\n",
        "print(a)\n",
        "\n",
        "# sol 2)\n",
        "a = []\n",
        "for i in range(1, 11, 2):\n",
        "  a.append(i)\n",
        "print(sum(a))"
      ],
      "metadata": {
        "id": "wfEuHsC4ynvg",
        "colab": {
          "base_uri": "https://localhost:8080/"
        },
        "outputId": "239fcde8-fc4d-4a7a-a7b9-d2ff769b3515"
      },
      "execution_count": 91,
      "outputs": [
        {
          "output_type": "stream",
          "name": "stdout",
          "text": [
            "25\n"
          ]
        }
      ]
    },
    {
      "cell_type": "markdown",
      "source": [
        "170\n",
        "\n",
        "1~10까지의 숫자를 모두 곱한 값을 출력하는 프로그램을 for \n",
        "\n",
        "문을 사용하여 작성하라."
      ],
      "metadata": {
        "id": "nrwMP24Vyl-o"
      }
    },
    {
      "cell_type": "code",
      "source": [
        "a = 1\n",
        "for i in range(1, 11):\n",
        "  a *= i\n",
        "print(a)"
      ],
      "metadata": {
        "id": "Br9iHUJmyn3R",
        "colab": {
          "base_uri": "https://localhost:8080/"
        },
        "outputId": "6ef874e2-1d11-4bac-af87-027bbfaffded"
      },
      "execution_count": 94,
      "outputs": [
        {
          "output_type": "stream",
          "name": "stdout",
          "text": [
            "3628800\n"
          ]
        }
      ]
    }
  ]
}