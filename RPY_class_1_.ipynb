{
  "nbformat": 4,
  "nbformat_minor": 0,
  "metadata": {
    "colab": {
      "provenance": [],
      "authorship_tag": "ABX9TyM3tmLUm72vPF/De4Nu/jt7",
      "include_colab_link": true
    },
    "kernelspec": {
      "name": "python3",
      "display_name": "Python 3"
    },
    "language_info": {
      "name": "python"
    }
  },
  "cells": [
    {
      "cell_type": "markdown",
      "metadata": {
        "id": "view-in-github",
        "colab_type": "text"
      },
      "source": [
        "<a href=\"https://colab.research.google.com/github/Yeunseok97/python_start/blob/main/RPY_class_1_.ipynb\" target=\"_parent\"><img src=\"https://colab.research.google.com/assets/colab-badge.svg\" alt=\"Open In Colab\"/></a>"
      ]
    },
    {
      "cell_type": "markdown",
      "source": [
        "# 컴퓨터 프로그래밍을 왜 하느냐\n",
        "* 연산을 위한 사용이다.\n",
        "* 계산 혹은 다양한 기능의 활용\n",
        "* 자료(데이터) + 자료에 적용되는 로직(코드)\n",
        "* 프로그램상에 자료를 만들어놔야 자료를 가지고 연산이 가능하다.\n",
        "* 자료를 저장할 수 있는 친구들이 필요하다.\n",
        "* 파이썬 디폴트 : list, tuple, set\n",
        "* 라이브러리에 따라서 numpy(arrays), pandas(dataframe)\n",
        "\n"
      ],
      "metadata": {
        "id": "iya3lCqzk3ai"
      }
    },
    {
      "cell_type": "code",
      "source": [
        "# 리스트와 튜플은 순서가 있는 자료형이다.\n",
        "\n",
        "# fruits라는 변수를 3개의 요소를 가진 리스트로 지정함.\n",
        "fruits = [\"apple\", \"banana\", \"orange\" ]\n",
        "\n",
        "\n",
        "\n",
        "\n",
        "# fruits라는 변수를 3개의 요소를 가진 튜플로 지정함.\n",
        "fruits_tuple = (\"apple\", \"banana\", \"orange\")\n",
        "\n",
        "\n",
        "# 리스트는 변경이 가능하지만\n",
        "# 튜플은 변경이 불가능하다.\n",
        "fruits[0] = \"peach\"\n",
        "# fruits_tuple[0] = \"peach\"\n",
        "print(fruits[:])\n",
        "print(fruits_tuple[:])\n",
        "\n"
      ],
      "metadata": {
        "colab": {
          "base_uri": "https://localhost:8080/"
        },
        "id": "N6hBsu2Ik0l_",
        "outputId": "76b072df-6eb6-41bc-d1d7-6404afd18838"
      },
      "execution_count": 23,
      "outputs": [
        {
          "output_type": "stream",
          "name": "stdout",
          "text": [
            "['peach', 'banana', 'orange']\n",
            "('apple', 'banana', 'orange')\n"
          ]
        }
      ]
    },
    {
      "cell_type": "code",
      "source": [
        "# 인덱스 인덱싱, 슬라이싱\n",
        "# 시작요소는 들어가지만 끝 요소는 들어가지 않는다.\n",
        "# 역 인덱싱 -:"
      ],
      "metadata": {
        "colab": {
          "base_uri": "https://localhost:8080/"
        },
        "id": "HfhkeL7JoUv1",
        "outputId": "1bb5c23d-36fe-4234-97f7-b3b1506d0165"
      },
      "execution_count": 31,
      "outputs": [
        {
          "output_type": "execute_result",
          "data": {
            "text/plain": [
              "['peach']"
            ]
          },
          "metadata": {},
          "execution_count": 31
        }
      ]
    },
    {
      "cell_type": "code",
      "source": [
        "# 인덱스 기반 변수: 딕셔너리\n",
        "\n",
        "Jane = {\"mid\" : 60, \"final\": 70}\n",
        "\n",
        "# 인덱스로 찾기 불가능함.\n",
        "Jane[\"final\"]"
      ],
      "metadata": {
        "colab": {
          "base_uri": "https://localhost:8080/"
        },
        "id": "9WnXHWIIk0pC",
        "outputId": "a8e53222-9780-45c4-b8e7-734f8d4ae7d0"
      },
      "execution_count": 21,
      "outputs": [
        {
          "output_type": "execute_result",
          "data": {
            "text/plain": [
              "70"
            ]
          },
          "metadata": {},
          "execution_count": 21
        }
      ]
    },
    {
      "cell_type": "markdown",
      "source": [
        "#데이터: 영어로 복수\n",
        "* 자료는 기본적으로 복수\n",
        "* 복수의 접근하려는 방법들이 있어야 되고\n",
        "* 튜플 리스트 vs 딕셔너리는 다르다\n"
      ],
      "metadata": {
        "id": "270iIhyGnbZu"
      }
    },
    {
      "cell_type": "code",
      "source": [
        "name = \"MICHAEL JORDAN \"\n",
        "player = \"is the best basketball player\"\n",
        "statement = name + player\n",
        "print(statement)"
      ],
      "metadata": {
        "colab": {
          "base_uri": "https://localhost:8080/"
        },
        "id": "FSHAOuGYk0rd",
        "outputId": "30b3c29f-01b4-4d7a-e636-daa92ccc2a9b"
      },
      "execution_count": 33,
      "outputs": [
        {
          "output_type": "stream",
          "name": "stdout",
          "text": [
            "MICHAEL JORDAN is the best basketball player\n"
          ]
        }
      ]
    },
    {
      "cell_type": "code",
      "source": [
        "player[3:22]"
      ],
      "metadata": {
        "colab": {
          "base_uri": "https://localhost:8080/",
          "height": 36
        },
        "id": "Vyiyhkxck0vz",
        "outputId": "103d144e-625c-4343-9f5d-d0b4a4b7b3d1"
      },
      "execution_count": 35,
      "outputs": [
        {
          "output_type": "execute_result",
          "data": {
            "text/plain": [
              "'the best basketball'"
            ],
            "application/vnd.google.colaboratory.intrinsic+json": {
              "type": "string"
            }
          },
          "metadata": {},
          "execution_count": 35
        }
      ]
    },
    {
      "cell_type": "code",
      "source": [
        "#문자열은 튜플과 유사하여 인덱스 기반으로 변경할 수 없다.\n",
        "a = \"banana\"\n",
        "\n",
        "\"n\" in a"
      ],
      "metadata": {
        "colab": {
          "base_uri": "https://localhost:8080/"
        },
        "id": "qmOkLuWBk0yg",
        "outputId": "1f61398b-e9d7-4bd0-d215-dfb5d872ceeb"
      },
      "execution_count": 39,
      "outputs": [
        {
          "output_type": "execute_result",
          "data": {
            "text/plain": [
              "True"
            ]
          },
          "metadata": {},
          "execution_count": 39
        }
      ]
    },
    {
      "cell_type": "code",
      "source": [
        "# 적용할 수 있는 메서드 dir()\n",
        "stuff = \"hire\"\n",
        "\n",
        "# dir(stuff)"
      ],
      "metadata": {
        "id": "-pQ_JWQhk00a"
      },
      "execution_count": 55,
      "outputs": []
    },
    {
      "cell_type": "code",
      "source": [
        "# 메서드 -> 특정 자료형에 적용되는 함수다.\n",
        "stuff.capitalize()\n",
        "stuff.upper()\n",
        "stuff.lower()\n",
        "#find 인덱스 반환\n",
        "index = stuff.find(\"\")\n",
        "index"
      ],
      "metadata": {
        "colab": {
          "base_uri": "https://localhost:8080/"
        },
        "id": "Un9M0KEpk02d",
        "outputId": "c7446300-7461-461e-a14d-15ed368bac36"
      },
      "execution_count": 59,
      "outputs": [
        {
          "output_type": "execute_result",
          "data": {
            "text/plain": [
              "3"
            ]
          },
          "metadata": {},
          "execution_count": 59
        }
      ]
    },
    {
      "cell_type": "code",
      "source": [
        "A = [1,2,3]\n",
        "B = [4,5,6]\n",
        "A+B"
      ],
      "metadata": {
        "colab": {
          "base_uri": "https://localhost:8080/"
        },
        "id": "QeMz0Vvjk05P",
        "outputId": "b6176fbd-eca2-4586-a78c-923f02dca8b6"
      },
      "execution_count": 60,
      "outputs": [
        {
          "output_type": "execute_result",
          "data": {
            "text/plain": [
              "[1, 2, 3, 4, 5, 6]"
            ]
          },
          "metadata": {},
          "execution_count": 60
        }
      ]
    },
    {
      "cell_type": "code",
      "source": [
        "import numpy as np\n",
        "nA = np.array(A)\n",
        "nB = np.array(B)\n",
        "\n",
        "nA + nB"
      ],
      "metadata": {
        "colab": {
          "base_uri": "https://localhost:8080/"
        },
        "id": "LV8LFltBk07K",
        "outputId": "d5aaffdf-9eaf-40d0-fb6e-9cfcaaf7364b"
      },
      "execution_count": 64,
      "outputs": [
        {
          "output_type": "execute_result",
          "data": {
            "text/plain": [
              "array([5, 7, 9])"
            ]
          },
          "metadata": {},
          "execution_count": 64
        }
      ]
    },
    {
      "cell_type": "code",
      "source": [
        "t = tuple(\"lupins\")\n",
        "# print(str(t))\n",
        "# type(t)\n",
        "t = (\"A\",) + t[1:]\n",
        "t"
      ],
      "metadata": {
        "colab": {
          "base_uri": "https://localhost:8080/"
        },
        "id": "Fayj4Qjgk09O",
        "outputId": "26c86a9a-8025-40c2-fbe5-edb29ecb639a"
      },
      "execution_count": 72,
      "outputs": [
        {
          "output_type": "execute_result",
          "data": {
            "text/plain": [
              "('A', 'u', 'p', 'i', 'n', 's')"
            ]
          },
          "metadata": {},
          "execution_count": 72
        }
      ]
    },
    {
      "cell_type": "code",
      "source": [
        "t = [\"d\",\"b\",\"c\"]\n",
        "t.sort()\n",
        "t"
      ],
      "metadata": {
        "colab": {
          "base_uri": "https://localhost:8080/"
        },
        "id": "3Ye5oOxCk0_I",
        "outputId": "f14c5d77-af8b-4e39-8f35-3e6e47acdd4f"
      },
      "execution_count": 91,
      "outputs": [
        {
          "output_type": "execute_result",
          "data": {
            "text/plain": [
              "['b', 'c', 'd']"
            ]
          },
          "metadata": {},
          "execution_count": 91
        }
      ]
    },
    {
      "cell_type": "code",
      "source": [
        "# del은 인덱스 기반 제거, remove는 value기반으로 제거"
      ],
      "metadata": {
        "id": "E_NGS_h_k1Br"
      },
      "execution_count": null,
      "outputs": []
    },
    {
      "cell_type": "code",
      "source": [
        "nums = [3,41,12,9,74,15]\n",
        "\n",
        "\n",
        "# 수치연산은 수치연산에 맞게한다 -> 넘파이 써라\n",
        "np_nums = np.array(nums)\n",
        "print(np.max(np_nums))\n",
        "print(np.min(np_nums))\n",
        "print(np.sum(np_nums))\n",
        "print(np.mean(np_nums))"
      ],
      "metadata": {
        "colab": {
          "base_uri": "https://localhost:8080/"
        },
        "id": "be8jVYdkk1Dh",
        "outputId": "0a4ea277-dabd-4e72-965d-41c76767cd6a"
      },
      "execution_count": 94,
      "outputs": [
        {
          "output_type": "stream",
          "name": "stdout",
          "text": [
            "74\n",
            "3\n",
            "154\n",
            "25.666666666666668\n"
          ]
        }
      ]
    },
    {
      "cell_type": "code",
      "source": [
        "#참조\n",
        "a = [\"a\",1,2]\n",
        "b = a\n"
      ],
      "metadata": {
        "id": "hEbNljMsk1GL"
      },
      "execution_count": 95,
      "outputs": []
    },
    {
      "cell_type": "code",
      "source": [
        "a[0] = \"b\"\n",
        "b"
      ],
      "metadata": {
        "colab": {
          "base_uri": "https://localhost:8080/"
        },
        "id": "ZydC5pL5k1J5",
        "outputId": "e4c9050e-433a-4e36-ef67-5e01e67018f7"
      },
      "execution_count": 96,
      "outputs": [
        {
          "output_type": "execute_result",
          "data": {
            "text/plain": [
              "['b', 1, 2]"
            ]
          },
          "metadata": {},
          "execution_count": 96
        }
      ]
    },
    {
      "cell_type": "code",
      "source": [
        "#딕셔너리 - 키는 유니크학 ㅗ변동이 변동 불가하나 밸류는 바뀔 수 있다.\n",
        "\n",
        "my_dict = {1:\"apple\", 2: \"ball\"}\n",
        "my_dict[1] # 리스트가 아니라서 인덱스가 아닌 키 값으로 찾는다"
      ],
      "metadata": {
        "colab": {
          "base_uri": "https://localhost:8080/",
          "height": 36
        },
        "id": "-JQQ35Ptk1NG",
        "outputId": "4a48404a-afd0-4405-e56f-da317e669e0b"
      },
      "execution_count": 99,
      "outputs": [
        {
          "output_type": "execute_result",
          "data": {
            "text/plain": [
              "'apple'"
            ],
            "application/vnd.google.colaboratory.intrinsic+json": {
              "type": "string"
            }
          },
          "metadata": {},
          "execution_count": 99
        }
      ]
    },
    {
      "cell_type": "code",
      "source": [
        "my_dict = {\"name\": \"JACK\",\"age\":25}\n",
        "print(my_dict[\"name\"])\n",
        "print(my_dict.get(\"age\"))\n",
        "my_dict[\"age\"] = 27\n",
        "my_dict"
      ],
      "metadata": {
        "colab": {
          "base_uri": "https://localhost:8080/"
        },
        "id": "9EWyfZdok1Qs",
        "outputId": "dea97f87-5194-4730-aaa3-f7174262ef3d"
      },
      "execution_count": 104,
      "outputs": [
        {
          "output_type": "stream",
          "name": "stdout",
          "text": [
            "JACK\n",
            "25\n"
          ]
        },
        {
          "output_type": "execute_result",
          "data": {
            "text/plain": [
              "{'name': 'JACK', 'age': 27}"
            ]
          },
          "metadata": {},
          "execution_count": 104
        }
      ]
    },
    {
      "cell_type": "code",
      "source": [
        "eng2sp = {'one': 'uno', 'two': 'dos', 'three': 'tres'}\n",
        "print(eng2sp)\n",
        "print(eng2sp['two'])\n",
        "\n",
        "\n",
        "\n",
        "# Membership Operation -> 밸류값만 뽑기.\n",
        "'one' in eng2sp\n",
        "'uno' in eng2sp\n",
        "vals = list(eng2sp.values())\n",
        "print(vals)"
      ],
      "metadata": {
        "colab": {
          "base_uri": "https://localhost:8080/"
        },
        "id": "qr_OfPKFk1T_",
        "outputId": "e07fc9a0-c196-4e9d-8ce1-f98ca4d8d91f"
      },
      "execution_count": 108,
      "outputs": [
        {
          "output_type": "stream",
          "name": "stdout",
          "text": [
            "{'one': 'uno', 'two': 'dos', 'three': 'tres'}\n",
            "dos\n",
            "['uno', 'dos', 'tres']\n"
          ]
        }
      ]
    },
    {
      "cell_type": "code",
      "source": [],
      "metadata": {
        "id": "h99IwBlMk1XD"
      },
      "execution_count": null,
      "outputs": []
    }
  ]
}