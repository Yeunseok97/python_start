{
  "nbformat": 4,
  "nbformat_minor": 0,
  "metadata": {
    "colab": {
      "provenance": [],
      "collapsed_sections": [],
      "authorship_tag": "ABX9TyNC3xof1w17MCpWMGUd8kPI",
      "include_colab_link": true
    },
    "kernelspec": {
      "name": "python3",
      "display_name": "Python 3"
    },
    "language_info": {
      "name": "python"
    }
  },
  "cells": [
    {
      "cell_type": "markdown",
      "metadata": {
        "id": "view-in-github",
        "colab_type": "text"
      },
      "source": [
        "<a href=\"https://colab.research.google.com/github/Yeunseok97/python_start/blob/main/python_loop1.ipynb\" target=\"_parent\"><img src=\"https://colab.research.google.com/assets/colab-badge.svg\" alt=\"Open In Colab\"/></a>"
      ]
    },
    {
      "cell_type": "markdown",
      "source": [
        "131\n",
        "\n",
        "for문의 실행결과를 예측하라.\n",
        "\n",
        "    \n",
        "    과일 = [\"사과\", \"귤\", \"수박\"]\n",
        "    for 변수 in 과일:\n",
        "        print(변수)"
      ],
      "metadata": {
        "id": "PxxxY5oEKmBB"
      }
    },
    {
      "cell_type": "code",
      "source": [
        "# 리스트 안에 있는 과일 변수들이 차례대로 실행될것\n",
        "fruits = [\"Apple\", \"Orange\", \"Watermelon\"]\n",
        "for a in fruits:\n",
        "    print(a)"
      ],
      "metadata": {
        "colab": {
          "base_uri": "https://localhost:8080/"
        },
        "id": "sS5S6tPYKnWv",
        "outputId": "e48fd18a-03eb-4521-9b3d-ec008c47a5c3"
      },
      "execution_count": null,
      "outputs": [
        {
          "output_type": "stream",
          "name": "stdout",
          "text": [
            "Apple\n",
            "Orange\n",
            "Watermelon\n"
          ]
        }
      ]
    },
    {
      "cell_type": "markdown",
      "source": [
        "132\n",
        "\n",
        "for문의 실행결과를 예측하라.\n",
        "\n",
        "    과일 = [\"사과\", \"귤\", \"수박\"]\n",
        "    for 변수 in 과일:\n",
        "      print(\"#####\")"
      ],
      "metadata": {
        "id": "gLBWtmYcKmEi"
      }
    },
    {
      "cell_type": "code",
      "source": [
        "# ##### 인덱스 개수 만큼 #####이 출력될 것이다.\n",
        "fruits = [\"Apple\", \"Orange\", \"Watermelon\"]\n",
        "for a in fruits:\n",
        "  print(\"#####\")"
      ],
      "metadata": {
        "colab": {
          "base_uri": "https://localhost:8080/"
        },
        "id": "Nb_jmksaKnfv",
        "outputId": "f6076680-820a-46a6-acae-fc6a8a19c007"
      },
      "execution_count": null,
      "outputs": [
        {
          "output_type": "stream",
          "name": "stdout",
          "text": [
            "#####\n",
            "#####\n",
            "#####\n"
          ]
        }
      ]
    },
    {
      "cell_type": "markdown",
      "source": [
        "133\n",
        "\n",
        "다음 for 문과 동일한 기능을 수행하는 코드를 작성하세요.\n",
        "\n",
        "    for 변수 in [\"A\", \"B\", \"C\"]:\n",
        "      print(변수)"
      ],
      "metadata": {
        "id": "wb0hwKaTKmIx"
      }
    },
    {
      "cell_type": "code",
      "source": [
        "#sol) 1\n",
        "lst = [\"A\", \"B\", \"C\"]\n",
        "for alphabet in lst:\n",
        "  print(alphabet)\n",
        "\n",
        "#sol) 2 이걸 말한거였나??/\n",
        "alphabet = \"A\"\n",
        "print(alphabet)\n",
        "alphabet = \"B\"\n",
        "print(alphabet)\n",
        "alphabet = \"C\"\n",
        "print(alphabet)\n",
        "\n",
        "#sol) 3\n",
        "print(\"A\")\n",
        "print(\"B\")\n",
        "print(\"C\")"
      ],
      "metadata": {
        "colab": {
          "base_uri": "https://localhost:8080/"
        },
        "id": "r3p4joBZKnn-",
        "outputId": "f82de964-ce55-483a-842c-f8f466fd5e22"
      },
      "execution_count": null,
      "outputs": [
        {
          "output_type": "stream",
          "name": "stdout",
          "text": [
            "A\n",
            "B\n",
            "C\n",
            "A\n",
            "B\n",
            "C\n",
            "A\n",
            "B\n",
            "C\n"
          ]
        }
      ]
    },
    {
      "cell_type": "markdown",
      "source": [
        "134\n",
        "\n",
        "for문을 풀어서 동일한 동작을하는 코드를 작성하라.\n",
        "\n",
        "    for 변수 in [\"A\", \"B\", \"C\"]:\n",
        "      print(\"출력:\", 변수)"
      ],
      "metadata": {
        "id": "g6_CqqQnKmM7"
      }
    },
    {
      "cell_type": "code",
      "source": [
        "variable = \"A\"\n",
        "print(\"출력: \",  variable)\n",
        "variable = \"B\"\n",
        "print(\"출력: \",  variable)\n",
        "variable = \"C\"\n",
        "print(\"출력: \",  variable)\n"
      ],
      "metadata": {
        "colab": {
          "base_uri": "https://localhost:8080/"
        },
        "id": "Sb9lGGyxKnv2",
        "outputId": "e093f1f7-d7f2-4f53-a134-36a15ae61f23"
      },
      "execution_count": null,
      "outputs": [
        {
          "output_type": "stream",
          "name": "stdout",
          "text": [
            "출력:  A\n",
            "출력:  B\n",
            "출력:  C\n"
          ]
        }
      ]
    },
    {
      "cell_type": "markdown",
      "source": [
        "135\n",
        "\n",
        "for문을 풀어서 동일한 동작을 하는 코드를 작성하라.\n",
        "\n",
        "    for 변수 in [\"A\", \"B\", \"C\"]:\n",
        "      b = 변수.lower()\n",
        "      print(\"변환:\", b)"
      ],
      "metadata": {
        "id": "4t_a-gliKmRP"
      }
    },
    {
      "cell_type": "code",
      "source": [
        "variable = \"A\"\n",
        "b = variable.lower()\n",
        "print(\"변환: \",  b)\n",
        "\n",
        "variable = \"B\"\n",
        "b = variable.lower()\n",
        "print(\"변환: \",  b)\n",
        "\n",
        "variable = \"C\"\n",
        "b = variable.lower()\n",
        "print(\"변환: \",  b)\n"
      ],
      "metadata": {
        "colab": {
          "base_uri": "https://localhost:8080/"
        },
        "id": "pdikFHW5Kn3n",
        "outputId": "1bc4305c-0801-4875-c959-c73d302f1372"
      },
      "execution_count": null,
      "outputs": [
        {
          "output_type": "stream",
          "name": "stdout",
          "text": [
            "변환:  a\n",
            "변환:  b\n",
            "변환:  c\n"
          ]
        }
      ]
    },
    {
      "cell_type": "markdown",
      "source": [
        "136\n",
        "\n",
        "다음 코드를 for문으로 작성하라.\n",
        "\n",
        "    변수 = 10\n",
        "    print(변수)\n",
        "    변수 = 20\n",
        "    print(변수)\n",
        "    변수 = 30\n",
        "    print(변수)"
      ],
      "metadata": {
        "id": "7a4M7NBDKmVQ"
      }
    },
    {
      "cell_type": "code",
      "source": [
        "int = [10, 20, 20]\n",
        "for variable in int:\n",
        "  print(variable)"
      ],
      "metadata": {
        "colab": {
          "base_uri": "https://localhost:8080/"
        },
        "id": "tTcuShmiKn-_",
        "outputId": "db4ea3c4-af57-48e7-da20-840d5cb33adf"
      },
      "execution_count": null,
      "outputs": [
        {
          "output_type": "stream",
          "name": "stdout",
          "text": [
            "10\n",
            "20\n",
            "20\n"
          ]
        }
      ]
    },
    {
      "cell_type": "markdown",
      "source": [
        "137\n",
        "\n",
        "    다음 코드를 for문으로 작성하라.\n",
        "\n",
        "    print(10)\n",
        "    print(20)\n",
        "    print(30)"
      ],
      "metadata": {
        "id": "c7IqpZoeKmZZ"
      }
    },
    {
      "cell_type": "code",
      "source": [
        "for i in [10, 20, 30]:\n",
        "  print(i)"
      ],
      "metadata": {
        "colab": {
          "base_uri": "https://localhost:8080/"
        },
        "id": "ywA6b4aEKoGw",
        "outputId": "cdf012bc-e310-4ddf-bd03-5bdcc890a41b"
      },
      "execution_count": null,
      "outputs": [
        {
          "output_type": "stream",
          "name": "stdout",
          "text": [
            "10\n",
            "20\n",
            "30\n"
          ]
        }
      ]
    },
    {
      "cell_type": "markdown",
      "source": [
        "138\n",
        "\n",
        "다음 코드를 for문으로 작성하라.\n",
        "\n",
        "    print(10)\n",
        "    print(\"-------\")\n",
        "    print(20)\n",
        "    print(\"-------\")\n",
        "    print(30)\n",
        "    print(\"-------\")"
      ],
      "metadata": {
        "id": "5w9blbIcKmdK"
      }
    },
    {
      "cell_type": "code",
      "source": [
        "for i in [10, 20, 30]:\n",
        "  print(i)\n",
        "  print(\"------\")"
      ],
      "metadata": {
        "colab": {
          "base_uri": "https://localhost:8080/"
        },
        "id": "6T7ZgJhiKoNv",
        "outputId": "5877c2c4-1008-4d6c-d102-1d5a06eeaad7"
      },
      "execution_count": null,
      "outputs": [
        {
          "output_type": "stream",
          "name": "stdout",
          "text": [
            "10\n",
            "------\n",
            "20\n",
            "------\n",
            "30\n",
            "------\n"
          ]
        }
      ]
    },
    {
      "cell_type": "markdown",
      "source": [
        "139\n",
        "\n",
        "다음 코드를 for문으로 작성하라.\n",
        "\n",
        "    print(\"++++\")\n",
        "    print(10)\n",
        "    print(20)\n",
        "    print(30)\n",
        "\n",
        "\n",
        "\n"
      ],
      "metadata": {
        "id": "NLSPAElEKmgw"
      }
    },
    {
      "cell_type": "code",
      "source": [
        "#sol1)\n",
        "for i in [\"++++\",10,20,30]:\n",
        "  print(i)\n",
        "#sol2)\n",
        "print(\"++++\")\n",
        "for i in [10,20,30]:\n",
        "  print(i)\n"
      ],
      "metadata": {
        "colab": {
          "base_uri": "https://localhost:8080/"
        },
        "id": "SdDOIQWvKoVG",
        "outputId": "9f345cbc-2a65-44c7-d17a-1df545cb1391"
      },
      "execution_count": null,
      "outputs": [
        {
          "output_type": "stream",
          "name": "stdout",
          "text": [
            "++++\n",
            "10\n",
            "20\n",
            "30\n",
            "++++\n",
            "10\n",
            "20\n",
            "30\n"
          ]
        }
      ]
    },
    {
      "cell_type": "markdown",
      "source": [
        "40\n",
        "\n",
        "다음 코드를 for문으로 작성하라.\n",
        "\n",
        "    print(\"-------\")\n",
        "    print(\"-------\")\n",
        "    print(\"-------\")\n",
        "    print(\"-------\")"
      ],
      "metadata": {
        "id": "N1SRkr-bKmj7"
      }
    },
    {
      "cell_type": "code",
      "source": [
        "#sol1)\n",
        "for i in range(4):\n",
        "  print(\"------\")\n",
        "  \n",
        "#sol2)\n",
        "for i in [1,2,3,4]:\n",
        "  print(\"------\")"
      ],
      "metadata": {
        "colab": {
          "base_uri": "https://localhost:8080/"
        },
        "id": "6XguX5NJKoch",
        "outputId": "489c34fa-f03b-407a-a043-ba7cb3884858"
      },
      "execution_count": null,
      "outputs": [
        {
          "output_type": "stream",
          "name": "stdout",
          "text": [
            "------\n",
            "------\n",
            "------\n",
            "------\n",
            "------\n",
            "------\n",
            "------\n",
            "------\n"
          ]
        }
      ]
    }
  ]
}