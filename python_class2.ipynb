{
  "nbformat": 4,
  "nbformat_minor": 0,
  "metadata": {
    "colab": {
      "provenance": [],
      "authorship_tag": "ABX9TyO6tj5toK8QHP/dqTqhmfOr",
      "include_colab_link": true
    },
    "kernelspec": {
      "name": "python3",
      "display_name": "Python 3"
    },
    "language_info": {
      "name": "python"
    }
  },
  "cells": [
    {
      "cell_type": "markdown",
      "metadata": {
        "id": "view-in-github",
        "colab_type": "text"
      },
      "source": [
        "<a href=\"https://colab.research.google.com/github/Yeunseok97/python_start/blob/main/python_class2.ipynb\" target=\"_parent\"><img src=\"https://colab.research.google.com/assets/colab-badge.svg\" alt=\"Open In Colab\"/></a>"
      ]
    },
    {
      "cell_type": "markdown",
      "source": [
        "261 \n",
        "\n",
        "Stock 클래스 생성\n",
        "주식 종목에 대한 정보를 저장하는 Stock 클래스를 정의해보세요. 클래스는 속성과 메서드를 갖고 있지 않습니다."
      ],
      "metadata": {
        "id": "ac98U7MbVZ3j"
      }
    },
    {
      "cell_type": "code",
      "source": [
        "class Stock():\n",
        "  pass"
      ],
      "metadata": {
        "id": "ltP2gRXYVa_d"
      },
      "execution_count": 1,
      "outputs": []
    },
    {
      "cell_type": "markdown",
      "source": [
        "262 \n",
        "생성자\n",
        "Stock 클래스의 객체가 생성될 때 종목명과 종목코드를 입력 받을 수 있도록 생성자를 정의해보세요.\n",
        "\n",
        "    삼성 = Stock(\"삼성전자\", \"005930\")"
      ],
      "metadata": {
        "id": "ErCigqWnVZ71"
      }
    },
    {
      "cell_type": "code",
      "source": [
        "class Stock():\n",
        "  def __init__(self, name, code):\n",
        "    self.name = name\n",
        "    self.code = code\n",
        "\n",
        "samsung = Stock(\"삼성전자\",\"005930\")\n",
        "print(samsung.name)\n",
        "print(samsung.code)"
      ],
      "metadata": {
        "colab": {
          "base_uri": "https://localhost:8080/"
        },
        "id": "N3vq2X9lVbJt",
        "outputId": "481fe22b-be9e-467c-f7c4-3b2a84ff4389"
      },
      "execution_count": 4,
      "outputs": [
        {
          "output_type": "stream",
          "name": "stdout",
          "text": [
            "삼성전자\n",
            "005930\n"
          ]
        }
      ]
    },
    {
      "cell_type": "markdown",
      "source": [
        "263\n",
        " 메서드\n",
        "객체에 종목명을 입력할 수 있는 set_name 메서드를 추가해보세요.\n",
        "\n",
        "\n",
        "```\n",
        "# 코드로 형식 지정됨\n",
        "a = Stock(None, None)\n",
        "a.set_name(\"삼성전자\")\n",
        "```\n",
        "\n",
        "\n"
      ],
      "metadata": {
        "id": "MRI6YNr3VZ_9"
      }
    },
    {
      "cell_type": "code",
      "source": [
        "class Stock():\n",
        "  def __init__(self, name, code):\n",
        "    self.name = name\n",
        "    self.code = code\n",
        "  def set_name(self, name):\n",
        "    self.name = name\n",
        "\n",
        "\n",
        "a = Stock(None, None)\n",
        "a.set_name(\"삼성전자\")\n",
        "print(a.name)\n",
        "print(a)"
      ],
      "metadata": {
        "colab": {
          "base_uri": "https://localhost:8080/"
        },
        "id": "U9l2lvIIVbSF",
        "outputId": "bad65fb4-e1c4-4b1c-8268-a6dd5241458a"
      },
      "execution_count": 7,
      "outputs": [
        {
          "output_type": "stream",
          "name": "stdout",
          "text": [
            "삼성전자\n",
            "<__main__.Stock object at 0x7fee18b61cd0>\n"
          ]
        }
      ]
    },
    {
      "cell_type": "markdown",
      "source": [
        "264\n",
        "\n",
        "메서드\n",
        "객체에 종목코드를 입력할 수 있는 set_code 메서드를 추가해보세요.\n",
        "\n",
        "a = Stock(None, None)\n",
        "a.set_code(\"005930\")"
      ],
      "metadata": {
        "id": "w9PF8JWQVaEG"
      }
    },
    {
      "cell_type": "code",
      "source": [
        "class Stock():\n",
        "  def __init__(self, name, code):\n",
        "    self.name = name\n",
        "    self.code = code\n",
        "  def set_name(self, name):\n",
        "    self.name = name\n",
        "  def set_code(self, code):\n",
        "    self.code = code\n",
        "\n",
        "a = Stock(None, None)\n",
        "a.set_code(\"005930\")\n",
        "print(a.code)\n"
      ],
      "metadata": {
        "colab": {
          "base_uri": "https://localhost:8080/"
        },
        "id": "ScFkU1DuVbZ8",
        "outputId": "a97c7e32-e081-4ffd-e65a-76399b8f75a3"
      },
      "execution_count": 9,
      "outputs": [
        {
          "output_type": "stream",
          "name": "stdout",
          "text": [
            "005930\n"
          ]
        }
      ]
    },
    {
      "cell_type": "markdown",
      "source": [
        "265\n",
        " \n",
        "메서드\n",
        "종목명과 종목코드를 리턴하는 get_name, get_code 메서드를 추가하세요. 해당 메서드를 사용하여 종목명과 종목코드를 얻고 이를 출력해보세요.\n",
        "\n",
        "    삼성 = Stock(\"삼성전자\", \"005930\")"
      ],
      "metadata": {
        "id": "qRIaBXt5VaIP"
      }
    },
    {
      "cell_type": "code",
      "source": [
        "class Stock():\n",
        "  def __init__(self, name, code):\n",
        "    self.name = name\n",
        "    self.code = code\n",
        "  def set_name(self, name):\n",
        "    self.name = name\n",
        "  def set_code(self, code):\n",
        "    self.code = code\n",
        "  def get_name(self):\n",
        "    return (\"이름 : {}\".format(self.name))\n",
        "  def get_code(self):\n",
        "    return (\"코드 : {}\".format(self.code))\n",
        "\n",
        "삼성 = Stock(\"삼성전자\", \"005930\")\n",
        "print(삼성.name)\n",
        "print(삼성.code)\n",
        "print(삼성.get_name())\n",
        "print(삼성.get_code())"
      ],
      "metadata": {
        "colab": {
          "base_uri": "https://localhost:8080/"
        },
        "id": "rhXyO78TVbhM",
        "outputId": "c9c2a706-c191-4fdb-d109-0eef97e90707"
      },
      "execution_count": 10,
      "outputs": [
        {
          "output_type": "stream",
          "name": "stdout",
          "text": [
            "삼성전자\n",
            "005930\n",
            "이름 : 삼성전자\n",
            "코드 : 005930\n"
          ]
        }
      ]
    },
    {
      "cell_type": "markdown",
      "source": [
        "266\n",
        "\n",
        " 객체의 속성값 업데이트\n",
        "생성자에서 종목명, 종목코드, PER, PBR, 배당수익률을 입력 받을 수 있도록 생성자를 수정하세요. PER, PBR, 배당수익률은 float 타입입니다."
      ],
      "metadata": {
        "id": "p_q3dmj-VaMP"
      }
    },
    {
      "cell_type": "code",
      "source": [
        "class Stock():\n",
        "  def __init__(self, name, code, PER, PBR, DY):\n",
        "    self.name = name\n",
        "    self.code = code\n",
        "    self.PER = float(PER)\n",
        "    self.PBR = float(PBR)\n",
        "    self.DY = DY\n",
        "  def set_name(self, name):\n",
        "    self.name = name\n",
        "  def set_code(self, code):\n",
        "    self.code = code\n",
        "  def get_name(self):\n",
        "    return (\"이름 : {}\".format(self.name))\n",
        "  def get_code(self):\n",
        "    return (\"코드 : {}\".format(self.code))\n"
      ],
      "metadata": {
        "colab": {
          "base_uri": "https://localhost:8080/"
        },
        "id": "HeNLH-zWVboV",
        "outputId": "583617c6-bb81-45c7-9765-ec7da9a99482"
      },
      "execution_count": 2,
      "outputs": [
        {
          "output_type": "stream",
          "name": "stdout",
          "text": [
            "삼성전자\n",
            "005930\n",
            "이름 : 삼성전자\n",
            "코드 : 005930\n"
          ]
        }
      ]
    },
    {
      "cell_type": "markdown",
      "source": [
        "267 \n",
        "\n",
        "객체 생성\n",
        "266번에서 정의한 생성자를 통해 다음 정보를 갖는 객체를 생성해보세요."
      ],
      "metadata": {
        "id": "g95fsyVpVaQP"
      }
    },
    {
      "cell_type": "code",
      "source": [
        "class Stock():\n",
        "  def __init__(self, name, code, PER, PBR, DY):\n",
        "    self.name = name\n",
        "    self.code = code\n",
        "    self.PER = float(PER)\n",
        "    self.PBR = float(PBR)\n",
        "    self.DY = float(DY)\n",
        "Samsung = Stock(\"삼성전자\",\"005930\", 15.79, 1.33, 2.83)\n",
        "print(Samsung.name)\n",
        "print(Samsung.code)\n",
        "print(Samsung.PER)\n",
        "print(Samsung.PBR)\n",
        "print(Samsung.DY)\n",
        "\n"
      ],
      "metadata": {
        "colab": {
          "base_uri": "https://localhost:8080/"
        },
        "id": "2BoOJvdcVbv6",
        "outputId": "3ec887dc-3c22-4534-abeb-bfb0f43cafc6"
      },
      "execution_count": 6,
      "outputs": [
        {
          "output_type": "stream",
          "name": "stdout",
          "text": [
            "삼성전자\n",
            "005930\n",
            "15.79\n",
            "1.33\n",
            "2.83\n"
          ]
        }
      ]
    },
    {
      "cell_type": "markdown",
      "source": [
        "268\n",
        "\n",
        " 객체의 속성 수정\n",
        "PER, PBR, 배당수익률은 변경될 수 있는 값입니다. 이 값을 변경할 때 사용하는 set_per, set_pbr, set_dividend 메서드를 추가하세요."
      ],
      "metadata": {
        "id": "y6CEk1C-VaUG"
      }
    },
    {
      "cell_type": "code",
      "source": [
        "class Stock():\n",
        "  def __init__(self, name, code, PER, PBR, DY):\n",
        "    self.name = name\n",
        "    self.code = code\n",
        "    self.PER = float(PER)\n",
        "    self.PBR = float(PBR)\n",
        "    self.DY = float(DY)\n",
        "  \n",
        "  def set_name(self, name):\n",
        "    self.name = name\n",
        "  def set_code(self, code):\n",
        "    self.code = code\n",
        "  def get_name(self):\n",
        "    return (\"이름 : {}\".format(self.name))\n",
        "  def get_code(self):\n",
        "    return (\"코드 : {}\".format(self.code))\n",
        "\n",
        "\n",
        "  def set_PER(self, PER):\n",
        "    self.PER = PER\n",
        "  def set_PBR(self, PBR):\n",
        "    self.PBR = PBR\n",
        "  def set_DY(self, DY):\n",
        "    self.DY = DY\n",
        "\n"
      ],
      "metadata": {
        "id": "601QM_kNVb3g"
      },
      "execution_count": 16,
      "outputs": []
    },
    {
      "cell_type": "markdown",
      "source": [
        "269\n",
        "\n",
        " 객체의 속성 수정\n",
        "267번에서 생성한 객체에 set_per 메서드를 호출하여 per 값을 12.75로 수정해보세요."
      ],
      "metadata": {
        "id": "hVop17pxVaXt"
      }
    },
    {
      "cell_type": "code",
      "source": [],
      "metadata": {
        "id": "soDgFkwI-a-u"
      },
      "execution_count": null,
      "outputs": []
    },
    {
      "cell_type": "code",
      "source": [
        "Samsung = Stock(\"삼성전자\",\"005930\", 15.79, 1.33, 2.83)\n",
        "Samsung.set_PER(12.75)\n",
        "print(Samsung.PER)"
      ],
      "metadata": {
        "colab": {
          "base_uri": "https://localhost:8080/"
        },
        "id": "DvF1Z55UVb-8",
        "outputId": "03878127-4973-4c6f-c9e5-82c9b29d5c0b"
      },
      "execution_count": 19,
      "outputs": [
        {
          "output_type": "stream",
          "name": "stdout",
          "text": [
            "12.75\n"
          ]
        }
      ]
    },
    {
      "cell_type": "markdown",
      "source": [
        "270 ★★★ 다시보기\n",
        "\n",
        " 여러 종목의 객체 생성\n",
        "아래의 표를 참조하여 3종목에 대해 객체를 생성하고 이를 파이썬 리스트에 저장하세요. 파이썬 리스트에 저장된 각 종목에 대해 for 루프를 통해 종목코드와 PER을 출력해보세요."
      ],
      "metadata": {
        "id": "-BcaSmCMVabB"
      }
    },
    {
      "cell_type": "code",
      "source": [
        "class Stock():\n",
        "  def __init__(self, name, code, PER, PBR, DY):\n",
        "    self.name = name\n",
        "    self.code = code\n",
        "    self.PER = float(PER)\n",
        "    self.PBR = float(PBR)\n",
        "    self.DY = float(DY)\n",
        "  \n",
        "  def set_name(self, name):\n",
        "    self.name = name\n",
        "  def set_code(self, code):\n",
        "    self.code = code\n",
        "  def get_name(self):\n",
        "    return (\"이름 : {}\".format(self.name))\n",
        "  def get_code(self):\n",
        "    return (\"코드 : {}\".format(self.code))\n",
        "\n",
        "\n",
        "  def set_PER(self, PER):\n",
        "    self.PER = PER\n",
        "  def set_PBR(self, PBR):\n",
        "    self.PBR = PBR\n",
        "  def set_DY(self, DY):\n",
        "    self.DY = DY\n",
        "\n",
        "Samsung = Stock(\"Samsung\",\"005930\", 15.79, 1.33, 2.83)\n",
        "Hyundai = Stock(\"Hyundai\", \"005380\", 8.70, 0.35, 4.27)\n",
        "LG      = Stock(\"LG\", \"006570\", 317.34, 0.69, 1.37)\n",
        "\n",
        "s_lst =[]\n",
        "s_lst.append(Samsung)\n",
        "s_lst.append(Hyundai)\n",
        "s_lst.append(LG)\n",
        "\n",
        "for i in s_lst:\n",
        "  print(i.code,\"\\n\", i.PER)\n",
        "  print(\"\\t\")"
      ],
      "metadata": {
        "colab": {
          "base_uri": "https://localhost:8080/"
        },
        "id": "e-OMEgKbVcF9",
        "outputId": "253a631d-7ed6-4037-bef7-97b81b6c5d9b"
      },
      "execution_count": 42,
      "outputs": [
        {
          "output_type": "stream",
          "name": "stdout",
          "text": [
            "005930 \n",
            " 15.79\n",
            "\t\n",
            "005380 \n",
            " 8.7\n",
            "\t\n",
            "006570 \n",
            " 317.34\n",
            "\t\n"
          ]
        }
      ]
    },
    {
      "cell_type": "code",
      "source": [],
      "metadata": {
        "id": "CrTQ8Zvd-MDO"
      },
      "execution_count": null,
      "outputs": []
    }
  ]
}