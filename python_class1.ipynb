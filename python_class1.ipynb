{
  "nbformat": 4,
  "nbformat_minor": 0,
  "metadata": {
    "colab": {
      "provenance": [],
      "collapsed_sections": [],
      "authorship_tag": "ABX9TyOQtASw40N4ToobBHIEt9No",
      "include_colab_link": true
    },
    "kernelspec": {
      "name": "python3",
      "display_name": "Python 3"
    },
    "language_info": {
      "name": "python"
    }
  },
  "cells": [
    {
      "cell_type": "markdown",
      "metadata": {
        "id": "view-in-github",
        "colab_type": "text"
      },
      "source": [
        "<a href=\"https://colab.research.google.com/github/Yeunseok97/python_start/blob/main/python_class1.ipynb\" target=\"_parent\"><img src=\"https://colab.research.google.com/assets/colab-badge.svg\" alt=\"Open In Colab\"/></a>"
      ]
    },
    {
      "cell_type": "markdown",
      "source": [
        "251 \n",
        "\n",
        "클래스, 객체, 인스턴스\n",
        "\n",
        "클래스, 객체, 인스턴스에 대해 설명해봅시다."
      ],
      "metadata": {
        "id": "twJTbvs-Rw1C"
      }
    },
    {
      "cell_type": "code",
      "source": [
        "# 클래스 객체나 인스턴스의 설계도.\n",
        "\n",
        "# 클래스를 통해서 만들어진 놈이 객체, 인스턴스\n",
        "\n",
        "#"
      ],
      "metadata": {
        "id": "7RDhCECERygx"
      },
      "execution_count": null,
      "outputs": []
    },
    {
      "cell_type": "markdown",
      "source": [
        "252\n",
        "\n",
        " 클래스 정의\n",
        "비어있는 사람 (Human) 클래스를 \"정의\" 해보세요."
      ],
      "metadata": {
        "id": "Ro25KBAeRw5S"
      }
    },
    {
      "cell_type": "code",
      "source": [
        "class Human:\n",
        "  pass"
      ],
      "metadata": {
        "id": "o5HcNlkARypo"
      },
      "execution_count": null,
      "outputs": []
    },
    {
      "cell_type": "markdown",
      "source": [
        "253 \n",
        "\n",
        "인스턴스 생성\n",
        "사람 (Human) 클래스의 인스턴스를 \"생성\" 하고 이를 areum 변수로 바인딩해보세요."
      ],
      "metadata": {
        "id": "0pqD7CE1Rw9A"
      }
    },
    {
      "cell_type": "code",
      "source": [
        "class Human:\n",
        "  pass\n",
        "areum = Human()"
      ],
      "metadata": {
        "id": "lGTihamxRyxa"
      },
      "execution_count": null,
      "outputs": []
    },
    {
      "cell_type": "markdown",
      "source": [
        "254 \n",
        "\n",
        "클래스 생성자-1\n",
        "사람 (Human) 클래스에 \"응애응애\"를 출력하는 생성자를 추가하세요."
      ],
      "metadata": {
        "id": "sr6aras0RxBK"
      }
    },
    {
      "cell_type": "code",
      "source": [
        "class Human:\n",
        "  def __init__(self):\n",
        "    print(\"응애응애\")\n",
        "areum = Human()"
      ],
      "metadata": {
        "colab": {
          "base_uri": "https://localhost:8080/"
        },
        "id": "EX3UzfsVRy5Q",
        "outputId": "1a8b8105-44e7-4ec7-9c6c-a8b188ba3dc5"
      },
      "execution_count": null,
      "outputs": [
        {
          "output_type": "stream",
          "name": "stdout",
          "text": [
            "응애응애\n"
          ]
        }
      ]
    },
    {
      "cell_type": "markdown",
      "source": [
        "255 \n",
        "\n",
        "사람 (Human) 클래스에 (이름, 나이, 성별)을 받는 생성자를 추가하세요."
      ],
      "metadata": {
        "id": "cGlfZ7ojRxFi"
      }
    },
    {
      "cell_type": "code",
      "source": [
        "class Human:\n",
        "  def __init__(self, name, age, sex):\n",
        "    self.name = name\n",
        "    self.age = age\n",
        "    self.sex = sex\n",
        "areum = Human (\"윤석\", 26, \"남자\")\n",
        "print(areum.name)\n"
      ],
      "metadata": {
        "colab": {
          "base_uri": "https://localhost:8080/"
        },
        "id": "nPhUBlbfRzA3",
        "outputId": "21150452-b599-493e-b532-af71d9465808"
      },
      "execution_count": null,
      "outputs": [
        {
          "output_type": "stream",
          "name": "stdout",
          "text": [
            "윤석\n"
          ]
        }
      ]
    },
    {
      "cell_type": "markdown",
      "source": [
        "256\n",
        "\n",
        " 인스턴스 속성에 접근\n",
        "255에서 생성한 인스턴스의 이름, 나이, 성별을 출력하세요. 인스턴스 변수에 접근하여 값을 출력하면 됩니다."
      ],
      "metadata": {
        "id": "27fYSmdSRxrI"
      }
    },
    {
      "cell_type": "code",
      "source": [
        "class Human:\n",
        "  def __init__(self, name, age, sex):\n",
        "    self.name = name\n",
        "    self.age = age\n",
        "    self.sex = sex\n",
        "areum = Human (\"윤석\", 26, \"남자\")\n",
        "print(areum.name)\n",
        "print(areum.age)\n",
        "print(areum.sex)"
      ],
      "metadata": {
        "colab": {
          "base_uri": "https://localhost:8080/"
        },
        "id": "qkrs-28MRzIJ",
        "outputId": "98036a88-c6b4-4712-b713-0b2bac345512"
      },
      "execution_count": null,
      "outputs": [
        {
          "output_type": "stream",
          "name": "stdout",
          "text": [
            "윤석\n",
            "26\n",
            "남자\n"
          ]
        }
      ]
    },
    {
      "cell_type": "markdown",
      "source": [
        "257 \n",
        "\n",
        "클래스 메소드 - 1\n",
        "사람 (Human) 클래스에서 이름, 나이, 성별을 출력하는 who() 메소드를 추가하세요."
      ],
      "metadata": {
        "id": "oxeR3E1cRxvj"
      }
    },
    {
      "cell_type": "code",
      "source": [
        "class Human:\n",
        "  def __init__(self, name, age, sex):\n",
        "    self.name = name\n",
        "    self.age = age\n",
        "    self.sex = sex\n",
        "  def who(self):\n",
        "    print(\"이름 : {} 나이 : {} 성별 : {}\".format(self.name, self.age, self.sex))\n",
        "areum = Human(\"윤석\",26,\"남자\")\n",
        "areum = Human(\"현석\",28,\"남자\")\n",
        "\n",
        "areum.who()"
      ],
      "metadata": {
        "colab": {
          "base_uri": "https://localhost:8080/"
        },
        "id": "gAhS_Ln4RzPR",
        "outputId": "ac34f0e6-b88b-4da8-a5f6-e9536fb3077c"
      },
      "execution_count": null,
      "outputs": [
        {
          "output_type": "stream",
          "name": "stdout",
          "text": [
            "이름 : 현석 나이 : 28 성별 : 남자\n"
          ]
        }
      ]
    },
    {
      "cell_type": "markdown",
      "source": [
        "258 \n",
        "\n",
        "클래스 메소드 - 2\n",
        "사람 (Human) 클래스에 (이름, 나이, 성별)을 받는 setInfo 메소드를 추가하세요."
      ],
      "metadata": {
        "id": "ovDanlazRxzg"
      }
    },
    {
      "cell_type": "code",
      "source": [
        "class Human():\n",
        "  def __init__(self, name, age, sex):\n",
        "    self.name = name\n",
        "    self.age = age\n",
        "    self.sex = sex\n",
        "  def who(self):\n",
        "    print(\"이름 : {} 나이 : {} 성별 : {}\".format(self.name, self.age, self.sex))\n",
        "  def setInfo(self, name, age, sex):\n",
        "    self.name = name\n",
        "    self.age = age\n",
        "    self.sex = sex   \n",
        "\n",
        "areum = Human(\"medic\",21,\"female\")\n",
        "areum.who()\n",
        "\n",
        "areum.setInfo(\"marine\",31,\"male\")\n",
        "areum.who()\n",
        "\n",
        "\n",
        "\n"
      ],
      "metadata": {
        "colab": {
          "base_uri": "https://localhost:8080/"
        },
        "id": "UgP5Y4UDRzWY",
        "outputId": "92bd2001-6cd7-4dcb-c775-9288fec7e543"
      },
      "execution_count": null,
      "outputs": [
        {
          "output_type": "stream",
          "name": "stdout",
          "text": [
            "이름 : medic 나이 : 21 성별 : female\n",
            "이름 : marine 나이 : 31 성별 : male\n"
          ]
        }
      ]
    },
    {
      "cell_type": "markdown",
      "source": [
        "259 \n",
        "\n",
        "클래스 소멸자\n",
        "사람 (human) 클래스에 \"나의 죽음을 알리지 말라\"를 출력하는 소멸자를 추가하세요."
      ],
      "metadata": {
        "id": "pY8wvANoRx4g"
      }
    },
    {
      "cell_type": "code",
      "source": [
        "class Human:\n",
        "    def __init__(self, name, age, sex):\n",
        "        self.name = name\n",
        "        self.age = age\n",
        "        self.sex = sex\n",
        "\n",
        "    def __del__(self):\n",
        "        print(\"나의 죽음을 알리지마라\")\n",
        "\n",
        "    def who(self):\n",
        "        print(\"이름: {} 나이: {} 성별: {}\".format(self.name, self.age, self.sex))\n",
        "\n",
        "    def setInfo(self, name, age, sex):\n",
        "        self.name = name\n",
        "        self.age = age\n",
        "        self.sex = sex\n",
        "\n",
        "areum = Human(\"marin\",31,\"male\")\n",
        "areum.who()\n",
        "del(areum)\n",
        "areum.who()"
      ],
      "metadata": {
        "colab": {
          "base_uri": "https://localhost:8080/",
          "height": 248
        },
        "id": "Fc6yMUrWRzd3",
        "outputId": "c5003909-59f1-4129-acb0-a64710371ecb"
      },
      "execution_count": null,
      "outputs": [
        {
          "output_type": "stream",
          "name": "stdout",
          "text": [
            "이름: marin 나이: 31 성별: male\n",
            "나의 죽음을 알리지마라\n"
          ]
        },
        {
          "output_type": "error",
          "ename": "NameError",
          "evalue": "ignored",
          "traceback": [
            "\u001b[0;31m---------------------------------------------------------------------------\u001b[0m",
            "\u001b[0;31mNameError\u001b[0m                                 Traceback (most recent call last)",
            "\u001b[0;32m<ipython-input-13-c54db83cc4c7>\u001b[0m in \u001b[0;36m<module>\u001b[0;34m\u001b[0m\n\u001b[1;32m     19\u001b[0m \u001b[0mareum\u001b[0m\u001b[0;34m.\u001b[0m\u001b[0mwho\u001b[0m\u001b[0;34m(\u001b[0m\u001b[0;34m)\u001b[0m\u001b[0;34m\u001b[0m\u001b[0;34m\u001b[0m\u001b[0m\n\u001b[1;32m     20\u001b[0m \u001b[0;32mdel\u001b[0m\u001b[0;34m(\u001b[0m\u001b[0mareum\u001b[0m\u001b[0;34m)\u001b[0m\u001b[0;34m\u001b[0m\u001b[0;34m\u001b[0m\u001b[0m\n\u001b[0;32m---> 21\u001b[0;31m \u001b[0mareum\u001b[0m\u001b[0;34m.\u001b[0m\u001b[0mwho\u001b[0m\u001b[0;34m(\u001b[0m\u001b[0;34m)\u001b[0m\u001b[0;34m\u001b[0m\u001b[0;34m\u001b[0m\u001b[0m\n\u001b[0m",
            "\u001b[0;31mNameError\u001b[0m: name 'areum' is not defined"
          ]
        }
      ]
    },
    {
      "cell_type": "markdown",
      "source": [
        "260 \n",
        "\n",
        "에러의 원인\n",
        "아래와 같은 에러가 발생한 원인에 대해 설명하세요.\n",
        "\n",
        "\n",
        "```\n",
        "# 코드로 형식 지정됨\n",
        "class OMG : \n",
        "    def print() :\n",
        "        print(\"Oh my god\")\n",
        "\n",
        ">>> >>> myStock = OMG()\n",
        ">>> myStock.print()\n",
        "TypeError Traceback (most recent call last)\n",
        "<ipython-input-233-c85c04535b22> in <module>()\n",
        "----> myStock.print()\n",
        "\n",
        "TypeError: print() takes 0 positional arguments but 1 was given\n",
        "```\n",
        "\n",
        "\n"
      ],
      "metadata": {
        "id": "Q4AwiMFxRx8I"
      }
    },
    {
      "cell_type": "code",
      "source": [
        "# 함수 안에는 인자를 안 받는데, mystock이라는 인자가 들어와버려서 에러남.\n",
        "# OMG.print(myStock)\n",
        "# def 안에 self를 넣어줘야함.\n",
        "class OMG : \n",
        "    def print(self) :\n",
        "        print(\"Oh my god\")\n",
        "mystock = OMG()\n",
        "mystock.print()\n"
      ],
      "metadata": {
        "colab": {
          "base_uri": "https://localhost:8080/"
        },
        "id": "Wvu8FFg2RznP",
        "outputId": "0b5bd856-eaeb-4005-abea-b321b56e007d"
      },
      "execution_count": null,
      "outputs": [
        {
          "output_type": "stream",
          "name": "stdout",
          "text": [
            "Oh my god\n"
          ]
        }
      ]
    }
  ]
}