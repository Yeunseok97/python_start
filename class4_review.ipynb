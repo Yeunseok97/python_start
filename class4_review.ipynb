{
  "nbformat": 4,
  "nbformat_minor": 0,
  "metadata": {
    "colab": {
      "provenance": [],
      "authorship_tag": "ABX9TyMdkSe2R/yNtkxYgxNplyMp",
      "include_colab_link": true
    },
    "kernelspec": {
      "name": "python3",
      "display_name": "Python 3"
    },
    "language_info": {
      "name": "python"
    }
  },
  "cells": [
    {
      "cell_type": "markdown",
      "metadata": {
        "id": "view-in-github",
        "colab_type": "text"
      },
      "source": [
        "<a href=\"https://colab.research.google.com/github/Yeunseok97/python_start/blob/main/class4_review.ipynb\" target=\"_parent\"><img src=\"https://colab.research.google.com/assets/colab-badge.svg\" alt=\"Open In Colab\"/></a>"
      ]
    },
    {
      "cell_type": "code",
      "execution_count": null,
      "metadata": {
        "id": "jeIe-UNjG0Vz"
      },
      "outputs": [],
      "source": [
        "class Car():\n",
        "  def __init__(self, wheel, price):\n",
        "    self.wheel = wheel\n",
        "    self.price = price"
      ]
    },
    {
      "cell_type": "code",
      "source": [
        "class Car():\n",
        "  def __init__(self, wheel, price):\n",
        "    self.wheel = wheel\n",
        "    self.price = price\n",
        "\n",
        "class bicycle(Car):\n",
        "  pass"
      ],
      "metadata": {
        "id": "6P5ldggYG5tD"
      },
      "execution_count": null,
      "outputs": []
    },
    {
      "cell_type": "code",
      "source": [
        "class Car():\n",
        "  def __init__(self, wheel, price):\n",
        "    self.wheel = wheel\n",
        "    self.price = price\n",
        "\n",
        "class Bicycle(Car):\n",
        "  def __init__(self, wheel, price):\n",
        "    super().__init__(wheel, price)\n",
        "\n",
        "bicycle = Bicycle(2, 1000)\n",
        "print(bicycle.price)  \n",
        "  "
      ],
      "metadata": {
        "colab": {
          "base_uri": "https://localhost:8080/"
        },
        "id": "YVuCCxElG5xc",
        "outputId": "e431a07f-5cb1-41f4-aa71-cc0ceade221b"
      },
      "execution_count": 2,
      "outputs": [
        {
          "output_type": "stream",
          "name": "stdout",
          "text": [
            "1000\n"
          ]
        }
      ]
    },
    {
      "cell_type": "code",
      "source": [
        "class Car():\n",
        "  def __init__(self, wheel, price):\n",
        "    self.wheel = wheel\n",
        "    self.price = price\n",
        "\n",
        "class Bicycle(Car):\n",
        "  def __init__(self, wheel, price, drivetrain):\n",
        "    super().__init__(wheel, price)\n",
        "    self.drivetrain = drivetrain\n",
        "\n",
        "bicycle = Bicycle(2, 1000, \"simano\")\n",
        "print(bicycle.drivetrain)  \n",
        "  "
      ],
      "metadata": {
        "colab": {
          "base_uri": "https://localhost:8080/"
        },
        "id": "T5EmYAwpG51a",
        "outputId": "ad4aeda7-7577-48d0-81d2-45707796ea33"
      },
      "execution_count": 5,
      "outputs": [
        {
          "output_type": "stream",
          "name": "stdout",
          "text": [
            "simano\n"
          ]
        }
      ]
    },
    {
      "cell_type": "code",
      "source": [
        "class Car():\n",
        "  def __init__(self, wheel, price):\n",
        "    self.wheel = wheel\n",
        "    self.price = price\n",
        "\n",
        "class Bicycle(Car):\n",
        "  def __init__(self, wheel, price, drivetrain):\n",
        "    super().__init__(wheel, price)\n",
        "    self.drivetrain = drivetrain\n",
        "\n",
        "class SUV(Car):\n",
        "  def __init__(self, wheel, price):\n",
        "    super().__init__(wheel, price)\n",
        "  def Info(self):\n",
        "    print(\"wheel type\",self.wheel,\"\\n\" \"price\",self.price)\n",
        "\n",
        "sorrento = SUV(4, 1000)\n",
        "sorrento.Info()\n",
        "\n",
        "  "
      ],
      "metadata": {
        "colab": {
          "base_uri": "https://localhost:8080/"
        },
        "id": "Y7XOF6EcG55t",
        "outputId": "4a1e3483-1b2b-43b6-b56b-55f0934ef4d6"
      },
      "execution_count": 8,
      "outputs": [
        {
          "output_type": "stream",
          "name": "stdout",
          "text": [
            "wheel type 4 \n",
            "price 1000\n"
          ]
        }
      ]
    },
    {
      "cell_type": "code",
      "source": [
        "class Car():\n",
        "  def __init__(self, wheel, price):\n",
        "    self.wheel = wheel\n",
        "    self.price = price\n",
        "  def Info(self):\n",
        "      print(\"wheel type\",self.wheel, \"\\n price\", self.price, \"\\n\",self.drivetrain)  \n",
        "\n",
        "class Bicycle(Car):\n",
        "  def __init__(self, wheel, price, drivetrain):\n",
        "    super().__init__(wheel, price)\n",
        "    self.drivetrain = drivetrain\n",
        "\n",
        "\n",
        "class SUV(Car):\n",
        "  def __init__(self, wheel, price):\n",
        "    super().__init__(wheel, price)\n",
        " \n",
        "\n",
        "bicycle = Bicycle(4, 1000,\"kia\")\n",
        "bicycle.Info()\n"
      ],
      "metadata": {
        "colab": {
          "base_uri": "https://localhost:8080/"
        },
        "id": "7ajrDVMWG59a",
        "outputId": "9ca3a0ef-7ab0-4539-e82c-a8c6c727b889"
      },
      "execution_count": 17,
      "outputs": [
        {
          "output_type": "stream",
          "name": "stdout",
          "text": [
            "wheel type 4 \n",
            " price 1000 \n",
            " kia\n"
          ]
        }
      ]
    },
    {
      "cell_type": "code",
      "source": [
        "class Car():\n",
        "  def __init__(self, wheel, price):\n",
        "    self.wheel = wheel\n",
        "    self.price = price\n",
        "  def Info(self):\n",
        "      print(\"wheel type\",self.wheel, \"\\nprice\", self.price,)  \n",
        "\n",
        "class Bicycle(Car):\n",
        "  def __init__(self, wheel, price, drivetrain):\n",
        "    super().__init__(wheel, price)\n",
        "    self.drivetrain = drivetrain\n",
        "  def Info(self):\n",
        "      super().Info()\n",
        "      print(self.drivetrain)\n",
        "\n",
        "class SUV(Car):\n",
        "  def __init__(self, wheel, price):\n",
        "    super().__init__(wheel, price)\n",
        " \n",
        "\n",
        "bicycle = Bicycle(4, 1000,\"kia\")\n",
        "bicycle.Info()\n"
      ],
      "metadata": {
        "colab": {
          "base_uri": "https://localhost:8080/"
        },
        "id": "_TRVDS9zG6AQ",
        "outputId": "a6228dc1-f671-41d6-be31-edead5398dd3"
      },
      "execution_count": 20,
      "outputs": [
        {
          "output_type": "stream",
          "name": "stdout",
          "text": [
            "wheel type 4 \n",
            "price 1000\n",
            "kia\n"
          ]
        }
      ]
    }
  ]
}