{
  "nbformat": 4,
  "nbformat_minor": 0,
  "metadata": {
    "colab": {
      "provenance": [],
      "collapsed_sections": []
    },
    "kernelspec": {
      "name": "python3",
      "display_name": "Python 3"
    },
    "language_info": {
      "name": "python"
    }
  },
  "cells": [
    {
      "cell_type": "markdown",
      "source": [
        "1,2\n",
        "\n",
        "화면에 Hello World 문자열을 출력하세요.\n"
      ],
      "metadata": {
        "id": "0OtDRw_DYcAr"
      }
    },
    {
      "cell_type": "code",
      "source": [
        "print(\"Hello world\")"
      ],
      "metadata": {
        "colab": {
          "base_uri": "https://localhost:8080/"
        },
        "id": "g8wiFAS9YSuO",
        "outputId": "4e564a3f-92ad-4e0f-8a59-6c129e116c4b"
      },
      "execution_count": null,
      "outputs": [
        {
          "output_type": "stream",
          "name": "stdout",
          "text": [
            "Hello world\n"
          ]
        }
      ]
    },
    {
      "cell_type": "code",
      "source": [
        "print('신씨가 소리질렀다. \"도둑이야\"')"
      ],
      "metadata": {
        "colab": {
          "base_uri": "https://localhost:8080/"
        },
        "id": "Lqtm-ihUYSxA",
        "outputId": "617ed848-e821-446a-8351-ef518ce7884f"
      },
      "execution_count": null,
      "outputs": [
        {
          "output_type": "stream",
          "name": "stdout",
          "text": [
            "신씨가 소리질렀다. \"도둑이야\"\n"
          ]
        }
      ]
    },
    {
      "cell_type": "markdown",
      "source": [
        "3,4\n",
        "\n",
        "화면에 Mary's cosmetics을 출력하세요. (중간에 '가 있음에 주의하세요)"
      ],
      "metadata": {
        "id": "bQ0VwghXYkEo"
      }
    },
    {
      "cell_type": "code",
      "source": [
        "print(\"Mary's cosmetics\")"
      ],
      "metadata": {
        "colab": {
          "base_uri": "https://localhost:8080/"
        },
        "id": "1SidgStGYm4f",
        "outputId": "870dfcf9-08fd-4d7d-de3d-7d20cb088807"
      },
      "execution_count": null,
      "outputs": [
        {
          "output_type": "stream",
          "name": "stdout",
          "text": [
            "Mary's cosmetics\n"
          ]
        }
      ]
    },
    {
      "cell_type": "markdown",
      "source": [
        "신씨가 소리질렀다. \"도둑이야\"."
      ],
      "metadata": {
        "id": "olLsZWQMYp6R"
      }
    },
    {
      "cell_type": "markdown",
      "source": [],
      "metadata": {
        "id": "J1-1KNGPYSKu"
      }
    },
    {
      "cell_type": "markdown",
      "source": [
        "3. \n",
        "화면에 \"C:\\Windows\"를 출력하세요."
      ],
      "metadata": {
        "id": "01RH60DCYzbT"
      }
    },
    {
      "cell_type": "code",
      "source": [
        "print('\"C:Windows\"')"
      ],
      "metadata": {
        "colab": {
          "base_uri": "https://localhost:8080/"
        },
        "id": "Gx7PWN4gYSzn",
        "outputId": "dfc09713-0d5a-42b1-b983-e3d0db1f6e27"
      },
      "execution_count": 1,
      "outputs": [
        {
          "output_type": "stream",
          "name": "stdout",
          "text": [
            "\"C:Windows\"\n"
          ]
        }
      ]
    },
    {
      "cell_type": "markdown",
      "source": [
        "5.\n",
        "\n",
        "다음 코드를 실행해보고 \\t와 \\n의 역할을 설명해보세요."
      ],
      "metadata": {
        "id": "tMIAjC85taRr"
      }
    },
    {
      "cell_type": "code",
      "source": [
        "print(\"안녕하세요.\\n만나서\\t\\t반갑습니다.\")\n",
        "# \\n 행변환\n",
        "# \\t 탭"
      ],
      "metadata": {
        "id": "Sk5v-DHzYS2a",
        "colab": {
          "base_uri": "https://localhost:8080/"
        },
        "outputId": "9f9a6ada-edfa-45f1-fce1-8df607ef7db6"
      },
      "execution_count": 2,
      "outputs": [
        {
          "output_type": "stream",
          "name": "stdout",
          "text": [
            "안녕하세요.\n",
            "만나서\t\t반갑습니다.\n"
          ]
        }
      ]
    },
    {
      "cell_type": "markdown",
      "source": [
        "6,7\n",
        "\n",
        "print 함수에 두 개의 단어를 입력한 예제입니다. 아래 코드의 출력 결과를 예상해봅시다."
      ],
      "metadata": {
        "id": "WoYrpdUttdSZ"
      }
    },
    {
      "cell_type": "code",
      "source": [
        "print (\"오늘은\", \"일요일\",\" 개꿀따리 개꿀따\")\n",
        "# 여러 값을 출력하려면 쉼표로 구분하면 됨.\n"
      ],
      "metadata": {
        "id": "9s7VGbMAYS5H",
        "colab": {
          "base_uri": "https://localhost:8080/"
        },
        "outputId": "346989b1-e66a-4f59-c4f0-c633e2eb47d5"
      },
      "execution_count": null,
      "outputs": [
        {
          "output_type": "stream",
          "name": "stdout",
          "text": [
            "오늘은 일요일  개꿀따리 개꿀따\n"
          ]
        }
      ]
    },
    {
      "cell_type": "markdown",
      "source": [
        "print() 함수를 사용하여 다음과 같이 출력하세요.\n",
        "naver;kakao;sk;samsung"
      ],
      "metadata": {
        "id": "6MuUAJYathTJ"
      }
    },
    {
      "cell_type": "code",
      "source": [
        "print(\"naver\",\"kakao\",\"sk\",\"samsung\",sep = \";\")\n",
        "#sep으로 구분지을 수 있음."
      ],
      "metadata": {
        "id": "mY252u5rYS7y",
        "colab": {
          "base_uri": "https://localhost:8080/"
        },
        "outputId": "163c4aaa-57aa-403b-be57-84136b115c0b"
      },
      "execution_count": null,
      "outputs": [
        {
          "output_type": "stream",
          "name": "stdout",
          "text": [
            "naver;kakao;sk;samsung\n"
          ]
        }
      ]
    },
    {
      "cell_type": "markdown",
      "source": [
        "8.\n",
        "\n",
        "print() 함수를 사용하여 다음과 같이 출력하세요.\n",
        "naver/kakao/sk/samsung"
      ],
      "metadata": {
        "id": "bYi9bOj2to5r"
      }
    },
    {
      "cell_type": "code",
      "source": [
        "print(\"naver\",\"kakao\",\"sk\",\"samsung\",sep = \"/\")\n",
        "#sep으로 구분지을 수 있음."
      ],
      "metadata": {
        "id": "VYEW_0JEYS-z",
        "colab": {
          "base_uri": "https://localhost:8080/"
        },
        "outputId": "985d73dd-8912-44fa-c5ef-5182cb9f1983"
      },
      "execution_count": 5,
      "outputs": [
        {
          "output_type": "stream",
          "name": "stdout",
          "text": [
            "naver/kakao/sk/samsung\n"
          ]
        }
      ]
    },
    {
      "cell_type": "markdown",
      "source": [
        "9.\n",
        "\n",
        "다음 코드를 수정하여 줄바꿈이 없이 출력하세요. \n",
        "print(\"first\");print(\"second\")\n",
        "\n"
      ],
      "metadata": {
        "id": "9ACncWSPtv14"
      }
    },
    {
      "cell_type": "code",
      "source": [
        "print(\"first\",end =\" \");print(\"second\")"
      ],
      "metadata": {
        "id": "b0PB5dcvYTCL",
        "colab": {
          "base_uri": "https://localhost:8080/"
        },
        "outputId": "dd449b28-6843-419b-ee4e-259f3497db3c"
      },
      "execution_count": 4,
      "outputs": [
        {
          "output_type": "stream",
          "name": "stdout",
          "text": [
            "first second\n"
          ]
        }
      ]
    },
    {
      "cell_type": "markdown",
      "source": [
        "10.\n",
        "\n",
        "5/3의 결과를 화면에 출력하세요."
      ],
      "metadata": {
        "id": "B3QxnO2XuH8f"
      }
    },
    {
      "cell_type": "code",
      "source": [
        "print(5/3)\n",
        "5/3\n",
        "\n",
        "#colab의 경우 마지막 줄을 실행하기 때문에 5/3도 가능"
      ],
      "metadata": {
        "id": "qn_GB-mXYTEg",
        "colab": {
          "base_uri": "https://localhost:8080/"
        },
        "outputId": "ee931f45-6fa8-474b-d63e-1decfa931490"
      },
      "execution_count": null,
      "outputs": [
        {
          "output_type": "stream",
          "name": "stdout",
          "text": [
            "1.6666666666666667\n"
          ]
        },
        {
          "output_type": "execute_result",
          "data": {
            "text/plain": [
              "1.6666666666666667"
            ]
          },
          "metadata": {},
          "execution_count": 26
        }
      ]
    }
  ]
}