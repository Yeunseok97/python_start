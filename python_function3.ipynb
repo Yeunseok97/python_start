{
  "nbformat": 4,
  "nbformat_minor": 0,
  "metadata": {
    "colab": {
      "provenance": [],
      "collapsed_sections": [],
      "authorship_tag": "ABX9TyPlgZsrh9yTG3ugrTq6dMnZ",
      "include_colab_link": true
    },
    "kernelspec": {
      "name": "python3",
      "display_name": "Python 3"
    },
    "language_info": {
      "name": "python"
    }
  },
  "cells": [
    {
      "cell_type": "markdown",
      "metadata": {
        "id": "view-in-github",
        "colab_type": "text"
      },
      "source": [
        "<a href=\"https://colab.research.google.com/github/Yeunseok97/python_start/blob/main/python_function3.ipynb\" target=\"_parent\"><img src=\"https://colab.research.google.com/assets/colab-badge.svg\" alt=\"Open In Colab\"/></a>"
      ]
    },
    {
      "cell_type": "markdown",
      "source": [
        "221\n",
        "\n",
        "입력된 문자열을 역순으로 출력하는 print_reverse 함수를 정의하라.\n",
        "\n",
        "print_reverse(\"python\")"
      ],
      "metadata": {
        "id": "NQBpXOqzkkAV"
      }
    },
    {
      "cell_type": "code",
      "source": [
        "def print_reverse(string):\n",
        "  print(string[::-1])\n",
        "print_reverse(\"abc\")"
      ],
      "metadata": {
        "colab": {
          "base_uri": "https://localhost:8080/"
        },
        "id": "TaoQz4GeklXq",
        "outputId": "bf9074db-6fd9-4f5f-cfbc-941d50e40d5b"
      },
      "execution_count": null,
      "outputs": [
        {
          "output_type": "stream",
          "name": "stdout",
          "text": [
            "cba\n"
          ]
        }
      ]
    },
    {
      "cell_type": "markdown",
      "source": [
        "222\n",
        "\n",
        "성적 리스트를 입력 받아 평균을 출력하는 print_score 함수를 \n",
        "\n",
        "정의하라.\n",
        "\n",
        "    print_score ([1, 2, 3])"
      ],
      "metadata": {
        "id": "_Fj653LzkkFt"
      }
    },
    {
      "cell_type": "code",
      "source": [
        "def print_score(list):\n",
        "  print(sum(list)/len(list))\n",
        "print_score([1,2,3])"
      ],
      "metadata": {
        "colab": {
          "base_uri": "https://localhost:8080/"
        },
        "id": "nrmAj9ZBklfZ",
        "outputId": "93349d60-0a49-472c-81b4-2aa3edda9cfa"
      },
      "execution_count": 3,
      "outputs": [
        {
          "output_type": "stream",
          "name": "stdout",
          "text": [
            "2.0\n"
          ]
        }
      ]
    },
    {
      "cell_type": "markdown",
      "source": [
        "223\n",
        "\n",
        "하나의 리스트를 입력받아 짝수만 화면에 출력하는 print_even 함수를 정의하라.\n",
        "\n",
        "    print_even ([1, 3, 2, 10, 12, 11, 15])"
      ],
      "metadata": {
        "id": "irMP-izPkkJs"
      }
    },
    {
      "cell_type": "code",
      "source": [
        "def print_even(list):\n",
        "  for i in list:\n",
        "    if i % 2 == 0:\n",
        "      print(i)\n",
        "\n",
        "print_even([1,3,2,10,12,11,15])"
      ],
      "metadata": {
        "id": "ThH6meC9klmk",
        "colab": {
          "base_uri": "https://localhost:8080/"
        },
        "outputId": "d131e9a5-99af-4008-8ebf-ae54e2264526"
      },
      "execution_count": 4,
      "outputs": [
        {
          "output_type": "stream",
          "name": "stdout",
          "text": [
            "2\n",
            "10\n",
            "12\n"
          ]
        }
      ]
    },
    {
      "cell_type": "markdown",
      "source": [
        "224\n",
        "\n",
        "하나의 딕셔너리를 입력받아 딕셔너리의 key 값을 화면에 출력하는 print_keys 함수를 정의하라.\n",
        "\n",
        "    print_keys ({\"이름\":\"김말똥\", \"나이\":30, \"성별\":0})"
      ],
      "metadata": {
        "id": "i9KdUrWEkkN9"
      }
    },
    {
      "cell_type": "code",
      "source": [
        "def print_keys(dict):\n",
        "  for i in dict.keys():\n",
        "    print(i)\n",
        "\n",
        "\n",
        "print_keys({\"이름\":\"김말똥\", \"나이\":30, \"성별\":0})\n",
        "\n",
        "\n"
      ],
      "metadata": {
        "id": "g6BL3QCdkltj",
        "colab": {
          "base_uri": "https://localhost:8080/"
        },
        "outputId": "f4b2a621-100c-4c99-8e2c-a62e94f8166d"
      },
      "execution_count": 21,
      "outputs": [
        {
          "output_type": "stream",
          "name": "stdout",
          "text": [
            "이름\n",
            "나이\n",
            "성별\n"
          ]
        }
      ]
    },
    {
      "cell_type": "markdown",
      "source": [
        "225\n",
        "\n",
        "my_dict에는 날짜를 키값으로 OHLC가 리스트로 저장돼 있다.\n",
        "\n",
        "\n",
        "```\n",
        "# 코드로 형식 지정됨\n",
        "\n",
        "my_dict = {\"10/26\" : [100, 130, 100, 100],\n",
        "           \"10/27\" : [10, 12, 10, 11]}\n",
        "```\n",
        "\n",
        "\n",
        "my_dict와 날짜 키값을 입력받아 OHLC 리스트를 출력하는 print_value_by_key 함수를 정의하라.\n",
        "\n",
        "    print_value_by_key  (my_dict, \"10/26\")\n",
        "    [100, 130, 100, 100]"
      ],
      "metadata": {
        "id": "T5cmVIRikkSK"
      }
    },
    {
      "cell_type": "code",
      "source": [
        "my_dict = {\"10/26\" : [100, 130, 100, 100],\n",
        "           \"10/27\" : [10, 12, 10, 11]}\n",
        "\n",
        "def print_value_by_key(my_dict, date):\n",
        "  print(my_dict[date])\n",
        "\n",
        "print_value_by_key(my_dict, \"10/26\")"
      ],
      "metadata": {
        "id": "QFhbTiyAkl0x",
        "colab": {
          "base_uri": "https://localhost:8080/"
        },
        "outputId": "22fb92bb-b628-439a-ba19-ff968a18f588"
      },
      "execution_count": 24,
      "outputs": [
        {
          "output_type": "stream",
          "name": "stdout",
          "text": [
            "[100, 130, 100, 100]\n"
          ]
        }
      ]
    },
    {
      "cell_type": "markdown",
      "source": [
        "226\n",
        "\n",
        "입력 문자열을 한 줄에 다섯글자씩 출력하는 print_5xn\n",
        "\n",
        "(string) 함수를 작성하라.\n",
        "\n",
        "    print_5xn(\"아이엠어보이유알어걸\")\n",
        "    아이엠어보\n",
        "    이유알어걸"
      ],
      "metadata": {
        "id": "5oFoWO0ykkWG"
      }
    },
    {
      "cell_type": "code",
      "source": [
        "#다시 볼 것\n",
        "# 1) 포문에서5글자 단위로 끊는걸 먼저 해야함. -> 몇 줄로 출력할건지\n",
        "# 2) 리스트 슬라이싱으로 출력할 범위 쪼개는데 인덱스 5기준으로 쪼개면 아, 이, 1이 기준으로 3줄이 출력됨\n",
        "# 3) 다섯 글자 씩 출력하려면 인덱스 0, 5, 10 기준으로부터 +5개를 출력해줘야하므로 \n",
        "# i*5 : i*5 + 5 범위로 슬라이싱 해줘야한다\n",
        "def print_5xn(string):\n",
        "  for i in range(int(len(string)/5)+1):\n",
        "    print(string[i*5:i*5+5])\n",
        "\n",
        "  \n",
        "print_5xn(\"아이엠어보이유알어걸1\")"
      ],
      "metadata": {
        "id": "KEsYo8Wokl7s",
        "colab": {
          "base_uri": "https://localhost:8080/"
        },
        "outputId": "bdc1ee29-c33b-404a-f3c4-3737daf2314e"
      },
      "execution_count": 85,
      "outputs": [
        {
          "output_type": "stream",
          "name": "stdout",
          "text": [
            "아이엠어보\n",
            "이유알어걸\n",
            "1\n"
          ]
        }
      ]
    },
    {
      "cell_type": "markdown",
      "source": [
        "227\n",
        "\n",
        "문자열과 한줄에 출력될 글자 수를 입력을 받아 한 줄에 입력된 글자 수만큼 출력하는 print_mxn(string) 함수를 작성하라.\n",
        "\n",
        "    printmxn(\"아이엠어보이유알어걸\", 3)\n",
        "    아이엠\n",
        "    어보이\n",
        "    유알어\n",
        "    걸"
      ],
      "metadata": {
        "id": "29fS_UnCkkae"
      }
    },
    {
      "cell_type": "code",
      "source": [
        "def printmxn(string, line):\n",
        "  for i in range(int(len(string)/line)+1):\n",
        "    print(string[i*line:i*line+line])\n",
        "\n",
        "printmxn(\"아이엠어보이유알어걸\", 3)"
      ],
      "metadata": {
        "id": "7z6JKa9WkmDC",
        "colab": {
          "base_uri": "https://localhost:8080/"
        },
        "outputId": "45929391-c160-4886-e7f7-dbca55a72dd9"
      },
      "execution_count": 86,
      "outputs": [
        {
          "output_type": "stream",
          "name": "stdout",
          "text": [
            "아이엠\n",
            "어보이\n",
            "유알어\n",
            "걸\n"
          ]
        }
      ]
    },
    {
      "cell_type": "markdown",
      "source": [
        "228\n",
        "\n",
        "연봉을 입력받아 월급을 계산하는 calc_monthly_salary(annual_salary) 함수를 정의하라. 회사는 연봉을 12개월로 나누어 분할 지급하며, 이 때 1원 미만은 버림한다.\n",
        "\n",
        "    calc_monthly_salary(12000000)\n",
        "    1000000"
      ],
      "metadata": {
        "id": "ohK9gZTAkkes"
      }
    },
    {
      "cell_type": "code",
      "source": [
        "def calc_monthly_salary(salary):\n",
        "  month_salary = int(salary/12)\n",
        "  print(month_salary)\n",
        "  return month_salary\n",
        "calc_monthly_salary(12001234)"
      ],
      "metadata": {
        "id": "_x9ANTGhkmKZ",
        "colab": {
          "base_uri": "https://localhost:8080/"
        },
        "outputId": "46932fd3-c629-4e55-a458-d20f9692ff0b"
      },
      "execution_count": 99,
      "outputs": [
        {
          "output_type": "stream",
          "name": "stdout",
          "text": [
            "1000102\n"
          ]
        },
        {
          "output_type": "execute_result",
          "data": {
            "text/plain": [
              "1000102"
            ]
          },
          "metadata": {},
          "execution_count": 99
        }
      ]
    },
    {
      "cell_type": "markdown",
      "source": [
        "229\n",
        "\n",
        "아래 코드의 실행 결과를 예측하라.\n",
        "\n",
        "\n",
        "```\n",
        "\n",
        "def my_print (a, b) :\n",
        "    print(\"왼쪽:\", a)\n",
        "    print(\"오른쪽:\", b)\n",
        "\n",
        "my_print(a=100, b=200)\n",
        "\n",
        "```\n",
        "\n"
      ],
      "metadata": {
        "id": "YFWmQe1Rkkir"
      }
    },
    {
      "cell_type": "code",
      "source": [
        "#a 와 b에 값을 바인딩해서 넣는것이므로 상관이 없이 그대로 출력된다.\n",
        "def my_print (a, b) :\n",
        "    print(\"왼쪽:\", a)\n",
        "    print(\"오른쪽:\", b)\n",
        "\n",
        "my_print(a=100, b=200)"
      ],
      "metadata": {
        "id": "epB_hwR3kmRp",
        "colab": {
          "base_uri": "https://localhost:8080/"
        },
        "outputId": "7a4910ba-084e-4d64-9cea-b90081108fa1"
      },
      "execution_count": 102,
      "outputs": [
        {
          "output_type": "stream",
          "name": "stdout",
          "text": [
            "왼쪽: 100\n",
            "오른쪽: 200\n"
          ]
        }
      ]
    },
    {
      "cell_type": "markdown",
      "source": [
        "230\n",
        "\n",
        "아래 코드의 실행 결과를 예측하라.\n",
        "\n",
        "\n",
        "```\n",
        "# 코드로 형식 지정됨\n",
        "\n",
        "def my_print (a, b) :\n",
        "    print(\"왼쪽:\", a)\n",
        "    print(\"오른쪽:\", b)\n",
        "\n",
        "my_print(b=100, a=200)\n",
        "```"
      ],
      "metadata": {
        "id": "OtL6V0A3kkmS"
      }
    },
    {
      "cell_type": "code",
      "source": [
        "#왼쪽 200 오른쪽 100이 출력됨.\n",
        "# 함수 호출 시 a, 와 b 값을 바인딩을해서 넣어줬기 때문에 \n",
        "#인자 입력 순서랑 상관없이 함수 내 갑과 같으므로\n",
        "def my_print (a, b) :\n",
        "    print(\"왼쪽:\", a)\n",
        "    print(\"오른쪽:\", b)\n",
        "\n",
        "my_print(b = 100, a = 200)"
      ],
      "metadata": {
        "id": "CmSs2a3SkmYx",
        "colab": {
          "base_uri": "https://localhost:8080/"
        },
        "outputId": "805024f2-6d66-4721-9560-1cdc0e8ff0ae"
      },
      "execution_count": 106,
      "outputs": [
        {
          "output_type": "stream",
          "name": "stdout",
          "text": [
            "왼쪽: 200\n",
            "오른쪽: 100\n"
          ]
        }
      ]
    }
  ]
}