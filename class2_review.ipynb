{
  "nbformat": 4,
  "nbformat_minor": 0,
  "metadata": {
    "colab": {
      "provenance": [],
      "authorship_tag": "ABX9TyMzl8swtfcN3m4Z0AsfwkKj",
      "include_colab_link": true
    },
    "kernelspec": {
      "name": "python3",
      "display_name": "Python 3"
    },
    "language_info": {
      "name": "python"
    }
  },
  "cells": [
    {
      "cell_type": "markdown",
      "metadata": {
        "id": "view-in-github",
        "colab_type": "text"
      },
      "source": [
        "<a href=\"https://colab.research.google.com/github/Yeunseok97/python_start/blob/main/class2_review.ipynb\" target=\"_parent\"><img src=\"https://colab.research.google.com/assets/colab-badge.svg\" alt=\"Open In Colab\"/></a>"
      ]
    },
    {
      "cell_type": "code",
      "execution_count": null,
      "metadata": {
        "id": "L_eGH46pbRpQ"
      },
      "outputs": [],
      "source": [
        "class Fish_bread():\n",
        "  pass"
      ]
    },
    {
      "cell_type": "code",
      "source": [
        "#붕어빵 기계 \n",
        "class Fish_bread():\n",
        "  def __init__(self, ingredient, order_num): #주문 구성은 손님이 재료와 주문 개수를 저장함.\n",
        "    self.ingredient = ingredient\n",
        "    self.order_num = order_num\n",
        "\n",
        "sonnom1 = Fish_bread(\"red bean\", 3)\n"
      ],
      "metadata": {
        "colab": {
          "base_uri": "https://localhost:8080/",
          "height": 35
        },
        "id": "KkSQ5ZjWbYwo",
        "outputId": "a31d223d-62e4-4df3-c9e0-1442f627d98e"
      },
      "execution_count": null,
      "outputs": [
        {
          "output_type": "execute_result",
          "data": {
            "text/plain": [
              "'red bean'"
            ],
            "application/vnd.google.colaboratory.intrinsic+json": {
              "type": "string"
            }
          },
          "metadata": {},
          "execution_count": 1
        }
      ]
    },
    {
      "cell_type": "markdown",
      "source": [
        "#수줍음이 많은 우리의 손님2가 말도 못하고 알짱거리자 주인은 직접 물어보기로 한다.\n",
        "# 주인이 어떤 붕어빵을 몇개 살건지 물어보고 주문표에 기록한다."
      ],
      "metadata": {
        "id": "Sva2joGWiWIV"
      }
    },
    {
      "cell_type": "code",
      "source": [
        " \n",
        "\n",
        "class Fish_bread():\n",
        "  def __init__(self, ingredient, order_num): #주문 구성은 손님이 재료와 주문 개수를 저장함.\n",
        "    self.ingredient = ingredient\n",
        "    self.order_num = order_num\n",
        "  \n",
        "  #주문 미상 손님의 주문을 직접 입력해야하는 경우.\n",
        "  def set_ingredient(self, ingredient):\n",
        "    self.ingredient = ingredient\n",
        "  def set_order_num(self, order_num):\n",
        "    self.order_num = order_num  \n",
        "\n",
        "\n",
        "sonnom1 = Fish_bread(\"red bean\", 3)\n",
        "\n",
        "# 수줍음이 많은 손님2 \n",
        "sonnom2 = Fish_bread(\"None\", \"None\") \n",
        "\n",
        "#주문 미상의 손님2의 주문을 직접 물어봐서 지정해준다.\n",
        "sonnom2.set_ingredient(\"cream\")\n",
        "sonnom2.set_order_num(3)\n",
        "\n",
        "#주문이 확정된 손님2의 붕어빵 재료선택과 주문 개수\n",
        "print(sonnom2.ingredient)\n",
        "print(sonnom2.order_num)\n"
      ],
      "metadata": {
        "colab": {
          "base_uri": "https://localhost:8080/"
        },
        "id": "EigW9aDpbY0N",
        "outputId": "e6f353a0-8514-4b87-997a-495a0c018648"
      },
      "execution_count": null,
      "outputs": [
        {
          "output_type": "stream",
          "name": "stdout",
          "text": [
            "cream\n",
            "3\n"
          ]
        }
      ]
    },
    {
      "cell_type": "markdown",
      "source": [
        "#주인이 주문이 밀려 손님2가 뭐라고 주문했는지 까먹었다.\n",
        "#주문표를 다시 확인 해 보자."
      ],
      "metadata": {
        "id": "2kpoW1TUiTSR"
      }
    },
    {
      "cell_type": "code",
      "source": [
        "\n",
        "\n",
        "class Fish_bread():\n",
        "  def __init__(self, ingredient, order_num): #주문 구성은 손님이 재료와 주문 개수를 저장함.\n",
        "    self.ingredient = ingredient\n",
        "    self.order_num = order_num\n",
        "  \n",
        "  # 주문 미상 손님의 주문을 직접 입력해야하는 경우. + 손님이 먹고싶은 붕어빵의 재료와 개수를 바꾸고 싶을 때\n",
        "  # 다시 직접 입력\n",
        "  def set_ingredient(self, ingredient):\n",
        "    self.ingredient = ingredient\n",
        "  def set_order_num(self, order_num):\n",
        "    self.order_num = order_num  \n",
        "  #주문이 뭐 였는지 다시 확인해야하는 경우\n",
        "  def get_ingredient(self):\n",
        "    print(self.ingredient)\n",
        "  def get_order_num(self):\n",
        "    print(self.order_num)\n",
        "#손님 2의 주문\n",
        "sonnom2 = Fish_bread(\"None\", \"None\")\n",
        "sonnom2.set_ingredient(\"cream\")\n",
        "sonnom2.set_order_num(3)\n",
        "\n",
        "#손님 2의 주문 확인\n",
        "sonnom2.get_ingredient()\n",
        "sonnom2.get_order_num()"
      ],
      "metadata": {
        "colab": {
          "base_uri": "https://localhost:8080/"
        },
        "id": "9KHk3rCJbY3l",
        "outputId": "58d11fda-bb8f-4724-b276-ba0227f43cba"
      },
      "execution_count": null,
      "outputs": [
        {
          "output_type": "stream",
          "name": "stdout",
          "text": [
            "cream\n",
            "3\n"
          ]
        }
      ]
    },
    {
      "cell_type": "markdown",
      "source": [
        "####주인은 어떤 제품이 많이 팔리는 지 분석하기 위해 손님 + 주문 정보를 기록하려고 한다. 목록을 만들고 손님들의 재료 선택 개수만 찾아보자.\n"
      ],
      "metadata": {
        "id": "U-BE1b0Tgp0t"
      }
    },
    {
      "cell_type": "code",
      "source": [
        "sonnom_list = []\n",
        "\n",
        "class Fish_bread():\n",
        "  def __init__(self, ingredient, order_num): #주문 구성은 손님이 재료와 주문 개수를 저장함.\n",
        "    self.ingredient = ingredient\n",
        "    self.order_num = order_num\n",
        "  \n",
        "  # 주문 미상 손님의 주문을 직접 입력해야하는 경우. + 손님이 먹고싶은 붕어빵의 재료와 개수를 바꾸고 싶을 때\n",
        "  # 다시 직접 입력\n",
        "  def set_ingredient(self, ingredient):\n",
        "    self.ingredient = ingredient\n",
        "  def set_order_num(self, order_num):\n",
        "    self.order_num = order_num  \n",
        "  #주문이 뭐 였는지 다시 확인해야하는 경우\n",
        "  def get_ingredient(self):\n",
        "    print(self.ingredient)\n",
        "  def get_order_num(self):\n",
        "    print(self.order_num)\n",
        "\n",
        "#손님들의 주문\n",
        "sonnom1 = Fish_bread(\"red_bean\",2)\n",
        "sonnom2 = Fish_bread(\"red_bean\",2)\n",
        "sonnom3 = Fish_bread(\"red_bean\",2)\n",
        "sonnom4 = Fish_bread(\"red_bean\",2)\n",
        "sonnom5 = Fish_bread(\"red_bean\",2)\n",
        "\n",
        "#손님 정보를 리스트에 저장 \n",
        "sonnom_list.append(sonnom1)\n",
        "sonnom_list.append(sonnom2)\n",
        "sonnom_list.append(sonnom3)\n",
        "sonnom_list.append(sonnom4)\n",
        "sonnom_list.append(sonnom5)\n",
        "\n",
        "\n",
        "#팥 붕어빵 주문들어온 갯수만 찾는다면\n",
        "red_bean_count = []\n",
        "for i in sonnom_list:\n",
        "  if i.ingredient == \"red_bean\":\n",
        "    red_bean_count.append(i.order_num)\n",
        "print(sum(red_bean_count))\n",
        "\n",
        "\n",
        "\n"
      ],
      "metadata": {
        "id": "7wd4hoCKbY9e",
        "colab": {
          "base_uri": "https://localhost:8080/"
        },
        "outputId": "3ff09940-41d4-432d-c12b-1fe4e723b1bd"
      },
      "execution_count": 22,
      "outputs": [
        {
          "output_type": "stream",
          "name": "stdout",
          "text": [
            "10\n"
          ]
        }
      ]
    },
    {
      "cell_type": "code",
      "source": [],
      "metadata": {
        "id": "pF27gnJsbZAd"
      },
      "execution_count": null,
      "outputs": []
    },
    {
      "cell_type": "code",
      "source": [],
      "metadata": {
        "id": "-pzvuod3bZDI"
      },
      "execution_count": null,
      "outputs": []
    },
    {
      "cell_type": "code",
      "source": [],
      "metadata": {
        "id": "8XFC9jlubZFu"
      },
      "execution_count": null,
      "outputs": []
    },
    {
      "cell_type": "code",
      "source": [],
      "metadata": {
        "id": "m5_yXWgqbZIV"
      },
      "execution_count": null,
      "outputs": []
    },
    {
      "cell_type": "code",
      "source": [],
      "metadata": {
        "id": "aie7Z3kibZK-"
      },
      "execution_count": null,
      "outputs": []
    }
  ]
}