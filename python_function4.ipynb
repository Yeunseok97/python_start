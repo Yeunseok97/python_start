{
  "nbformat": 4,
  "nbformat_minor": 0,
  "metadata": {
    "colab": {
      "provenance": [],
      "collapsed_sections": [],
      "authorship_tag": "ABX9TyPSXBzN7UZb4jr8JMhNM2qw",
      "include_colab_link": true
    },
    "kernelspec": {
      "name": "python3",
      "display_name": "Python 3"
    },
    "language_info": {
      "name": "python"
    }
  },
  "cells": [
    {
      "cell_type": "markdown",
      "metadata": {
        "id": "view-in-github",
        "colab_type": "text"
      },
      "source": [
        "<a href=\"https://colab.research.google.com/github/Yeunseok97/python_start/blob/main/python_function4.ipynb\" target=\"_parent\"><img src=\"https://colab.research.google.com/assets/colab-badge.svg\" alt=\"Open In Colab\"/></a>"
      ]
    },
    {
      "cell_type": "markdown",
      "source": [
        "231\n",
        "\n",
        "아래 코드를 실행한 결과를 예상하라.\n",
        "\n",
        "\n",
        "```\n",
        "# 코드로 형식 지정됨\n",
        "def n_plus_1 (n) :\n",
        "    result = n + 1\n",
        "\n",
        "n_plus_1(3)\n",
        "print (result)\n",
        "```\n",
        "\n",
        "\n"
      ],
      "metadata": {
        "id": "GsJ9qWSdO1J0"
      }
    },
    {
      "cell_type": "code",
      "source": [
        "# 함수 밖에 result가 선언되지 않음.\n",
        "def n_plus_1 (n) :\n",
        "    result = n + 1\n",
        "\n",
        "n_plus_1(3)\n",
        "print(result)"
      ],
      "metadata": {
        "colab": {
          "base_uri": "https://localhost:8080/",
          "height": 211
        },
        "id": "UiiZDx2SO27I",
        "outputId": "7291c916-4a7d-424b-8b73-6d44346d6e66"
      },
      "execution_count": 4,
      "outputs": [
        {
          "output_type": "error",
          "ename": "NameError",
          "evalue": "ignored",
          "traceback": [
            "\u001b[0;31m---------------------------------------------------------------------------\u001b[0m",
            "\u001b[0;31mNameError\u001b[0m                                 Traceback (most recent call last)",
            "\u001b[0;32m<ipython-input-4-577704b92001>\u001b[0m in \u001b[0;36m<module>\u001b[0;34m\u001b[0m\n\u001b[1;32m      4\u001b[0m \u001b[0;34m\u001b[0m\u001b[0m\n\u001b[1;32m      5\u001b[0m \u001b[0mn_plus_1\u001b[0m\u001b[0;34m(\u001b[0m\u001b[0;36m3\u001b[0m\u001b[0;34m)\u001b[0m\u001b[0;34m\u001b[0m\u001b[0;34m\u001b[0m\u001b[0m\n\u001b[0;32m----> 6\u001b[0;31m \u001b[0mprint\u001b[0m\u001b[0;34m(\u001b[0m\u001b[0mresult\u001b[0m\u001b[0;34m)\u001b[0m\u001b[0;34m\u001b[0m\u001b[0;34m\u001b[0m\u001b[0m\n\u001b[0m",
            "\u001b[0;31mNameError\u001b[0m: name 'result' is not defined"
          ]
        }
      ]
    },
    {
      "cell_type": "markdown",
      "source": [
        "232\n",
        "\n",
        "문자열 하나를 입력받아 인터넷 주소를 반환하는 make_url 함수를 정의하라.\n",
        "\n",
        "\n",
        "```\n",
        "# 코드로 형식 지정됨\n",
        "make_url(\"naver\")\n",
        "www.naver.com\n",
        "```\n",
        "\n",
        "\n"
      ],
      "metadata": {
        "id": "-uwgrxSoO1Nx"
      }
    },
    {
      "cell_type": "code",
      "source": [
        "def make_url(domain):\n",
        "  a= \"www.{}.com\".format(domain)\n",
        "  return a\n",
        "\n",
        "make_url(\"naver\")"
      ],
      "metadata": {
        "colab": {
          "base_uri": "https://localhost:8080/",
          "height": 35
        },
        "id": "lrzKPzRQO3EA",
        "outputId": "7ebf8952-aa14-4522-fba1-bd2b25d2e985"
      },
      "execution_count": 5,
      "outputs": [
        {
          "output_type": "execute_result",
          "data": {
            "text/plain": [
              "'www.naver.com'"
            ],
            "application/vnd.google.colaboratory.intrinsic+json": {
              "type": "string"
            }
          },
          "metadata": {},
          "execution_count": 5
        }
      ]
    },
    {
      "cell_type": "markdown",
      "source": [
        "233\n",
        "\n",
        "문자열을 입력받아 각 문자들로 구성된 리스트로 반환하는 make_list 함수를 정의하라.\n",
        "\n",
        "    make_list(\"abcd\")\n",
        "    ['a', 'b', 'c', 'd']"
      ],
      "metadata": {
        "id": "kmAsXPskO1Q6"
      }
    },
    {
      "cell_type": "code",
      "source": [
        "def make_list(string):\n",
        "  w_list =[]\n",
        "  for i in range(len(string)):\n",
        "    w_list.append(string[i])\n",
        "  return w_list\n",
        "make_list(\"abcd\")\n"
      ],
      "metadata": {
        "colab": {
          "base_uri": "https://localhost:8080/"
        },
        "id": "9MpLhh4zO3LY",
        "outputId": "917ecb0a-8e75-4182-b469-bcdfb61910ac"
      },
      "execution_count": 26,
      "outputs": [
        {
          "output_type": "execute_result",
          "data": {
            "text/plain": [
              "['a', 'b', 'c', 'd']"
            ]
          },
          "metadata": {},
          "execution_count": 26
        }
      ]
    },
    {
      "cell_type": "markdown",
      "source": [
        "234\n",
        "\n",
        "숫자로 구성된 하나의 리스트를 입력받아, 짝수들을 추출하여 리스트로 반환하는 pickup_even 함수를 구현하라.\n",
        "\n",
        "    pickup_even([3, 4, 5, 6, 7, 8])\n",
        "    [4, 6, 8]"
      ],
      "metadata": {
        "id": "byTyVjAdO1UA"
      }
    },
    {
      "cell_type": "code",
      "source": [
        "def pickup_even(list):\n",
        "  for i in list:\n",
        "    if i% 2 == 0:\n",
        "      print(i)\n",
        "pickup_even([3, 4, 5, 6, 7, 8])"
      ],
      "metadata": {
        "colab": {
          "base_uri": "https://localhost:8080/"
        },
        "id": "LHBmrF6WO3Sv",
        "outputId": "7c476040-9982-4b2d-b6b2-e51b774213c3"
      },
      "execution_count": 1,
      "outputs": [
        {
          "output_type": "stream",
          "name": "stdout",
          "text": [
            "4\n",
            "6\n",
            "8\n"
          ]
        }
      ]
    },
    {
      "cell_type": "markdown",
      "source": [
        "235\n",
        "\n",
        "콤마가 포함된 문자열 숫자를 입력받아 정수로 변환하는 convert_int 함수를 정의하라.\n",
        "\n",
        "    convert_int(\"1,234,567\")\n",
        "    1234567"
      ],
      "metadata": {
        "id": "pYPbK2LgO1Xj"
      }
    },
    {
      "cell_type": "code",
      "source": [
        "def convert_int(string):\n",
        "  replace = string.replace(\",\",\"\")\n",
        "  print(int(replace))  \n",
        "convert_int(\"1,234,567\")"
      ],
      "metadata": {
        "colab": {
          "base_uri": "https://localhost:8080/"
        },
        "id": "5hbtnAK8O3aY",
        "outputId": "2267ae98-87fd-4dc8-b09c-6ce82b80389b"
      },
      "execution_count": 9,
      "outputs": [
        {
          "output_type": "stream",
          "name": "stdout",
          "text": [
            "1234567\n"
          ]
        }
      ]
    },
    {
      "cell_type": "markdown",
      "source": [
        "236\n",
        "\n",
        "아래 코드의 실행 결과를 예측하라.\n",
        "\n",
        "\n",
        "\n",
        "```\n",
        "# 코드로 형식 지정됨\n",
        "def 함수(num) :\n",
        "    return num + 4\n",
        "\n",
        "a = 함수(10)\n",
        "b = 함수(a)\n",
        "c = 함수(b)\n",
        "print(c)\n",
        "```\n",
        "\n"
      ],
      "metadata": {
        "id": "pGUDzzCJO1as"
      }
    },
    {
      "cell_type": "code",
      "source": [
        "# 10 + 4 -> 14 + 4 -> 18 + 4 = 22\n",
        "def 함수(num) :\n",
        "    return num + 4\n",
        "\n",
        "a = 함수(10)\n",
        "b = 함수(a)\n",
        "c = 함수(b)\n",
        "print(c)"
      ],
      "metadata": {
        "colab": {
          "base_uri": "https://localhost:8080/"
        },
        "id": "xQEG8RaPO3h3",
        "outputId": "0ecbe1a4-c395-4244-aebc-09777a0123fd"
      },
      "execution_count": 10,
      "outputs": [
        {
          "output_type": "stream",
          "name": "stdout",
          "text": [
            "22\n"
          ]
        }
      ]
    },
    {
      "cell_type": "markdown",
      "source": [
        "237\n",
        "\n",
        "아래 코드의 실행 결과를 예측하라.\n",
        "\n",
        "\n",
        "\n",
        "```\n",
        "# 코드로 형식 지정됨\n",
        "def 함수(num) :\n",
        "    return num + 4\n",
        "\n",
        "c = 함수(함수(함수(10)))\n",
        "print(c)\n",
        "```\n",
        "\n"
      ],
      "metadata": {
        "id": "Lm1Zy0dWO1dz"
      }
    },
    {
      "cell_type": "code",
      "source": [
        "# 10 + 4 -> 14 + 4 -> 18 + 4 = 22\n",
        "def 함수(num) :\n",
        "    return num + 4\n",
        "\n",
        "c = 함수(함수(함수(10)))\n",
        "print(c)"
      ],
      "metadata": {
        "colab": {
          "base_uri": "https://localhost:8080/"
        },
        "id": "E_XlO2d3O3pX",
        "outputId": "88a836f2-4aa3-45f6-b4c3-b2d1c6e5b68d"
      },
      "execution_count": 11,
      "outputs": [
        {
          "output_type": "stream",
          "name": "stdout",
          "text": [
            "22\n"
          ]
        }
      ]
    },
    {
      "cell_type": "markdown",
      "source": [
        "238\n",
        "\n",
        "아래 코드의 실행 결과를 예측하라.\n",
        "\n",
        "\n",
        "```\n",
        "# 코드로 형식 지정됨\n",
        "def 함수1(num) :\n",
        "    return num + 4\n",
        "\n",
        "def 함수2(num) :\n",
        "    return num * 10\n",
        "\n",
        "a = 함수1(10)\n",
        "c = 함수2(a)\n",
        "print(c)\n",
        "```\n",
        "\n",
        "\n"
      ],
      "metadata": {
        "id": "NArBeB5KO1gw"
      }
    },
    {
      "cell_type": "code",
      "source": [
        "# 10 + 4 -> 14 * 10 = 140\n",
        "def 함수1(num) :\n",
        "    return num + 4\n",
        "\n",
        "def 함수2(num) :\n",
        "    return num * 10\n",
        "\n",
        "a = 함수1(10)\n",
        "c = 함수2(a)\n",
        "print(c)"
      ],
      "metadata": {
        "colab": {
          "base_uri": "https://localhost:8080/"
        },
        "id": "uN0jOu3rO3wX",
        "outputId": "75da8d44-a2a5-4367-ac0a-7f5c26e4daa9"
      },
      "execution_count": 12,
      "outputs": [
        {
          "output_type": "stream",
          "name": "stdout",
          "text": [
            "140\n"
          ]
        }
      ]
    },
    {
      "cell_type": "markdown",
      "source": [
        "239\n",
        "\n",
        "아래 코드의 실행 결과를 예측하라.\n",
        "\n",
        "\n",
        "```\n",
        "# 코드로 형식 지정됨\n",
        "def 함수1(num) :\n",
        "    return num + 4\n",
        "\n",
        "def 함수2(num) :\n",
        "    num = num + 2\n",
        "    return 함수1(num)\n",
        "\n",
        "c = 함수2(10)\n",
        "print(c)\n",
        "```\n",
        "\n",
        "\n"
      ],
      "metadata": {
        "id": "dYAiW0MaO1j2"
      }
    },
    {
      "cell_type": "code",
      "source": [
        "#  12 -> 12 + 4 -> 16\n",
        "def 함수1(num) :\n",
        "    return num + 4\n",
        "\n",
        "def 함수2(num) :\n",
        "    num = num + 2\n",
        "    return 함수1(num)\n",
        "\n",
        "c = 함수2(10)\n",
        "print(c)"
      ],
      "metadata": {
        "colab": {
          "base_uri": "https://localhost:8080/"
        },
        "id": "j5G1Gr58O334",
        "outputId": "4849ef34-0fbd-4428-eb8c-6a3df6c48da1"
      },
      "execution_count": 13,
      "outputs": [
        {
          "output_type": "stream",
          "name": "stdout",
          "text": [
            "16\n"
          ]
        }
      ]
    },
    {
      "cell_type": "markdown",
      "source": [
        "240\n",
        "\n",
        "아래 코드의 실행 결과를 예측하라.\n",
        "\n",
        "\n",
        "```\n",
        "# 코드로 형식 지정됨\n",
        "def 함수0(num) :\n",
        "    return num * 2\n",
        "\n",
        "def 함수1(num) :\n",
        "    return 함수0(num + 2)\n",
        "\n",
        "def 함수2(num) :\n",
        "    num = num + 10\n",
        "    return 함수1(num)\n",
        "\n",
        "c = 함수2(2)\n",
        "print(c)\n",
        "```\n",
        "\n",
        "\n"
      ],
      "metadata": {
        "id": "jacuOPp2O1m-"
      }
    },
    {
      "cell_type": "code",
      "source": [
        "# 12 -> 14 -> 14 * 2 -> 28\n",
        "def 함수0(num) :\n",
        "    return num * 2\n",
        "\n",
        "def 함수1(num) :\n",
        "    return 함수0(num + 2)\n",
        "\n",
        "def 함수2(num) :\n",
        "    num = num + 10\n",
        "    return 함수1(num)\n",
        "\n",
        "c = 함수2(2)\n",
        "print(c)"
      ],
      "metadata": {
        "colab": {
          "base_uri": "https://localhost:8080/"
        },
        "id": "GGc39arEO3_V",
        "outputId": "7a21d837-5ff1-482f-a745-5ef54c8c500d"
      },
      "execution_count": 14,
      "outputs": [
        {
          "output_type": "stream",
          "name": "stdout",
          "text": [
            "28\n"
          ]
        }
      ]
    }
  ]
}