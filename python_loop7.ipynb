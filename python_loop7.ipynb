{
  "nbformat": 4,
  "nbformat_minor": 0,
  "metadata": {
    "colab": {
      "provenance": [],
      "collapsed_sections": [],
      "authorship_tag": "ABX9TyNevyk5sXaW4H1k3AaPjU0X",
      "include_colab_link": true
    },
    "kernelspec": {
      "name": "python3",
      "display_name": "Python 3"
    },
    "language_info": {
      "name": "python"
    }
  },
  "cells": [
    {
      "cell_type": "markdown",
      "metadata": {
        "id": "view-in-github",
        "colab_type": "text"
      },
      "source": [
        "<a href=\"https://colab.research.google.com/github/Yeunseok97/python_start/blob/main/python_loop7.ipynb\" target=\"_parent\"><img src=\"https://colab.research.google.com/assets/colab-badge.svg\" alt=\"Open In Colab\"/></a>"
      ]
    },
    {
      "cell_type": "markdown",
      "source": [
        "191\n",
        "\n",
        "data에는 매수한 종목들의 OHLC (open/high/low/close) 가격 정보가 바인딩 되어있다.\n",
        "\n",
        "\n",
        "```\n",
        "\n",
        "data = [\n",
        "    [ 2000,  3050,  2050,  1980],\n",
        "    [ 7500,  2050,  2050,  1980],\n",
        "    [15450, 15050, 15550, 14900]\n",
        "]\n",
        "\n",
        "```\n",
        "\n",
        "수수료를 0.014 %로 가정할 때, 각 가격에 수수료를 포함한 가격을 한라인에 하나씩 출력하라.\n",
        "\n",
        "```\n",
        "\n",
        "2000.28\n",
        "3050.427\n",
        "2050.2870000000003\n",
        "...\n",
        "```\n",
        "\n",
        "\n"
      ],
      "metadata": {
        "id": "d6zlsJlK6wre"
      }
    },
    {
      "cell_type": "code",
      "source": [
        "data = [\n",
        "    [ 2000,  3050,  2050,  1980],\n",
        "    [ 7500,  2050,  2050,  1980],\n",
        "    [15450, 15050, 15550, 14900]\n",
        "]\n",
        "\n",
        "for i in data:\n",
        "  for j in i:\n",
        "    print(j + (j * 14)/10**5)"
      ],
      "metadata": {
        "colab": {
          "base_uri": "https://localhost:8080/"
        },
        "id": "muie_Cm56x9D",
        "outputId": "f1df78b2-28ea-407b-e7f5-c71a082210d9"
      },
      "execution_count": 6,
      "outputs": [
        {
          "output_type": "stream",
          "name": "stdout",
          "text": [
            "2000.28\n",
            "3050.427\n",
            "2050.287\n",
            "1980.2772\n",
            "7501.05\n",
            "2050.287\n",
            "2050.287\n",
            "1980.2772\n",
            "15452.163\n",
            "15052.107\n",
            "15552.177\n",
            "14902.086\n"
          ]
        }
      ]
    },
    {
      "cell_type": "markdown",
      "source": [
        "192\n",
        "\n",
        "191번의 출력 결과에 행단위로 \"----\" 구분자를 추가하라.\n",
        "\n",
        "\n",
        "```\n",
        "# 코드로 형식 지정됨\n",
        "\n",
        "2000.28\n",
        "3050.427\n",
        "2050.2870000000003\n",
        "1980.2772\n",
        "----\n",
        "7501.05\n",
        "2050.2870000000003\n",
        "2050.2870000000003\n",
        "1980.2772\n",
        "----\n",
        "15452.163\n",
        "15052.107\n",
        "15552.177\n",
        "14902.086000000001\n",
        "----\n",
        "```\n"
      ],
      "metadata": {
        "id": "D_eye5VB6wu_"
      }
    },
    {
      "cell_type": "code",
      "source": [
        "data = [\n",
        "    [ 2000,  3050,  2050,  1980],\n",
        "    [ 7500,  2050,  2050,  1980],\n",
        "    [15450, 15050, 15550, 14900]\n",
        "]\n",
        "\n",
        "for i in data:\n",
        "  \n",
        "  for j in i:\n",
        "    print(j + (j * 14)/10**5)\n",
        "  print(\"-\"*4)\n",
        "    "
      ],
      "metadata": {
        "colab": {
          "base_uri": "https://localhost:8080/"
        },
        "id": "-44OY9ip6yFc",
        "outputId": "c08cb339-246f-4072-aa03-52e7b81a221c"
      },
      "execution_count": 9,
      "outputs": [
        {
          "output_type": "stream",
          "name": "stdout",
          "text": [
            "2000.28\n",
            "3050.427\n",
            "2050.287\n",
            "1980.2772\n",
            "----\n",
            "7501.05\n",
            "2050.287\n",
            "2050.287\n",
            "1980.2772\n",
            "----\n",
            "15452.163\n",
            "15052.107\n",
            "15552.177\n",
            "14902.086\n",
            "----\n"
          ]
        }
      ]
    },
    {
      "cell_type": "markdown",
      "source": [
        "193\n",
        "\n",
        "192 번 문제의 결괏값을 result 이름의 리스트에 1차원 배열로 저장하라.\n",
        "\n",
        "    >> print(result)\n",
        "    [2000.28, 3050.427, 2050.2870000000003, 1980.2772, 7501.05, 2050.2870000000003, 2050.2870000000003, ...]"
      ],
      "metadata": {
        "id": "S6iBAWts6wy-"
      }
    },
    {
      "cell_type": "code",
      "source": [
        "data = [\n",
        "    [ 2000,  3050,  2050,  1980],\n",
        "    [ 7500,  2050,  2050,  1980],\n",
        "    [15450, 15050, 15550, 14900]\n",
        "]\n",
        "result= []\n",
        "for i in data:\n",
        "  \n",
        "  for j in i:\n",
        "    print(j + (j * 14)/10**5)\n",
        "    result.append(j + (j * 14)/10**5)\n",
        "  print(\"-\"*4)\n",
        "print(result)"
      ],
      "metadata": {
        "colab": {
          "base_uri": "https://localhost:8080/"
        },
        "id": "dc38Qbur6yM9",
        "outputId": "2e283414-8072-4fe2-a5fe-c496a9b8bffe"
      },
      "execution_count": 12,
      "outputs": [
        {
          "output_type": "stream",
          "name": "stdout",
          "text": [
            "2000.28\n",
            "3050.427\n",
            "2050.287\n",
            "1980.2772\n",
            "----\n",
            "7501.05\n",
            "2050.287\n",
            "2050.287\n",
            "1980.2772\n",
            "----\n",
            "15452.163\n",
            "15052.107\n",
            "15552.177\n",
            "14902.086\n",
            "----\n",
            "[2000.28, 3050.427, 2050.287, 1980.2772, 7501.05, 2050.287, 2050.287, 1980.2772, 15452.163, 15052.107, 15552.177, 14902.086]\n"
          ]
        }
      ]
    },
    {
      "cell_type": "markdown",
      "source": [
        "194\n",
        "\n",
        "191번 문제의 결괏값을 result 이름의 리스트에 2차원 배열로 \n",
        "\n",
        "저장하라. 저장 포맷은 아래와 같다. 각 행에 대한 데이터끼리 \n",
        "\n",
        "리스트에 저장되어야 한다.\n",
        "\n",
        "    >> print(result)\n",
        "\n",
        "\n",
        "```\n",
        "# 코드로 형식 지정됨\n",
        "[\n",
        " [2000.28, 3050.427, 2050.2870000000003, 1980.2772],\n",
        " [7501.05, 2050.2870000000003, 2050.2870000000003, 1980.2772],\n",
        " [15452.163, 15052.107, 15552.177, 14902.086000000001]\n",
        "]\n",
        "```\n",
        "\n"
      ],
      "metadata": {
        "id": "o66OrAWO6w23"
      }
    },
    {
      "cell_type": "code",
      "source": [
        "## 헷갈린다 다시 볼것.\n",
        "data = [\n",
        "    [ 2000,  3050,  2050,  1980],\n",
        "    [ 7500,  2050,  2050,  1980],\n",
        "    [15450, 15050, 15550, 14900]\n",
        "]\n",
        "\n",
        "for i in data:\n",
        "  s_result = []\n",
        "  for j in i:\n",
        "    commission = j + (j * 14)/10**5\n",
        "    s_result.append(commission)\n",
        "print(result)"
      ],
      "metadata": {
        "colab": {
          "base_uri": "https://localhost:8080/"
        },
        "id": "hZPk5gij6yUV",
        "outputId": "1abd2b55-d221-47a4-c257-ae055aaa004a"
      },
      "execution_count": 43,
      "outputs": [
        {
          "output_type": "stream",
          "name": "stdout",
          "text": [
            "[[2000.28, 3050.427, 2050.287, 1980.2772], [7501.05, 2050.287, 2050.287, 1980.2772], [15452.163, 15052.107, 15552.177, 14902.086]]\n"
          ]
        }
      ]
    },
    {
      "cell_type": "markdown",
      "source": [
        "195\n",
        "\n",
        "ohlc 리스트에는 시가(open), 고가 (high), 저가 (low) , 종가\n",
        "\n",
        "(close)가 날짜별로 저장돼 있다. 화면에 종가데이터를 \n",
        "\n",
        "출력하라.\n",
        "\n",
        "\n",
        "```\n",
        "ohlc = [[\"open\", \"high\", \"low\", \"close\"],\n",
        "        [100, 110, 70, 100],\n",
        "        [200, 210, 180, 190],\n",
        "        [300, 310, 300, 310]]\n",
        "100\n",
        "190\n",
        "310\n",
        "```\n"
      ],
      "metadata": {
        "id": "lSys1WRJ6w6F"
      }
    },
    {
      "cell_type": "code",
      "source": [
        "ohlc = [[\"open\", \"high\", \"low\", \"close\"],\n",
        "        [100, 110, 70, 100],\n",
        "        [200, 210, 180, 190],\n",
        "        [300, 310, 300, 310]]\n",
        "#sol1)\n",
        "for i in range(1,4):\n",
        "  print(ohlc[i][-1])\n",
        "print()\n",
        "#sol2)\n",
        "for i in ohlc[1:]:\n",
        "  # print(i[-1])\n",
        "  print(i[3])"
      ],
      "metadata": {
        "colab": {
          "base_uri": "https://localhost:8080/"
        },
        "id": "kyIAC0YA6ybr",
        "outputId": "51163e3c-500f-4b03-b9dd-5829564fb3f1"
      },
      "execution_count": 58,
      "outputs": [
        {
          "output_type": "stream",
          "name": "stdout",
          "text": [
            "100\n",
            "190\n",
            "310\n",
            "\n",
            "100\n",
            "190\n",
            "310\n"
          ]
        }
      ]
    },
    {
      "cell_type": "markdown",
      "source": [
        "196\n",
        "\n",
        "종가가 150원보다 큰경우에만 \n",
        "\n",
        "종가를 출력하라.\n",
        "\n",
        "\n",
        "```\n",
        "# 코드로 형식 지정됨\n",
        "\n",
        "ohlc = [[\"open\", \"high\", \"low\", \"close\"],\n",
        "        [100, 110, 70, 100],\n",
        "        [200, 210, 180, 190],\n",
        "        [300, 310, 300, 310]]\n",
        "190\n",
        "310\n",
        "```\n",
        "\n"
      ],
      "metadata": {
        "id": "uWwE0SAk6w9d"
      }
    },
    {
      "cell_type": "code",
      "source": [
        "ohlc = [[\"open\", \"high\", \"low\", \"close\"],\n",
        "        [100, 110, 70, 100],\n",
        "        [200, 210, 180, 190],\n",
        "        [300, 310, 300, 310]]\n",
        "\n",
        "for i in ohlc[1:]:\n",
        "  if i[-1]>150:\n",
        "    print(i[-1])"
      ],
      "metadata": {
        "colab": {
          "base_uri": "https://localhost:8080/"
        },
        "id": "i5XMfqrYnzkx",
        "outputId": "06a99c91-3095-497e-e01c-1abf94338886"
      },
      "execution_count": 61,
      "outputs": [
        {
          "output_type": "stream",
          "name": "stdout",
          "text": [
            "190\n",
            "310\n"
          ]
        }
      ]
    },
    {
      "cell_type": "markdown",
      "source": [
        "197\n",
        "종가가 시가 보다 크거나 같은 경우에만 종가를 출력하라.\n",
        "\n",
        "    결과\n",
        "    100\n",
        "    310"
      ],
      "metadata": {
        "id": "B_sk5t2e6xBO"
      }
    },
    {
      "cell_type": "code",
      "source": [
        "ohlc = [[\"open\", \"high\", \"low\", \"close\"],\n",
        "        [100, 110, 70, 100],\n",
        "        [200, 210, 180, 190],\n",
        "        [300, 310, 300, 310]]\n",
        "print(\"결과\")\n",
        "for i in ohlc[1:]:\n",
        "  if i[-1]>=i[0]:\n",
        "    print(i[-1])"
      ],
      "metadata": {
        "colab": {
          "base_uri": "https://localhost:8080/"
        },
        "id": "uybXgXwn6yrE",
        "outputId": "3aadbd1b-22d3-4bcc-b1ee-224b98a22a1d"
      },
      "execution_count": 64,
      "outputs": [
        {
          "output_type": "stream",
          "name": "stdout",
          "text": [
            "결과\n",
            "100\n",
            "310\n"
          ]
        }
      ]
    },
    {
      "cell_type": "markdown",
      "source": [
        "198\n",
        "\n",
        "고가와 저가의 차이를 변동폭으로 정의할 때 변동폭을 volatility 이름의 리스트에 저장하라.\n"
      ],
      "metadata": {
        "id": "DNrJWTwe6xEb"
      }
    },
    {
      "cell_type": "code",
      "source": [
        "ohlc = [[\"open\", \"high\", \"low\", \"close\"],\n",
        "        [100, 110, 70, 100],\n",
        "        [200, 210, 180, 190],\n",
        "        [300, 310, 300, 310]]\n",
        "volatility = []\n",
        "\n",
        "#sol1)\n",
        "for i in ohlc[1:]:\n",
        "  v = i[1]-i[2]\n",
        "  volatility.append(v)\n",
        "print(volatility)\n",
        "\n",
        "#sol2)\n",
        "for i in range(1, len(ohlc)):\n",
        "  v = ohlc[i][1] - ohlc[i][2]\n",
        "  volatility.append(v)\n",
        "print(volatility)"
      ],
      "metadata": {
        "colab": {
          "base_uri": "https://localhost:8080/"
        },
        "id": "vWdhs_S96yyV",
        "outputId": "62b581dc-1acd-4b17-cc13-ee06be7e4600"
      },
      "execution_count": 70,
      "outputs": [
        {
          "output_type": "stream",
          "name": "stdout",
          "text": [
            "[40, 30, 10]\n"
          ]
        }
      ]
    },
    {
      "cell_type": "markdown",
      "source": [
        "199\n",
        "\n",
        "종가가 시가보다 높은 날의 변동성 (고가 - 저가)을 화면에 출력하라.\n",
        "\n",
        "종가가 시가보다 높은 거래일의 OHLC는 [300, 310, 300, 310] \n",
        "\n",
        "이다. 따라서 이 거래일의 변동성은 10 (310 - 300)이다.\n",
        "\n",
        "10"
      ],
      "metadata": {
        "id": "sUjrP8m56xHw"
      }
    },
    {
      "cell_type": "code",
      "source": [
        "ohlc = [[\"open\", \"high\", \"low\", \"close\"],\n",
        "        [100, 110, 70, 100],\n",
        "        [200, 210, 180, 190],\n",
        "        [300, 310, 300, 310]]\n",
        "\n",
        "for i in ohlc[1:]:\n",
        "  if i[-1] > i[0]:\n",
        "    print(i[1] - i[2])\n",
        "  "
      ],
      "metadata": {
        "colab": {
          "base_uri": "https://localhost:8080/"
        },
        "id": "q1z8ilE46y5p",
        "outputId": "4e8b63fc-8050-4429-a20b-ef8c97b9f7ff"
      },
      "execution_count": 71,
      "outputs": [
        {
          "output_type": "stream",
          "name": "stdout",
          "text": [
            "10\n"
          ]
        }
      ]
    },
    {
      "cell_type": "markdown",
      "source": [
        "200\n",
        "\n",
        "시가에 매수해서 종가에 매도 했을 경우 총 수익금을 계산하라.\n",
        "\n",
        "1일차 수익 0원 (100 - 100), \n",
        "\n",
        "2일차 수익 -10원 (190 - 200), \n",
        "\n",
        "3일차 수익 10원 (310 - 300) 이다."
      ],
      "metadata": {
        "id": "-XzRcMRs6xLZ"
      }
    },
    {
      "cell_type": "code",
      "source": [
        "ohlc = [[\"open\", \"high\", \"low\", \"close\"],\n",
        "        [100, 110, 70, 100],\n",
        "        [200, 210, 180, 190],\n",
        "        [300, 310, 300, 310]]\n",
        "a = 0\n",
        "revenue = 0\n",
        "for i in ohlc[1:]:\n",
        "  a += (i[0] - i[-1])\n",
        "print(a)"
      ],
      "metadata": {
        "colab": {
          "base_uri": "https://localhost:8080/"
        },
        "id": "RvvXMdnz6zAz",
        "outputId": "c866fe90-c8bf-4b4e-e0e7-15ff9810c19e"
      },
      "execution_count": 73,
      "outputs": [
        {
          "output_type": "stream",
          "name": "stdout",
          "text": [
            "0\n"
          ]
        }
      ]
    }
  ]
}