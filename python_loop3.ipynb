{
  "nbformat": 4,
  "nbformat_minor": 0,
  "metadata": {
    "colab": {
      "provenance": [],
      "collapsed_sections": [],
      "authorship_tag": "ABX9TyOkMV5w7SXCdj4ahfbOA3ci",
      "include_colab_link": true
    },
    "kernelspec": {
      "name": "python3",
      "display_name": "Python 3"
    },
    "language_info": {
      "name": "python"
    }
  },
  "cells": [
    {
      "cell_type": "markdown",
      "metadata": {
        "id": "view-in-github",
        "colab_type": "text"
      },
      "source": [
        "<a href=\"https://colab.research.google.com/github/Yeunseok97/python_start/blob/main/python_loop3.ipynb\" target=\"_parent\"><img src=\"https://colab.research.google.com/assets/colab-badge.svg\" alt=\"Open In Colab\"/></a>"
      ]
    },
    {
      "cell_type": "markdown",
      "source": [
        "151\n",
        "\n",
        "리스트에는 네 개의 정수가 저장돼 있다.\n",
        "\n",
        "    리스트 = [3, -20, -3, 44]\n",
        "for문을 사용해서 리스트의 음수를 출력하라.\n",
        "\n",
        "    -20\n",
        "    -3"
      ],
      "metadata": {
        "id": "Gf1vXR2DU4HD"
      }
    },
    {
      "cell_type": "code",
      "source": [
        "list = [3, -20, -3, 44]\n",
        "for i in list:\n",
        "  if i<0:\n",
        "    print(i)"
      ],
      "metadata": {
        "colab": {
          "base_uri": "https://localhost:8080/"
        },
        "id": "g6t4EkBvU5wR",
        "outputId": "99b6605b-b3fc-4830-fe48-22a124fad357"
      },
      "execution_count": null,
      "outputs": [
        {
          "output_type": "stream",
          "name": "stdout",
          "text": [
            "-20\n",
            "-3\n"
          ]
        }
      ]
    },
    {
      "cell_type": "markdown",
      "source": [
        "152\n",
        "\n",
        "for문을 사용해서 3의 배수만을 출력하라.\n",
        "\n",
        "    리스트 = [3, 100, 23, 44]\n",
        "    3"
      ],
      "metadata": {
        "id": "wTwnfjo9U4Lq"
      }
    },
    {
      "cell_type": "code",
      "source": [
        "list = [3, 100, 23, 44]\n",
        "for i in list:\n",
        "  if i % 3==0:\n",
        "    print(i)"
      ],
      "metadata": {
        "colab": {
          "base_uri": "https://localhost:8080/"
        },
        "id": "w4XS4QvFU57D",
        "outputId": "6aa523a0-bf2d-459f-b2d1-1ef88c21efb3"
      },
      "execution_count": null,
      "outputs": [
        {
          "output_type": "stream",
          "name": "stdout",
          "text": [
            "3\n"
          ]
        }
      ]
    },
    {
      "cell_type": "markdown",
      "source": [
        "153\n",
        "\n",
        "리스트에서 20 보다 작은 3의 배수를 출력하라\n",
        "\n",
        "    리스트 = [13, 21, 12, 14, 30, 18]\n",
        "    12\n",
        "    18"
      ],
      "metadata": {
        "id": "OPSYWzZjU4Qb"
      }
    },
    {
      "cell_type": "code",
      "source": [
        "list = [13, 21, 12, 14, 30, 18]\n",
        "for i in list:\n",
        "  if i % 3 ==0 and i <20:\n",
        "    print(i)"
      ],
      "metadata": {
        "colab": {
          "base_uri": "https://localhost:8080/"
        },
        "id": "te91ssPIU6Dx",
        "outputId": "60f87e73-3fb1-44b7-b6b8-e2a8acd5a541"
      },
      "execution_count": null,
      "outputs": [
        {
          "output_type": "stream",
          "name": "stdout",
          "text": [
            "12\n",
            "18\n"
          ]
        }
      ]
    },
    {
      "cell_type": "markdown",
      "source": [
        "154\n",
        "\n",
        "리스트에서 세 글자 이상의 문자를 화면에 출력하라\n",
        "\n",
        "    리스트 = [\"I\", \"study\", \"python\", \"language\", \"!\"]\n",
        "    study\n",
        "    python\n",
        "    language"
      ],
      "metadata": {
        "id": "8xILAuKwU4Ub"
      }
    },
    {
      "cell_type": "code",
      "source": [
        "list =  [\"I\", \"study\", \"python\", \"language\", \"!\"]\n",
        "for i in list:\n",
        "  if len(i)>=3:\n",
        "    print(i)"
      ],
      "metadata": {
        "colab": {
          "base_uri": "https://localhost:8080/"
        },
        "id": "qaNEYQmIU6MK",
        "outputId": "c0f5184e-274c-4106-ea45-06263b243b06"
      },
      "execution_count": null,
      "outputs": [
        {
          "output_type": "stream",
          "name": "stdout",
          "text": [
            "study\n",
            "python\n",
            "language\n"
          ]
        }
      ]
    },
    {
      "cell_type": "markdown",
      "source": [
        "155\n",
        "\n",
        "리스트에서 대문자만 화면에 출력하라.\n",
        "\n",
        "    리스트 = [\"A\", \"b\", \"c\", \"D\"]\n",
        "    A\n",
        "    D"
      ],
      "metadata": {
        "id": "xaqAD6WtU4Zc"
      }
    },
    {
      "cell_type": "code",
      "source": [
        "list = [\"A\",\"b\",\"c\",\"D\"]\n",
        "for i in list:\n",
        "  if i.isupper() == True:\n",
        "    print(i) "
      ],
      "metadata": {
        "colab": {
          "base_uri": "https://localhost:8080/"
        },
        "id": "8IWwWH-6U6T7",
        "outputId": "77d6f662-4096-47ef-eb0d-31e935c47564"
      },
      "execution_count": null,
      "outputs": [
        {
          "output_type": "stream",
          "name": "stdout",
          "text": [
            "A\n",
            "D\n"
          ]
        }
      ]
    },
    {
      "cell_type": "markdown",
      "source": [
        "156\n",
        "\n",
        "리스트에서 소문자만 화면에 출력하라.\n",
        "\n",
        "리스트 = [\"A\", \"b\", \"c\", \"D\"]\n",
        "b\n",
        "c"
      ],
      "metadata": {
        "id": "2im3vvQlU4dO"
      }
    },
    {
      "cell_type": "code",
      "source": [
        "list = [\"A\",\"b\",\"c\",\"D\"]\n",
        "for i in list:\n",
        "  if i.islower() == True:\n",
        "    print(i) "
      ],
      "metadata": {
        "colab": {
          "base_uri": "https://localhost:8080/"
        },
        "id": "S8m8l9NpU6bh",
        "outputId": "aec11c24-416d-4062-c784-4510ee8a5284"
      },
      "execution_count": null,
      "outputs": [
        {
          "output_type": "stream",
          "name": "stdout",
          "text": [
            "b\n",
            "c\n"
          ]
        }
      ]
    },
    {
      "cell_type": "markdown",
      "source": [
        "157\n",
        "\n",
        "이름의 첫 글자를 대문자로 변경해서 출력하라.\n",
        "\n",
        "    리스트 = ['dog', 'cat', 'parrot']\n",
        "    Dog\n",
        "    Cat\n",
        "    Parrot\n",
        "\n",
        ">> 변수 = \"a\"\n",
        ">> a.upper()\n",
        "A\n",
        ">> 변수 = \"abc\"\n",
        ">> 변수.upper()\n",
        "ABC"
      ],
      "metadata": {
        "id": "4n5TyGeUU4hR"
      }
    },
    {
      "cell_type": "code",
      "source": [
        "list = [\"dog\", \"cat\", \"parrot\"]\n",
        "lst = []\n",
        "for i in list:\n",
        "  print(i[0].upper()+i[1:])"
      ],
      "metadata": {
        "colab": {
          "base_uri": "https://localhost:8080/"
        },
        "id": "4Jau4PGEU6jA",
        "outputId": "e4b4fcc4-0191-4add-d497-ef4927a33533"
      },
      "execution_count": null,
      "outputs": [
        {
          "output_type": "stream",
          "name": "stdout",
          "text": [
            "Dog\n",
            "Cat\n",
            "Parrot\n"
          ]
        }
      ]
    },
    {
      "cell_type": "markdown",
      "source": [
        "158\n",
        "\n",
        "파일 이름이 저장된 리스트에서 확장자를 제거하고 파일 이름만 \n",
        "\n",
        "화면에 출력하라. (힌트: split() 메서드)\n",
        "\n",
        "    리스트 = ['hello.py', 'ex01.py', 'intro.hwp']"
      ],
      "metadata": {
        "id": "oyLkEh7TU4ls"
      }
    },
    {
      "cell_type": "code",
      "source": [
        "list = ['hello.py', 'ex01.py', 'intro.hwp']\n",
        "for i in list:\n",
        "  print(i.split(\".\")[0])"
      ],
      "metadata": {
        "colab": {
          "base_uri": "https://localhost:8080/"
        },
        "id": "KGF8YdAkU6qz",
        "outputId": "fb0abf05-38ca-4389-c21d-9dbc45755b3d"
      },
      "execution_count": null,
      "outputs": [
        {
          "output_type": "stream",
          "name": "stdout",
          "text": [
            "hello\n",
            "ex01\n",
            "intro\n"
          ]
        }
      ]
    },
    {
      "cell_type": "markdown",
      "source": [
        "159\n",
        "\n",
        "파일 이름이 저장된 리스트에서 확장자가 .h인 파일 이름을 \n",
        "\n",
        "출력하라.\n",
        "\n",
        "    리스트 = ['intra.h', 'intra.c', 'define.h', 'run.py']\n",
        "    intra.h\n",
        "    define.h"
      ],
      "metadata": {
        "id": "NbTKW1NyU4pV"
      }
    },
    {
      "cell_type": "code",
      "source": [
        "list = ['intra.h', 'intra.c', 'define.h', 'run.py']\n",
        "for i in list:\n",
        "  if i.split(\".\")[1] == \"h\":\n",
        "    print(i)"
      ],
      "metadata": {
        "colab": {
          "base_uri": "https://localhost:8080/"
        },
        "id": "__pe8kq9U6yb",
        "outputId": "fb3682fc-b3d7-43d8-e8ca-938d2946aa13"
      },
      "execution_count": null,
      "outputs": [
        {
          "output_type": "stream",
          "name": "stdout",
          "text": [
            "intra.h\n",
            "define.h\n"
          ]
        }
      ]
    },
    {
      "cell_type": "markdown",
      "source": [
        "160\n",
        "\n",
        "파일 이름이 저장된 리스트에서 확장자가 .h나 .c인 파일을 \n",
        "\n",
        "화면에 출력하라.\n",
        "\n",
        "    리스트 = ['intra.h', 'intra.c', 'define.h', 'run.py']\n",
        "    intra.h\n",
        "    intra.c\n",
        "    define.h"
      ],
      "metadata": {
        "id": "eZW0uOwJU4s5"
      }
    },
    {
      "cell_type": "code",
      "source": [
        "list = ['intra.h', 'intra.c', 'define.h', 'run.py']\n",
        "for i in list:\n",
        "  if i.split(\".\")[1] == \"h\" or i.split(\".\")[1] == \"c\":\n",
        "    print(i)"
      ],
      "metadata": {
        "colab": {
          "base_uri": "https://localhost:8080/"
        },
        "id": "b5JJ4ochU65y",
        "outputId": "646d2ee3-f84e-4245-e50a-b5569af5ba2d"
      },
      "execution_count": null,
      "outputs": [
        {
          "output_type": "stream",
          "name": "stdout",
          "text": [
            "intra.h\n",
            "intra.c\n",
            "define.h\n"
          ]
        }
      ]
    }
  ]
}