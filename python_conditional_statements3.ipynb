{
  "nbformat": 4,
  "nbformat_minor": 0,
  "metadata": {
    "colab": {
      "provenance": [],
      "collapsed_sections": [],
      "authorship_tag": "ABX9TyO8/ALPENWyCKA3OSfQsuNC",
      "include_colab_link": true
    },
    "kernelspec": {
      "name": "python3",
      "display_name": "Python 3"
    },
    "language_info": {
      "name": "python"
    }
  },
  "cells": [
    {
      "cell_type": "markdown",
      "metadata": {
        "id": "view-in-github",
        "colab_type": "text"
      },
      "source": [
        "<a href=\"https://colab.research.google.com/github/Yeunseok97/python_start/blob/main/python_conditional_statements3.ipynb\" target=\"_parent\"><img src=\"https://colab.research.google.com/assets/colab-badge.svg\" alt=\"Open In Colab\"/></a>"
      ]
    },
    {
      "cell_type": "markdown",
      "source": [
        "121\n",
        "\n",
        "사용자로부터 문자 한 개를 입력 받고, 소문자일 경우 \n",
        "\n",
        "대문자로, 대문자 일 경우, 소문자로 변경해서 출력하라.\n",
        "\n",
        "    >> a\n",
        "    A"
      ],
      "metadata": {
        "id": "1ma0SEdw39a2"
      }
    },
    {
      "cell_type": "code",
      "source": [
        "user_input = input(\"문자를 입력해주세요\")\n",
        "\n",
        "if user_input.islower() == True:\n",
        "  print(user_input.upper())\n",
        "else:\n",
        "  print(user_input.lower())"
      ],
      "metadata": {
        "colab": {
          "base_uri": "https://localhost:8080/"
        },
        "id": "_hbivp5t3-4y",
        "outputId": "09fac61f-3e27-4125-f521-c4f5172bfeba"
      },
      "execution_count": null,
      "outputs": [
        {
          "output_type": "stream",
          "name": "stdout",
          "text": [
            "문자를 입력해주세요D\n",
            "d\n"
          ]
        }
      ]
    },
    {
      "cell_type": "markdown",
      "source": [
        "122\n",
        "\n",
        "점수 구간에 해당하는 학점이 아래와 같이 정의되어 있다. \n",
        "\n",
        "사용자로부터 score를 입력받아 학점을 출력하라.\n",
        "\n",
        "    점수\t학점\n",
        "    81~100\tA\n",
        "    61~80\tB\n",
        "    41~60\tC\n",
        "    21~40\tD\n",
        "    0~20\tE\n",
        "    >> score: 83\n",
        "    grade is A"
      ],
      "metadata": {
        "id": "LBqg0Bc839ey"
      }
    },
    {
      "cell_type": "code",
      "source": [
        "user_score = int(input(\"점수를 입력해주세요 : \"))\n",
        "a = user_score\n",
        "if a > 81 and a <= 100:\n",
        "  print(\"A\")\n",
        "elif a > 61 and a <= 80:\n",
        "  print(\"B\")\n",
        "elif a > 41 and a <= 60:\n",
        "  print(\"C\")\n",
        "elif a > 21 and a <= 40:\n",
        "  print(\"D\")\n",
        "else:\n",
        "  print(\"E\")"
      ],
      "metadata": {
        "colab": {
          "base_uri": "https://localhost:8080/"
        },
        "id": "lBU4U5fI3_FS",
        "outputId": "817ec06d-8aa3-40a0-ced1-6222eb4fc447"
      },
      "execution_count": null,
      "outputs": [
        {
          "output_type": "stream",
          "name": "stdout",
          "text": [
            "점수를 입력해주세요 : 83\n",
            "A\n"
          ]
        }
      ]
    },
    {
      "cell_type": "markdown",
      "source": [
        "123\n",
        "\n",
        "사용자로부터 달러, 엔, 유로, 또는 위안 금액을 입력받은 후 \n",
        "\n",
        "이를 원으로 변환하는 프로그램을 작성하라. 각 통화별 환율은 \n",
        "\n",
        "다음과 같다. 사용자는 100 달러, 1000 엔, 13 유로, 100 \n",
        "\n",
        "위안과 같이 금액과 통화명 사이에 공백을 넣어 입력한다고 \n",
        "\n",
        "\n",
        "가정한다.\n",
        "\n",
        "    통화명\t환율\n",
        "    달러\t1167\n",
        "    엔\t1.096\n",
        "    유로\t1268\n",
        "    위안\t171\n",
        "    >> 입력: 100 달러\n",
        "    116700.00 원"
      ],
      "metadata": {
        "id": "CTxw-nYA39iK"
      }
    },
    {
      "cell_type": "code",
      "source": [
        "monetary_unit = {\"dollar\" : 1167,\n",
        "                 \"yen\" : 1096,\n",
        "                 \"euro\" : 1268,\n",
        "                 \"yuan\" : 171}\n",
        "user_input = float(input(\"금액을 입력하세요 : \"))\n",
        "unit_input = input(\"화폐단위를 입력하세요 : \")\n",
        "\n",
        "if unit_input in monetary_unit.keys():\n",
        "  print(user_input * monetary_unit[unit_input])\n",
        "else:\n",
        "  (print(\"그런단위는 없슴다\"))"
      ],
      "metadata": {
        "colab": {
          "base_uri": "https://localhost:8080/"
        },
        "id": "11DldFHa3_QV",
        "outputId": "6c3ba5bc-e1ea-45cb-db84-c8e864e4c3cb"
      },
      "execution_count": null,
      "outputs": [
        {
          "output_type": "stream",
          "name": "stdout",
          "text": [
            "금액을 입력하세요 : 100\n",
            "화폐단위를 입력하세요 : dollar\n",
            "116700.0\n"
          ]
        }
      ]
    },
    {
      "cell_type": "markdown",
      "source": [
        "124\n",
        "\n",
        "사용자로부터 세 개의 숫자를 입력 받은 후 가장 큰 숫자를 \n",
        "\n",
        "출력하라.\n",
        "\n",
        "    >> input number1: 10\n",
        "    >> input number2: 9\n",
        "    >> input number3: 20\n",
        "    20"
      ],
      "metadata": {
        "id": "w2ORFy9w39ma"
      }
    },
    {
      "cell_type": "code",
      "source": [
        "# #sol1)\n",
        "# num1 = int(input(\"첫 번 째 숫자를 입력하세요\"))\n",
        "# num2 = int(input(\"두 번 째 숫자를 입력하세요\"))\n",
        "# num3 = int(input(\"세 번 째 숫자를 입력하세요\"))\n",
        "\n",
        "# num_lst = [num1, num2, num3]\n",
        "# print(max(num_lst))\n",
        "\n",
        "#sol2) 굳이 조건문을 쓰겠다면???\n",
        "num1 = int(input(\"첫 번 째 숫자를 입력하세요\"))\n",
        "num2 = int(input(\"두 번 째 숫자를 입력하세요\"))\n",
        "num3 = int(input(\"세 번 째 숫자를 입력하세요\"))\n",
        "\n",
        "\n",
        "\n",
        "if num1 >= num2 and num1 >= num3:\n",
        "  print(num1)\n",
        "elif num2 >= num1 and num2 >= num3:\n",
        "  print(num2)\n",
        "else:\n",
        "  print(num3)"
      ],
      "metadata": {
        "id": "kkaMFMbX3_Zz",
        "colab": {
          "base_uri": "https://localhost:8080/"
        },
        "outputId": "2a857e2d-60dc-488c-d315-2b1c61ba2fb2"
      },
      "execution_count": null,
      "outputs": [
        {
          "output_type": "stream",
          "name": "stdout",
          "text": [
            "첫 번 째 숫자를 입력하세요3\n",
            "두 번 째 숫자를 입력하세요5\n",
            "세 번 째 숫자를 입력하세요4\n",
            "5\n"
          ]
        }
      ]
    },
    {
      "cell_type": "markdown",
      "source": [
        "125\n",
        "\n",
        "휴대폰 번호 앞자리에 따라 통신사는 아래와 같이 구분된다. 사용자로부터 휴대전화 \n",
        "\n",
        "번호를 입력 받고, 통신사를 출력하는 프로그램을 작성하라.\n",
        "\n",
        "    번호\t통신사\n",
        "    011\tSKT\n",
        "    016\tKT\n",
        "    019\tLGU\n",
        "    010\t알수없음\n",
        "    >> 휴대전화 번호 입력: 011-345-1922\n",
        "    당신은 SKT 사용자입니다."
      ],
      "metadata": {
        "id": "mjiqIMeK39qS"
      }
    },
    {
      "cell_type": "code",
      "source": [
        "#sol1)\n",
        "user_num = input(\"휴대전화 번호 입력 : \")\n",
        "if user_num[:3] == \"010\":\n",
        "  print(\"unknown\")\n",
        "elif user_num[:3] == \"011\":\n",
        "  print(\"KT\")\n",
        "elif user_num[:3] == \"016\":\n",
        "  print(\"KT\")\n",
        "elif user_num[:3] == \"019\":\n",
        "  print(\"LGU\")\n",
        "\n",
        "#sol2)\n",
        "user_num = input(\"휴대전화 번호 입력 : \")\n",
        "num_split = user_num.split(\"-\")[0]\n",
        "if num_split == \"010\":\n",
        "  print(\"unknown\")\n",
        "elif num_split == \"011\":\n",
        "  print(\"KT\")\n",
        "elif num_split == \"016\":\n",
        "  print(\"KT\")\n",
        "elif num_split == \"019\":\n",
        "  print(\"LGU\")\n"
      ],
      "metadata": {
        "id": "4BZbGWxc3_ii",
        "colab": {
          "base_uri": "https://localhost:8080/"
        },
        "outputId": "0e423457-4e03-448c-d1c7-64f1ee53578a"
      },
      "execution_count": null,
      "outputs": [
        {
          "output_type": "stream",
          "name": "stdout",
          "text": [
            "휴대전화 번호 입력 : 016-1234-5678\n",
            "KT\n"
          ]
        }
      ]
    },
    {
      "cell_type": "markdown",
      "source": [
        "126\n",
        "\n",
        "우편번호는 5자리로 구성되는데, 앞의 세자리는 구를 \n",
        "\n",
        "나타낸다. 예를들어, 강북구의 경우 010, 011, 012 세 자리로 \n",
        "\n",
        "시작한다.\n",
        "\n",
        "    -\t0\t1\t2\t3\t4\t5\t6\t7\t8\t9\n",
        "\n",
        "    01\t강북구\t강북구\t강북구\t도봉구\t도봉구\t도봉구\t\n",
        "\n",
        "    노원구\t노원구\t노원구\t노원구\n",
        "\n",
        "    사용자로 부터 5자리 우편번호를 입력받고 구를 판별하라\n",
        "\n",
        "    >> 우편번호: 01400\n",
        "    도봉구"
      ],
      "metadata": {
        "id": "C2eliao339uL"
      }
    },
    {
      "cell_type": "code",
      "source": [
        "#sol1)\n",
        "while True:\n",
        "  a = input(\"우편번호 5자리 입력하세요 : \")\n",
        "  if len(a)!=5:\n",
        "    print(\"유효하지 않은 입력값입니다.\", a)\n",
        "  else:\n",
        "    if a[:2] == \"01\":\n",
        "      if (int(a[2])>=0 and int(a[2])<=2):\n",
        "        print(\"강북구\")\n",
        "      elif (int(a[2])>=3 and int(a[2])<=5):\n",
        "        print(\"도봉구\")\n",
        "      else:\n",
        "        print(\"노원구\")\n",
        "      break\n"
      ],
      "metadata": {
        "id": "5bH7Gmws3_q7",
        "colab": {
          "base_uri": "https://localhost:8080/"
        },
        "outputId": "6d926a8b-87ec-4da2-bc65-4d56cac2f9d8"
      },
      "execution_count": null,
      "outputs": [
        {
          "output_type": "stream",
          "name": "stdout",
          "text": [
            "우편번호 5자리 입력하세요 : 01800\n",
            "노원구\n"
          ]
        }
      ]
    },
    {
      "cell_type": "markdown",
      "source": [
        "127\n",
        "\n",
        "주민등록번호 뒷 자리 7자리 중 첫째 자리는 성별을 \n",
        "\n",
        "나타내는데, 1, 3은 남자 2, 4는 여자를 의미한다. \n",
        "\n",
        "사용자로부터 13자리의 주민등록번호를 입력 받은 후 성별 \n",
        "\n",
        "(남자, 여자)를 출력하는 프로그램을 작성하라.\n",
        "\n",
        "    >> 주민등록번호: 821010-1635210\n",
        "    남자"
      ],
      "metadata": {
        "id": "jpqcGNOk39xs"
      }
    },
    {
      "cell_type": "code",
      "source": [
        "while True:\n",
        "  user_num = input(\"주민번호 :\")\n",
        "  if len(user_num) == 14 and \"-\" in user_num:\n",
        "    gender = user_num.split(\"-\")\n",
        "    print(gender[1][0])\n",
        "    if gender[1][0] == \"1\" or gender[1][0] ==\"3\":\n",
        "      print(\"male\")\n",
        "    elif gender[1][0] == \"2\" or gender[1][0] == \"4\":\n",
        "      print(\"female\")\n",
        "    else:\n",
        "      print(\"당신은 외계인입니까?\")\n",
        "    break\n",
        "  else:\n",
        "    print(\"error\", user_num)"
      ],
      "metadata": {
        "id": "hvfHo25H3_0K",
        "colab": {
          "base_uri": "https://localhost:8080/"
        },
        "outputId": "192193bf-4cf0-43fc-e82e-e94d5043760a"
      },
      "execution_count": null,
      "outputs": [
        {
          "output_type": "stream",
          "name": "stdout",
          "text": [
            "주민번호 :970323-55\n",
            "error 970323-55\n",
            "주민번호 :970323-1177618\n",
            "1\n",
            "male\n"
          ]
        }
      ]
    },
    {
      "cell_type": "markdown",
      "source": [
        "128\n",
        "\n",
        "주민등록번호의 뒷 자리 7자리 중 두번째와 세번째는 \n",
        "\n",
        "지역코드를 의미한다. 주민 등록 번호를 입력 받은 후 출생지가 \n",
        "\n",
        "서울인지 아닌지 판단하는 코드를 작성하라\n",
        "\n",
        "    지역코드\t출생지\n",
        "    00 ~ 08\t서울\n",
        "    09 ~ 12\t부산\n",
        "    >> 주민등록번호: 821010-1635210\n",
        "    서울이 아닙니다.\n",
        "    >> 주민등록번호: 861010-1015210\n",
        "    서울 입니다."
      ],
      "metadata": {
        "id": "BtyK69CX391b"
      }
    },
    {
      "cell_type": "code",
      "source": [
        "while True:\n",
        "  user_num = input(\"주민번호 :\")\n",
        "  if len(user_num) == 14 and \"-\" in user_num:\n",
        "    region = user_num.split(\"-\")[1][1:3]\n",
        "    print(region)\n",
        "    if int(region) <=8:\n",
        "    # if region[0] ==\"0\" and int(region[1]) < 9:\n",
        "      print(\"서울\")\n",
        "    elif int(region) >= 9 and int(region) <= 12:\n",
        "      print(\"부산\")\n",
        "    else:\n",
        "      print(\"기타도시\")\n",
        "    break"
      ],
      "metadata": {
        "id": "Vl6jJMT33_86",
        "colab": {
          "base_uri": "https://localhost:8080/"
        },
        "outputId": "116b7f9d-6533-41ec-cc65-d8082824bd01"
      },
      "execution_count": null,
      "outputs": [
        {
          "output_type": "stream",
          "name": "stdout",
          "text": [
            "주민번호 :970323-1177618\n",
            "17\n",
            "기타도시\n"
          ]
        }
      ]
    },
    {
      "cell_type": "markdown",
      "source": [
        "129\n",
        "\n",
        "주민등록번호는 13자리로 구성되는데 마지막 자리수는 \n",
        "\n",
        "주민등록번호의 유효성을 체크하는데 사용된다. 먼저 \n",
        "\n",
        "앞에서부터 12자리의 숫자에 2, 3, 4, 5, 6, 7, 8, 9, 2, 3, 4, \n",
        "\n",
        "5를 차례로 곱한 뒤 그 값을 전부 더한다. 연산 결과 값을 11로 \n",
        "\n",
        "나누면 나머지가 나오는데 11에서 나머지를 뺀 값이 \n",
        "\n",
        "주민등록번호의 마지막 번호가 된다.\n",
        "\n",
        "  8 2 1 0 1 0 - 1 6 3 5 2 1 0\n",
        "x 2 3 4 5 6 7   8 9 2 3 4 5 \n",
        "-----------------------------\n",
        "1차 계산: (8*2 + 2*3 + 1*4 + 0*5 + 1*6 + 0*7 + 1*8 + 6*9 + \n",
        "\n",
        "3*2 + 5*3 + 2*4 + 1*5) = (128 % 11) = 7\n",
        "\n",
        "2차 계산: 11 -7 = 4\n",
        "\n",
        "위와 같이 821010-1635210에 대해서 계산을 해보면 마지막 \n",
        "\n",
        "자리는 4가 되어야 함을 알 수 있다. 즉, 821010-1635210은 \n",
        "\n",
        "유효하지 않은 주민등록번호임을 알 수 있다.\n",
        "\n",
        "다음과 같이 사용자로부터 주민등록번호를 입력받은 후 \n",
        "\n",
        "주민등록번호가 유효한지를 출력하는 프로그램을 작성하라.\n",
        "\n",
        "    >> 주민등록번호: 821010-1635210\n",
        "    유효하지 않은 주민등록번호입니다. "
      ],
      "metadata": {
        "id": "5WZxGLoP3954"
      }
    },
    {
      "cell_type": "code",
      "source": [
        "while True:\n",
        "  user_num = input(\"주민번호 :\")\n",
        "  if len(user_num) == 14 and \"-\" in user_num:\n",
        "    num_id_f = user_num.split(\"-\")[0]\n",
        "    num_id_b = user_num.split(\"-\")[1]\n",
        "    num_full = (num_id_f + num_id_b)\n",
        "    cal = ((int(num_full[0])*2 \n",
        "    +int(num_full[1]) * 3\n",
        "    +int(num_full[2]) * 4\n",
        "    +int(num_full[3]) * 5\n",
        "    +int(num_full[4]) * 6\n",
        "    +int(num_full[5]) * 7\n",
        "    +int(num_full[6]) * 8\n",
        "    +int(num_full[7]) * 9\n",
        "    +int(num_full[8]) * 2\n",
        "    +int(num_full[9]) * 3\n",
        "    +int(num_full[10]) * 4\n",
        "    +int(num_full[11]) * 5) % 11)\n",
        "    if 11 - cal == int(num_full[-1]):\n",
        "      print(\"유효함\")\n",
        "    else:\n",
        "      print(\"유효하지않음.\")\n",
        "    break\n"
      ],
      "metadata": {
        "id": "xI1QxpEb4AFr",
        "colab": {
          "base_uri": "https://localhost:8080/"
        },
        "outputId": "fb18ec4b-f7df-4ce1-c94c-61bd7ec6b26a"
      },
      "execution_count": null,
      "outputs": [
        {
          "output_type": "stream",
          "name": "stdout",
          "text": [
            "주민번호 :970323-1177617\n",
            "유효하지않음.\n"
          ]
        }
      ]
    },
    {
      "cell_type": "markdown",
      "source": [
        "130\n",
        "\n",
        "아래 코드는 비트코인의 가격 정보를 딕셔너리로 가져오는 \n",
        "\n",
        "코드이다.\n",
        "\n",
        "    import requests\n",
        "    btc = requests.get(\"https://api.bithumb.com/public/ticker/\").json()['data']\n",
        "\n",
        "btc 딕셔너리 안에는 시가, 종가, 최고가, 최저가 등이 \n",
        "\n",
        "저장되어 있다. 최고가와 최저가의 차이를 변동폭으로 정의할 \n",
        "\n",
        "때 (시가 + 변동폭)이 최고가 보다 높을 경우 \"상승장\", 그렇지 \n",
        "\n",
        "않은 경우 \"하락장\" 문자열을 출력하라.\n",
        "\n",
        "    Key Name\tDescription\n",
        "    opening_price\t최근 24시간 내 시작 거래금액\n",
        "    closing_price\t최근 24시간 내 마지막 거래금액\n",
        "    min_price\t최근 24시간 내 최저 거래금액\n",
        "    max_price\t최근 24시간 내 최고 거래금액"
      ],
      "metadata": {
        "id": "jYJ1L3iI39_F"
      }
    },
    {
      "cell_type": "code",
      "source": [
        "import requests\n",
        "btc = requests.get(\"https://api.bithumb.com/public/ticker/\").json()['data']\n",
        "\n",
        "opening_price = float(btc[\"opening_price\"])\n",
        "max_price = float(btc[\"max_price\"])\n",
        "min_price = float(btc[\"min_price\"])\n",
        "gap = max_price - min_price\n",
        "\n",
        "if gap + opening_price > max_price:\n",
        "  print(\"상승장\")\n",
        "else:\n",
        "  print(\"하락장\")\n"
      ],
      "metadata": {
        "id": "PyiJIZfj4AU6",
        "colab": {
          "base_uri": "https://localhost:8080/"
        },
        "outputId": "4e0ca6b7-e2e3-4a40-9d93-f6908cda98bf"
      },
      "execution_count": null,
      "outputs": [
        {
          "output_type": "stream",
          "name": "stdout",
          "text": [
            "상승장\n"
          ]
        }
      ]
    }
  ]
}